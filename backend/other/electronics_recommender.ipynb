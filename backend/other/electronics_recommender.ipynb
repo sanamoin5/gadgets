{
 "cells": [
  {
   "cell_type": "code",
   "execution_count": 1,
   "id": "initial_id",
   "metadata": {
    "collapsed": true,
    "ExecuteTime": {
     "end_time": "2025-03-19T14:41:05.461415Z",
     "start_time": "2025-03-19T14:41:02.091596Z"
    }
   },
   "outputs": [],
   "source": [
    "import torch"
   ]
  },
  {
   "cell_type": "code",
   "execution_count": 37,
   "outputs": [],
   "source": [
    "import numpy as np"
   ],
   "metadata": {
    "collapsed": false,
    "ExecuteTime": {
     "end_time": "2025-03-19T14:51:13.819611Z",
     "start_time": "2025-03-19T14:51:13.814558Z"
    }
   },
   "id": "4f5151608f3d0f15"
  },
  {
   "cell_type": "code",
   "execution_count": 8,
   "outputs": [],
   "source": [
    "my_tensor = torch.tensor([[1,2,3,5], [2,3,5,6]], dtype=torch.float32, device=\"mps\", requires_grad=True)"
   ],
   "metadata": {
    "collapsed": false,
    "ExecuteTime": {
     "end_time": "2025-03-19T14:43:03.231686Z",
     "start_time": "2025-03-19T14:43:03.226395Z"
    }
   },
   "id": "ff8b3140e548bd6e"
  },
  {
   "cell_type": "code",
   "execution_count": 9,
   "outputs": [
    {
     "data": {
      "text/plain": "tensor([[1., 2., 3., 5.],\n        [2., 3., 5., 6.]], device='mps:0', requires_grad=True)"
     },
     "execution_count": 9,
     "metadata": {},
     "output_type": "execute_result"
    }
   ],
   "source": [
    "my_tensor"
   ],
   "metadata": {
    "collapsed": false,
    "ExecuteTime": {
     "end_time": "2025-03-19T14:43:07.328863Z",
     "start_time": "2025-03-19T14:43:07.306971Z"
    }
   },
   "id": "9de2d310cc2d4e2d"
  },
  {
   "cell_type": "code",
   "execution_count": 10,
   "outputs": [
    {
     "data": {
      "text/plain": "True"
     },
     "execution_count": 10,
     "metadata": {},
     "output_type": "execute_result"
    }
   ],
   "source": [
    "my_tensor.requires_grad"
   ],
   "metadata": {
    "collapsed": false,
    "ExecuteTime": {
     "end_time": "2025-03-19T14:43:24.910860Z",
     "start_time": "2025-03-19T14:43:24.908708Z"
    }
   },
   "id": "1aee3c1214e9469b"
  },
  {
   "cell_type": "code",
   "execution_count": 17,
   "outputs": [],
   "source": [
    "x = torch.rand(size=(3,3))"
   ],
   "metadata": {
    "collapsed": false,
    "ExecuteTime": {
     "end_time": "2025-03-19T14:44:28.818113Z",
     "start_time": "2025-03-19T14:44:28.814345Z"
    }
   },
   "id": "3a39ae2469af2475"
  },
  {
   "cell_type": "code",
   "execution_count": 18,
   "outputs": [
    {
     "data": {
      "text/plain": "tensor([[0.7872, 0.2260, 0.2669],\n        [0.5006, 0.3780, 0.0115],\n        [0.8301, 0.5176, 0.3074]])"
     },
     "execution_count": 18,
     "metadata": {},
     "output_type": "execute_result"
    }
   ],
   "source": [
    "x"
   ],
   "metadata": {
    "collapsed": false,
    "ExecuteTime": {
     "end_time": "2025-03-19T14:44:29.474740Z",
     "start_time": "2025-03-19T14:44:29.471177Z"
    }
   },
   "id": "37a7be70dd8b2ab8"
  },
  {
   "cell_type": "code",
   "execution_count": 20,
   "outputs": [
    {
     "data": {
      "text/plain": "tensor([[1., 0., 0., 0.],\n        [0., 1., 0., 0.],\n        [0., 0., 1., 0.],\n        [0., 0., 0., 1.],\n        [0., 0., 0., 0.]])"
     },
     "execution_count": 20,
     "metadata": {},
     "output_type": "execute_result"
    }
   ],
   "source": [
    "torch.eye(5,4)"
   ],
   "metadata": {
    "collapsed": false,
    "ExecuteTime": {
     "end_time": "2025-03-19T14:45:03.900792Z",
     "start_time": "2025-03-19T14:45:03.897287Z"
    }
   },
   "id": "4281da934a6ab4bb"
  },
  {
   "cell_type": "code",
   "execution_count": 21,
   "outputs": [
    {
     "data": {
      "text/plain": "tensor([0, 1, 2, 3, 4])"
     },
     "execution_count": 21,
     "metadata": {},
     "output_type": "execute_result"
    }
   ],
   "source": [
    "torch.arange(start=0, end=5, step=1)"
   ],
   "metadata": {
    "collapsed": false,
    "ExecuteTime": {
     "end_time": "2025-03-19T14:45:32.479646Z",
     "start_time": "2025-03-19T14:45:32.471673Z"
    }
   },
   "id": "dc33e86071317645"
  },
  {
   "cell_type": "code",
   "execution_count": 23,
   "outputs": [
    {
     "data": {
      "text/plain": "tensor([0.1700, 0.2622, 0.3544, 0.4467, 0.5389, 0.6311, 0.7233, 0.8156, 0.9078,\n        1.0000])"
     },
     "execution_count": 23,
     "metadata": {},
     "output_type": "execute_result"
    }
   ],
   "source": [
    "torch.linspace(start=0.17, end=1, steps=10)"
   ],
   "metadata": {
    "collapsed": false,
    "ExecuteTime": {
     "end_time": "2025-03-19T14:47:04.149089Z",
     "start_time": "2025-03-19T14:47:04.145166Z"
    }
   },
   "id": "662dc31f0d0fd85a"
  },
  {
   "cell_type": "code",
   "execution_count": 27,
   "outputs": [
    {
     "data": {
      "text/plain": "tensor([[0.1624, 0.0121, 0.0818, 0.9185, 0.0961]])"
     },
     "execution_count": 27,
     "metadata": {},
     "output_type": "execute_result"
    }
   ],
   "source": [
    "torch.empty(size=(1,5)).uniform_(0,1)"
   ],
   "metadata": {
    "collapsed": false,
    "ExecuteTime": {
     "end_time": "2025-03-19T14:48:39.603940Z",
     "start_time": "2025-03-19T14:48:39.598843Z"
    }
   },
   "id": "80ff732f880e71fc"
  },
  {
   "cell_type": "code",
   "execution_count": 34,
   "outputs": [],
   "source": [
    "tensor = torch.arange(6)"
   ],
   "metadata": {
    "collapsed": false,
    "ExecuteTime": {
     "end_time": "2025-03-19T14:50:34.589418Z",
     "start_time": "2025-03-19T14:50:34.585947Z"
    }
   },
   "id": "16f836550fd7e2fa"
  },
  {
   "cell_type": "code",
   "execution_count": 31,
   "outputs": [
    {
     "data": {
      "text/plain": "tensor([0, 1, 2, 3, 4, 5], dtype=torch.int16)"
     },
     "execution_count": 31,
     "metadata": {},
     "output_type": "execute_result"
    }
   ],
   "source": [
    "tensor.short()"
   ],
   "metadata": {
    "collapsed": false,
    "ExecuteTime": {
     "end_time": "2025-03-19T14:50:09.379559Z",
     "start_time": "2025-03-19T14:50:09.373105Z"
    }
   },
   "id": "d1127635e5107311"
  },
  {
   "cell_type": "code",
   "execution_count": 32,
   "outputs": [
    {
     "data": {
      "text/plain": "tensor([0, 1, 2, 3, 4, 5])"
     },
     "execution_count": 32,
     "metadata": {},
     "output_type": "execute_result"
    }
   ],
   "source": [
    "tensor.long()"
   ],
   "metadata": {
    "collapsed": false,
    "ExecuteTime": {
     "end_time": "2025-03-19T14:50:17.606946Z",
     "start_time": "2025-03-19T14:50:17.600079Z"
    }
   },
   "id": "dee88a17db52b66f"
  },
  {
   "cell_type": "code",
   "execution_count": 35,
   "outputs": [
    {
     "data": {
      "text/plain": "tensor([0., 1., 2., 3., 4., 5.])"
     },
     "execution_count": 35,
     "metadata": {},
     "output_type": "execute_result"
    }
   ],
   "source": [
    "tensor.float()"
   ],
   "metadata": {
    "collapsed": false,
    "ExecuteTime": {
     "end_time": "2025-03-19T14:50:36.004559Z",
     "start_time": "2025-03-19T14:50:36.000428Z"
    }
   },
   "id": "74487ef017bc0da9"
  },
  {
   "cell_type": "code",
   "execution_count": 36,
   "outputs": [
    {
     "data": {
      "text/plain": "tensor([0., 1., 2., 3., 4., 5.], dtype=torch.float64)"
     },
     "execution_count": 36,
     "metadata": {},
     "output_type": "execute_result"
    }
   ],
   "source": [
    "tensor.double()"
   ],
   "metadata": {
    "collapsed": false,
    "ExecuteTime": {
     "end_time": "2025-03-19T14:50:41.417576Z",
     "start_time": "2025-03-19T14:50:41.413180Z"
    }
   },
   "id": "d42a419372296018"
  },
  {
   "cell_type": "code",
   "execution_count": 38,
   "outputs": [],
   "source": [
    "np_array = np.zeros((5,5))"
   ],
   "metadata": {
    "collapsed": false,
    "ExecuteTime": {
     "end_time": "2025-03-19T14:51:25.387356Z",
     "start_time": "2025-03-19T14:51:25.378703Z"
    }
   },
   "id": "374be65ebe48a386"
  },
  {
   "cell_type": "code",
   "execution_count": 39,
   "outputs": [
    {
     "data": {
      "text/plain": "array([[0., 0., 0., 0., 0.],\n       [0., 0., 0., 0., 0.],\n       [0., 0., 0., 0., 0.],\n       [0., 0., 0., 0., 0.],\n       [0., 0., 0., 0., 0.]])"
     },
     "execution_count": 39,
     "metadata": {},
     "output_type": "execute_result"
    }
   ],
   "source": [
    "np_array"
   ],
   "metadata": {
    "collapsed": false,
    "ExecuteTime": {
     "end_time": "2025-03-19T14:51:27.807078Z",
     "start_time": "2025-03-19T14:51:27.799781Z"
    }
   },
   "id": "5327d18683ae397d"
  },
  {
   "cell_type": "code",
   "execution_count": 55,
   "outputs": [],
   "source": [
    "x = torch.tensor([1,2,3])\n",
    "y= torch.tensor([9,8,7])"
   ],
   "metadata": {
    "collapsed": false,
    "ExecuteTime": {
     "end_time": "2025-03-19T14:54:16.899307Z",
     "start_time": "2025-03-19T14:54:16.893507Z"
    }
   },
   "id": "7c050b09b84ce57e"
  },
  {
   "cell_type": "code",
   "execution_count": 56,
   "outputs": [
    {
     "data": {
      "text/plain": "tensor([10, 10, 10])"
     },
     "execution_count": 56,
     "metadata": {},
     "output_type": "execute_result"
    }
   ],
   "source": [
    "x+y"
   ],
   "metadata": {
    "collapsed": false,
    "ExecuteTime": {
     "end_time": "2025-03-19T14:54:17.164148Z",
     "start_time": "2025-03-19T14:54:17.152410Z"
    }
   },
   "id": "f4dd25977a5fd573"
  },
  {
   "cell_type": "code",
   "execution_count": 42,
   "outputs": [],
   "source": [
    "z = torch.empty(3)"
   ],
   "metadata": {
    "collapsed": false,
    "ExecuteTime": {
     "end_time": "2025-03-19T14:52:24.079314Z",
     "start_time": "2025-03-19T14:52:24.072341Z"
    }
   },
   "id": "da7360a7d994ff"
  },
  {
   "cell_type": "code",
   "execution_count": 43,
   "outputs": [
    {
     "data": {
      "text/plain": "tensor([10., 10., 10.])"
     },
     "execution_count": 43,
     "metadata": {},
     "output_type": "execute_result"
    }
   ],
   "source": [
    "torch.add(x,y,out=z)"
   ],
   "metadata": {
    "collapsed": false,
    "ExecuteTime": {
     "end_time": "2025-03-19T14:52:35.666386Z",
     "start_time": "2025-03-19T14:52:35.655522Z"
    }
   },
   "id": "98d112971f152473"
  },
  {
   "cell_type": "code",
   "execution_count": 44,
   "outputs": [],
   "source": [
    "z = torch.add(x,y)"
   ],
   "metadata": {
    "collapsed": false,
    "ExecuteTime": {
     "end_time": "2025-03-19T14:52:52.608136Z",
     "start_time": "2025-03-19T14:52:52.599598Z"
    }
   },
   "id": "9849024d2e1a5851"
  },
  {
   "cell_type": "code",
   "execution_count": 45,
   "outputs": [],
   "source": [
    "z2 = x-y"
   ],
   "metadata": {
    "collapsed": false,
    "ExecuteTime": {
     "end_time": "2025-03-19T14:53:01.257481Z",
     "start_time": "2025-03-19T14:53:01.244762Z"
    }
   },
   "id": "4066910b35d218a1"
  },
  {
   "cell_type": "code",
   "execution_count": 46,
   "outputs": [
    {
     "data": {
      "text/plain": "tensor([-8, -6, -4])"
     },
     "execution_count": 46,
     "metadata": {},
     "output_type": "execute_result"
    }
   ],
   "source": [
    "z2"
   ],
   "metadata": {
    "collapsed": false,
    "ExecuteTime": {
     "end_time": "2025-03-19T14:53:03.711830Z",
     "start_time": "2025-03-19T14:53:03.704689Z"
    }
   },
   "id": "5c15b66ddc59923b"
  },
  {
   "cell_type": "code",
   "execution_count": 53,
   "outputs": [],
   "source": [
    "z3 = torch.true_divide(x,y)"
   ],
   "metadata": {
    "collapsed": false,
    "ExecuteTime": {
     "end_time": "2025-03-19T14:54:07.293392Z",
     "start_time": "2025-03-19T14:54:07.289981Z"
    }
   },
   "id": "f7dc877f8e7bb454"
  },
  {
   "cell_type": "code",
   "execution_count": 54,
   "outputs": [
    {
     "data": {
      "text/plain": "tensor([0.1111, 0.2222, 0.3333])"
     },
     "execution_count": 54,
     "metadata": {},
     "output_type": "execute_result"
    }
   ],
   "source": [
    "z3"
   ],
   "metadata": {
    "collapsed": false,
    "ExecuteTime": {
     "end_time": "2025-03-19T14:54:08.729882Z",
     "start_time": "2025-03-19T14:54:08.724412Z"
    }
   },
   "id": "f932e7988d78cd24"
  },
  {
   "cell_type": "code",
   "execution_count": 57,
   "outputs": [
    {
     "data": {
      "text/plain": "tensor([1., 2., 3.])"
     },
     "execution_count": 57,
     "metadata": {},
     "output_type": "execute_result"
    }
   ],
   "source": [
    "t = torch.zeros(3)\n",
    "t.add_(x)\n",
    "t"
   ],
   "metadata": {
    "collapsed": false,
    "ExecuteTime": {
     "end_time": "2025-03-19T14:54:46.896275Z",
     "start_time": "2025-03-19T14:54:46.878518Z"
    }
   },
   "id": "5d42a2923a920c68"
  },
  {
   "cell_type": "code",
   "execution_count": 58,
   "outputs": [],
   "source": [
    "t+=x"
   ],
   "metadata": {
    "collapsed": false,
    "ExecuteTime": {
     "end_time": "2025-03-19T14:54:54.308285Z",
     "start_time": "2025-03-19T14:54:54.289885Z"
    }
   },
   "id": "5e30559f96e7c297"
  },
  {
   "cell_type": "code",
   "execution_count": 59,
   "outputs": [
    {
     "data": {
      "text/plain": "tensor([2., 4., 6.])"
     },
     "execution_count": 59,
     "metadata": {},
     "output_type": "execute_result"
    }
   ],
   "source": [
    "t"
   ],
   "metadata": {
    "collapsed": false,
    "ExecuteTime": {
     "end_time": "2025-03-19T14:54:57.682694Z",
     "start_time": "2025-03-19T14:54:57.667648Z"
    }
   },
   "id": "de02b306d44d467a"
  },
  {
   "cell_type": "code",
   "execution_count": 60,
   "outputs": [
    {
     "data": {
      "text/plain": "tensor([1, 4, 9])"
     },
     "execution_count": 60,
     "metadata": {},
     "output_type": "execute_result"
    }
   ],
   "source": [
    "z = x.pow(2)\n",
    "z"
   ],
   "metadata": {
    "collapsed": false,
    "ExecuteTime": {
     "end_time": "2025-03-19T14:55:28.449170Z",
     "start_time": "2025-03-19T14:55:28.441588Z"
    }
   },
   "id": "5ba3f548713c2a77"
  },
  {
   "cell_type": "code",
   "execution_count": 61,
   "outputs": [],
   "source": [
    "z = x**2"
   ],
   "metadata": {
    "collapsed": false,
    "ExecuteTime": {
     "end_time": "2025-03-19T14:55:41.028187Z",
     "start_time": "2025-03-19T14:55:41.009724Z"
    }
   },
   "id": "c9f63e6136e3d109"
  },
  {
   "cell_type": "code",
   "execution_count": 62,
   "outputs": [
    {
     "data": {
      "text/plain": "tensor([1, 4, 9])"
     },
     "execution_count": 62,
     "metadata": {},
     "output_type": "execute_result"
    }
   ],
   "source": [
    "z"
   ],
   "metadata": {
    "collapsed": false,
    "ExecuteTime": {
     "end_time": "2025-03-19T14:55:42.210742Z",
     "start_time": "2025-03-19T14:55:42.193410Z"
    }
   },
   "id": "b59dcf09ef313c30"
  },
  {
   "cell_type": "code",
   "execution_count": 63,
   "outputs": [],
   "source": [
    "z = x>0"
   ],
   "metadata": {
    "collapsed": false,
    "ExecuteTime": {
     "end_time": "2025-03-19T14:56:02.933003Z",
     "start_time": "2025-03-19T14:56:02.924435Z"
    }
   },
   "id": "2129fa9e4b8bafe1"
  },
  {
   "cell_type": "code",
   "execution_count": 64,
   "outputs": [
    {
     "data": {
      "text/plain": "tensor([True, True, True])"
     },
     "execution_count": 64,
     "metadata": {},
     "output_type": "execute_result"
    }
   ],
   "source": [
    "z"
   ],
   "metadata": {
    "collapsed": false,
    "ExecuteTime": {
     "end_time": "2025-03-19T14:56:04.284398Z",
     "start_time": "2025-03-19T14:56:04.266673Z"
    }
   },
   "id": "e00d55d16db41399"
  },
  {
   "cell_type": "code",
   "execution_count": 65,
   "outputs": [
    {
     "data": {
      "text/plain": "tensor([False, False, False])"
     },
     "execution_count": 65,
     "metadata": {},
     "output_type": "execute_result"
    }
   ],
   "source": [
    "x>y"
   ],
   "metadata": {
    "collapsed": false,
    "ExecuteTime": {
     "end_time": "2025-03-19T14:56:09.005599Z",
     "start_time": "2025-03-19T14:56:08.982828Z"
    }
   },
   "id": "553ffe55eb235350"
  },
  {
   "cell_type": "code",
   "execution_count": 66,
   "outputs": [
    {
     "data": {
      "text/plain": "tensor([False, False, False])"
     },
     "execution_count": 66,
     "metadata": {},
     "output_type": "execute_result"
    }
   ],
   "source": [
    "y<x"
   ],
   "metadata": {
    "collapsed": false,
    "ExecuteTime": {
     "end_time": "2025-03-19T14:56:12.997739Z",
     "start_time": "2025-03-19T14:56:12.975848Z"
    }
   },
   "id": "bbca4ed5e2a32147"
  },
  {
   "cell_type": "code",
   "execution_count": 67,
   "outputs": [
    {
     "data": {
      "text/plain": "tensor([True, True, True])"
     },
     "execution_count": 67,
     "metadata": {},
     "output_type": "execute_result"
    }
   ],
   "source": [
    "y>x"
   ],
   "metadata": {
    "collapsed": false,
    "ExecuteTime": {
     "end_time": "2025-03-19T14:56:18.313483Z",
     "start_time": "2025-03-19T14:56:18.290902Z"
    }
   },
   "id": "9544cb73ff3ca86d"
  },
  {
   "cell_type": "code",
   "execution_count": 92,
   "outputs": [],
   "source": [
    "x = torch.rand((2))\n",
    "y = torch.rand((2))"
   ],
   "metadata": {
    "collapsed": false,
    "ExecuteTime": {
     "end_time": "2025-03-19T15:13:05.974104Z",
     "start_time": "2025-03-19T15:13:05.969688Z"
    }
   },
   "id": "490cc4ffbc0c8498"
  },
  {
   "cell_type": "code",
   "execution_count": 75,
   "outputs": [
    {
     "data": {
      "text/plain": "tensor([[1.2934, 0.4377, 1.0549],\n        [1.1728, 0.5008, 1.0647]])"
     },
     "execution_count": 75,
     "metadata": {},
     "output_type": "execute_result"
    }
   ],
   "source": [
    "x.mm(y)"
   ],
   "metadata": {
    "collapsed": false,
    "ExecuteTime": {
     "end_time": "2025-03-19T14:57:48.083438Z",
     "start_time": "2025-03-19T14:57:48.079432Z"
    }
   },
   "id": "2b28cc24bd494d90"
  },
  {
   "cell_type": "code",
   "execution_count": 86,
   "outputs": [
    {
     "data": {
      "text/plain": "tensor([[2, 3],\n        [4, 5]])"
     },
     "execution_count": 86,
     "metadata": {},
     "output_type": "execute_result"
    }
   ],
   "source": [
    "matrix_ex = torch.tensor([[2,3], [4,5]])\n",
    "matrix_ex"
   ],
   "metadata": {
    "collapsed": false,
    "ExecuteTime": {
     "end_time": "2025-03-19T15:06:32.445152Z",
     "start_time": "2025-03-19T15:06:32.442523Z"
    }
   },
   "id": "c63f6a0b89d112ba"
  },
  {
   "cell_type": "code",
   "execution_count": 87,
   "outputs": [
    {
     "data": {
      "text/plain": "tensor([[16, 21],\n        [28, 37]])"
     },
     "execution_count": 87,
     "metadata": {},
     "output_type": "execute_result"
    }
   ],
   "source": [
    "matrix_ex.matrix_power(2)"
   ],
   "metadata": {
    "collapsed": false,
    "ExecuteTime": {
     "end_time": "2025-03-19T15:06:32.646294Z",
     "start_time": "2025-03-19T15:06:32.644014Z"
    }
   },
   "id": "4ab81efb0c238c84"
  },
  {
   "cell_type": "code",
   "execution_count": 90,
   "outputs": [
    {
     "data": {
      "text/plain": "tensor([[0.1904, 0.5190, 0.2642, 0.4517, 0.3647],\n        [0.1966, 0.3321, 0.3272, 0.4276, 0.3614]])"
     },
     "execution_count": 90,
     "metadata": {},
     "output_type": "execute_result"
    }
   ],
   "source": [
    "x*y"
   ],
   "metadata": {
    "collapsed": false,
    "ExecuteTime": {
     "end_time": "2025-03-19T15:11:35.608958Z",
     "start_time": "2025-03-19T15:11:35.603093Z"
    }
   },
   "id": "9cfc6d66bf52c16b"
  },
  {
   "cell_type": "code",
   "execution_count": 93,
   "outputs": [
    {
     "data": {
      "text/plain": "tensor(0.0704)"
     },
     "execution_count": 93,
     "metadata": {},
     "output_type": "execute_result"
    }
   ],
   "source": [
    "torch.dot(x,y)"
   ],
   "metadata": {
    "collapsed": false,
    "ExecuteTime": {
     "end_time": "2025-03-19T15:13:09.069200Z",
     "start_time": "2025-03-19T15:13:09.065692Z"
    }
   },
   "id": "f71ebdc9d59f8ee5"
  },
  {
   "cell_type": "code",
   "execution_count": 94,
   "outputs": [],
   "source": [
    "batch=32\n",
    "n=10\n",
    "m=20\n",
    "p=30"
   ],
   "metadata": {
    "collapsed": false,
    "ExecuteTime": {
     "end_time": "2025-03-19T15:14:29.046202Z",
     "start_time": "2025-03-19T15:14:29.026277Z"
    }
   },
   "id": "4f6875eb093766f2"
  },
  {
   "cell_type": "code",
   "execution_count": 95,
   "outputs": [],
   "source": [
    "t1 = torch.rand((batch, n, m))\n",
    "t2 = torch.rand((batch, m, p))\n"
   ],
   "metadata": {
    "collapsed": false,
    "ExecuteTime": {
     "end_time": "2025-03-19T15:15:03.761219Z",
     "start_time": "2025-03-19T15:15:03.738471Z"
    }
   },
   "id": "cd4b44d8d774069a"
  },
  {
   "cell_type": "code",
   "execution_count": 96,
   "outputs": [
    {
     "data": {
      "text/plain": "tensor([[[5.0578, 4.7713, 3.9898,  ..., 6.4475, 5.9040, 4.6910],\n         [5.6897, 5.4694, 4.7634,  ..., 7.9159, 6.8253, 5.4745],\n         [4.1715, 5.4804, 3.9372,  ..., 6.2521, 5.4755, 4.9232],\n         ...,\n         [4.8960, 5.2147, 4.6215,  ..., 6.3886, 5.2772, 5.1774],\n         [3.0790, 4.0631, 3.0843,  ..., 4.9050, 4.8819, 3.8140],\n         [4.9327, 5.6673, 3.9787,  ..., 6.4014, 5.5300, 4.9361]],\n\n        [[5.7046, 5.3456, 5.1660,  ..., 5.5344, 6.2070, 5.5643],\n         [6.1588, 4.7930, 4.9751,  ..., 5.0140, 5.1106, 4.6747],\n         [4.6228, 4.4489, 3.9343,  ..., 4.9556, 4.9892, 4.1043],\n         ...,\n         [5.5508, 5.0570, 3.7761,  ..., 5.5872, 5.8870, 5.6158],\n         [5.6837, 4.7590, 4.3818,  ..., 3.4284, 5.5562, 4.2822],\n         [5.9740, 5.6438, 4.8652,  ..., 5.2545, 6.4185, 5.5633]],\n\n        [[5.2623, 4.8393, 4.6573,  ..., 3.8713, 5.2645, 3.8800],\n         [6.1493, 5.7460, 4.8880,  ..., 4.3019, 5.2248, 4.4243],\n         [4.8864, 4.1283, 3.9579,  ..., 3.8974, 4.7833, 4.6769],\n         ...,\n         [7.0984, 6.1279, 5.1718,  ..., 4.6912, 6.0933, 5.6947],\n         [3.4676, 4.0600, 3.6362,  ..., 3.9169, 3.5042, 3.5806],\n         [5.8363, 5.3926, 4.3552,  ..., 4.2577, 4.6173, 4.5348]],\n\n        ...,\n\n        [[5.0135, 4.4588, 4.3446,  ..., 5.5366, 5.6656, 5.5649],\n         [4.0376, 3.7712, 2.6057,  ..., 3.8555, 4.3909, 4.5425],\n         [5.0047, 5.0623, 3.4437,  ..., 5.4880, 5.3198, 5.4593],\n         ...,\n         [5.9628, 5.5126, 3.8564,  ..., 5.2885, 5.4996, 5.8253],\n         [4.9614, 4.2990, 3.8116,  ..., 5.1865, 5.1430, 5.0231],\n         [5.2342, 5.2479, 4.6488,  ..., 5.4842, 5.4227, 5.6173]],\n\n        [[5.1403, 4.8447, 5.0748,  ..., 5.2195, 4.6461, 5.8209],\n         [5.2916, 4.5249, 4.5256,  ..., 4.5215, 4.1513, 5.2756],\n         [5.0156, 5.0536, 5.2489,  ..., 5.4014, 4.2949, 5.4826],\n         ...,\n         [5.1563, 4.4385, 4.5576,  ..., 4.5878, 4.0267, 5.3189],\n         [5.3368, 4.8147, 4.8438,  ..., 5.0154, 4.6464, 5.2281],\n         [6.0868, 5.3875, 5.7152,  ..., 4.6726, 4.4293, 6.2312]],\n\n        [[4.2267, 4.9781, 5.2501,  ..., 4.7473, 6.1803, 4.6871],\n         [4.9170, 4.4608, 5.3633,  ..., 5.4805, 6.0904, 5.2631],\n         [5.0856, 4.8200, 5.4848,  ..., 6.1148, 6.3319, 4.0925],\n         ...,\n         [4.8929, 4.5368, 5.3875,  ..., 4.7128, 6.3214, 5.6849],\n         [5.3300, 4.3259, 4.9267,  ..., 5.4518, 5.9665, 5.0103],\n         [4.5743, 4.5313, 4.9153,  ..., 4.8690, 4.7885, 5.1080]]])"
     },
     "execution_count": 96,
     "metadata": {},
     "output_type": "execute_result"
    }
   ],
   "source": [
    "o1 = torch.bmm(t1, t2)\n",
    "o1"
   ],
   "metadata": {
    "collapsed": false,
    "ExecuteTime": {
     "end_time": "2025-03-19T15:15:24.971726Z",
     "start_time": "2025-03-19T15:15:24.956199Z"
    }
   },
   "id": "9d9a7f2966180a9e"
  },
  {
   "cell_type": "code",
   "execution_count": 98,
   "outputs": [
    {
     "data": {
      "text/plain": "torch.Size([32, 10, 30])"
     },
     "execution_count": 98,
     "metadata": {},
     "output_type": "execute_result"
    }
   ],
   "source": [
    "o1.shape"
   ],
   "metadata": {
    "collapsed": false,
    "ExecuteTime": {
     "end_time": "2025-03-19T15:15:35.809301Z",
     "start_time": "2025-03-19T15:15:35.805670Z"
    }
   },
   "id": "78ce1fb07407a033"
  },
  {
   "cell_type": "code",
   "execution_count": 107,
   "outputs": [],
   "source": [
    "x1 = torch.rand((5,5))\n",
    "x2 = torch.rand((1,5))"
   ],
   "metadata": {
    "collapsed": false,
    "ExecuteTime": {
     "end_time": "2025-03-19T15:16:43.691735Z",
     "start_time": "2025-03-19T15:16:43.683924Z"
    }
   },
   "id": "b9c624d4f3e57d8e"
  },
  {
   "cell_type": "code",
   "execution_count": 108,
   "outputs": [
    {
     "data": {
      "text/plain": "tensor([[0.2229, 0.6529, 0.5355, 0.9452, 0.7842],\n        [0.8820, 0.2332, 0.1465, 0.6135, 0.2951],\n        [0.0309, 0.0367, 0.2281, 0.0246, 0.1313],\n        [0.1206, 0.8389, 0.5717, 0.0977, 0.3515],\n        [0.7000, 0.6434, 0.1339, 0.3369, 0.9974]])"
     },
     "execution_count": 108,
     "metadata": {},
     "output_type": "execute_result"
    }
   ],
   "source": [
    "x1"
   ],
   "metadata": {
    "collapsed": false,
    "ExecuteTime": {
     "end_time": "2025-03-19T15:16:43.874572Z",
     "start_time": "2025-03-19T15:16:43.868353Z"
    }
   },
   "id": "d73361a38df31695"
  },
  {
   "cell_type": "code",
   "execution_count": 109,
   "outputs": [
    {
     "data": {
      "text/plain": "tensor([[0.1486, 0.4059, 0.1029, 0.8261, 0.4797]])"
     },
     "execution_count": 109,
     "metadata": {},
     "output_type": "execute_result"
    }
   ],
   "source": [
    "x2"
   ],
   "metadata": {
    "collapsed": false,
    "ExecuteTime": {
     "end_time": "2025-03-19T15:16:44.481250Z",
     "start_time": "2025-03-19T15:16:44.477561Z"
    }
   },
   "id": "3cb52e4914539fdd"
  },
  {
   "cell_type": "code",
   "execution_count": 110,
   "outputs": [
    {
     "data": {
      "text/plain": "tensor([[ 0.0743,  0.2471,  0.4326,  0.1191,  0.3045],\n        [ 0.7334, -0.1727,  0.0436, -0.2126, -0.1846],\n        [-0.1177, -0.3691,  0.1252, -0.8015, -0.3484],\n        [-0.0280,  0.4331,  0.4687, -0.7284, -0.1282],\n        [ 0.5514,  0.2376,  0.0309, -0.4892,  0.5177]])"
     },
     "execution_count": 110,
     "metadata": {},
     "output_type": "execute_result"
    }
   ],
   "source": [
    "x1-x2"
   ],
   "metadata": {
    "collapsed": false,
    "ExecuteTime": {
     "end_time": "2025-03-19T15:16:45.004176Z",
     "start_time": "2025-03-19T15:16:45.000755Z"
    }
   },
   "id": "3c9c7e2453752f4d"
  },
  {
   "cell_type": "code",
   "execution_count": 111,
   "outputs": [
    {
     "data": {
      "text/plain": "tensor([[0.8001, 0.8411, 0.9377, 0.9545, 0.8899],\n        [0.9815, 0.5538, 0.8206, 0.6679, 0.5569],\n        [0.5964, 0.2616, 0.8589, 0.0469, 0.3776],\n        [0.7303, 0.9312, 0.9441, 0.1464, 0.6056],\n        [0.9484, 0.8361, 0.8130, 0.4071, 0.9988]])"
     },
     "execution_count": 111,
     "metadata": {},
     "output_type": "execute_result"
    }
   ],
   "source": [
    "x1**x2"
   ],
   "metadata": {
    "collapsed": false,
    "ExecuteTime": {
     "end_time": "2025-03-19T15:16:51.459361Z",
     "start_time": "2025-03-19T15:16:51.420008Z"
    }
   },
   "id": "12b19650b9e103dd"
  },
  {
   "cell_type": "code",
   "execution_count": 112,
   "outputs": [
    {
     "data": {
      "text/plain": "tensor([1.9565, 2.4053, 1.6157, 2.0179, 2.5596])"
     },
     "execution_count": 112,
     "metadata": {},
     "output_type": "execute_result"
    }
   ],
   "source": [
    "sum_x = torch.sum(x1, dim=0)\n",
    "sum_x"
   ],
   "metadata": {
    "collapsed": false,
    "ExecuteTime": {
     "end_time": "2025-03-19T15:17:31.761978Z",
     "start_time": "2025-03-19T15:17:31.737349Z"
    }
   },
   "id": "e09f00514842ae92"
  },
  {
   "cell_type": "code",
   "execution_count": 114,
   "outputs": [
    {
     "data": {
      "text/plain": "(tensor([0.8820, 0.8389, 0.5717, 0.9452, 0.9974]), tensor([1, 3, 3, 0, 4]))"
     },
     "execution_count": 114,
     "metadata": {},
     "output_type": "execute_result"
    }
   ],
   "source": [
    "values, indices = torch.max(x1, dim=0)\n",
    "values, indices"
   ],
   "metadata": {
    "collapsed": false,
    "ExecuteTime": {
     "end_time": "2025-03-19T15:18:02.918304Z",
     "start_time": "2025-03-19T15:18:02.914884Z"
    }
   },
   "id": "41d6ea3250cd9659"
  },
  {
   "cell_type": "code",
   "execution_count": 115,
   "outputs": [
    {
     "data": {
      "text/plain": "tensor([1, 3, 3, 0, 4])"
     },
     "execution_count": 115,
     "metadata": {},
     "output_type": "execute_result"
    }
   ],
   "source": [
    "torch.argmax(x1, dim=0)"
   ],
   "metadata": {
    "collapsed": false,
    "ExecuteTime": {
     "end_time": "2025-03-19T15:18:22.225063Z",
     "start_time": "2025-03-19T15:18:22.208826Z"
    }
   },
   "id": "3105f8bb1ccd0732"
  },
  {
   "cell_type": "code",
   "execution_count": 116,
   "outputs": [
    {
     "data": {
      "text/plain": "tensor([0.3913, 0.4811, 0.3231, 0.4036, 0.5119])"
     },
     "execution_count": 116,
     "metadata": {},
     "output_type": "execute_result"
    }
   ],
   "source": [
    "torch.mean(x1.float(), dim=0)"
   ],
   "metadata": {
    "collapsed": false,
    "ExecuteTime": {
     "end_time": "2025-03-19T15:18:55.880759Z",
     "start_time": "2025-03-19T15:18:55.851406Z"
    }
   },
   "id": "c273de11a323a827"
  },
  {
   "cell_type": "code",
   "execution_count": 117,
   "outputs": [
    {
     "data": {
      "text/plain": "tensor([False, False])"
     },
     "execution_count": 117,
     "metadata": {},
     "output_type": "execute_result"
    }
   ],
   "source": [
    "torch.eq(x,y)"
   ],
   "metadata": {
    "collapsed": false,
    "ExecuteTime": {
     "end_time": "2025-03-19T15:19:13.460382Z",
     "start_time": "2025-03-19T15:19:13.442306Z"
    }
   },
   "id": "c7c806c80857af3f"
  },
  {
   "cell_type": "code",
   "execution_count": 118,
   "outputs": [
    {
     "data": {
      "text/plain": "torch.return_types.sort(\nvalues=tensor([0.0571, 0.6625]),\nindices=tensor([0, 1]))"
     },
     "execution_count": 118,
     "metadata": {},
     "output_type": "execute_result"
    }
   ],
   "source": [
    "torch.sort(y, dim=0, descending=False)"
   ],
   "metadata": {
    "collapsed": false,
    "ExecuteTime": {
     "end_time": "2025-03-19T15:19:37.493337Z",
     "start_time": "2025-03-19T15:19:37.460901Z"
    }
   },
   "id": "f77e6d5e5320d898"
  },
  {
   "cell_type": "code",
   "execution_count": 128,
   "outputs": [
    {
     "data": {
      "text/plain": "tensor([[0.2229, 0.5000, 0.5000, 0.5000, 0.5000],\n        [0.5000, 0.2332, 0.2000, 0.5000, 0.2951],\n        [0.2000, 0.2000, 0.2281, 0.2000, 0.2000],\n        [0.2000, 0.5000, 0.5000, 0.2000, 0.3515],\n        [0.5000, 0.5000, 0.2000, 0.3369, 0.5000]])"
     },
     "execution_count": 128,
     "metadata": {},
     "output_type": "execute_result"
    }
   ],
   "source": [
    "torch.clamp_(x1, min=0, max=0.5)"
   ],
   "metadata": {
    "collapsed": false,
    "ExecuteTime": {
     "end_time": "2025-03-19T15:22:38.994504Z",
     "start_time": "2025-03-19T15:22:38.989689Z"
    }
   },
   "id": "a0004c636b485f10"
  },
  {
   "cell_type": "code",
   "execution_count": 129,
   "outputs": [
    {
     "data": {
      "text/plain": "tensor([[0., 0.],\n        [0., 0.]])"
     },
     "execution_count": 129,
     "metadata": {},
     "output_type": "execute_result"
    }
   ],
   "source": [
    "x2=torch.zeros((2,2))\n",
    "x2"
   ],
   "metadata": {
    "collapsed": false,
    "ExecuteTime": {
     "end_time": "2025-03-19T15:23:00.925373Z",
     "start_time": "2025-03-19T15:23:00.920586Z"
    }
   },
   "id": "3720551c6ef2fd30"
  },
  {
   "cell_type": "code",
   "execution_count": 132,
   "outputs": [
    {
     "data": {
      "text/plain": "tensor(False)"
     },
     "execution_count": 132,
     "metadata": {},
     "output_type": "execute_result"
    }
   ],
   "source": [
    "torch.any(x2)"
   ],
   "metadata": {
    "collapsed": false,
    "ExecuteTime": {
     "end_time": "2025-03-19T15:23:15.134752Z",
     "start_time": "2025-03-19T15:23:15.127022Z"
    }
   },
   "id": "d3c18ac931289951"
  },
  {
   "cell_type": "code",
   "execution_count": 133,
   "outputs": [
    {
     "data": {
      "text/plain": "tensor(False)"
     },
     "execution_count": 133,
     "metadata": {},
     "output_type": "execute_result"
    }
   ],
   "source": [
    "torch.all(x2)"
   ],
   "metadata": {
    "collapsed": false,
    "ExecuteTime": {
     "end_time": "2025-03-19T15:23:15.282546Z",
     "start_time": "2025-03-19T15:23:15.276631Z"
    }
   },
   "id": "e6258ca908fe650d"
  },
  {
   "cell_type": "code",
   "execution_count": 134,
   "outputs": [],
   "source": [
    "batch_size = 10\n",
    "features = 25\n",
    "x=torch.rand((batch_size, features))"
   ],
   "metadata": {
    "collapsed": false,
    "ExecuteTime": {
     "end_time": "2025-03-19T15:24:06.524079Z",
     "start_time": "2025-03-19T15:24:06.500415Z"
    }
   },
   "id": "271727f6fe48b4a4"
  },
  {
   "cell_type": "code",
   "execution_count": 139,
   "outputs": [
    {
     "data": {
      "text/plain": "torch.Size([10])"
     },
     "execution_count": 139,
     "metadata": {},
     "output_type": "execute_result"
    }
   ],
   "source": [
    "x[:,0].shape"
   ],
   "metadata": {
    "collapsed": false,
    "ExecuteTime": {
     "end_time": "2025-03-19T15:24:39.432223Z",
     "start_time": "2025-03-19T15:24:39.420783Z"
    }
   },
   "id": "cf42b3b1a4f0b6a7"
  },
  {
   "cell_type": "code",
   "execution_count": 140,
   "outputs": [
    {
     "data": {
      "text/plain": "tensor([0.5250, 0.8366, 0.3419, 0.2309, 0.6769, 0.3544, 0.5572, 0.3148, 0.2504,\n        0.3704])"
     },
     "execution_count": 140,
     "metadata": {},
     "output_type": "execute_result"
    }
   ],
   "source": [
    "x[2, :10]"
   ],
   "metadata": {
    "collapsed": false,
    "ExecuteTime": {
     "end_time": "2025-03-19T15:24:50.578393Z",
     "start_time": "2025-03-19T15:24:50.546340Z"
    }
   },
   "id": "d25e427ba7b10ed3"
  },
  {
   "cell_type": "code",
   "execution_count": 144,
   "outputs": [],
   "source": [
    "x = torch.arange(10)+2"
   ],
   "metadata": {
    "collapsed": false,
    "ExecuteTime": {
     "end_time": "2025-03-19T15:26:13.641794Z",
     "start_time": "2025-03-19T15:26:13.636968Z"
    }
   },
   "id": "e30836bc7b76a1ec"
  },
  {
   "cell_type": "code",
   "execution_count": 145,
   "outputs": [
    {
     "data": {
      "text/plain": "tensor([4, 7, 9])"
     },
     "execution_count": 145,
     "metadata": {},
     "output_type": "execute_result"
    }
   ],
   "source": [
    "indices = [2,5,7]\n",
    "x[indices]"
   ],
   "metadata": {
    "collapsed": false,
    "ExecuteTime": {
     "end_time": "2025-03-19T15:26:14.212086Z",
     "start_time": "2025-03-19T15:26:14.206157Z"
    }
   },
   "id": "aa48bc25c7ce5d4f"
  },
  {
   "cell_type": "code",
   "execution_count": 146,
   "outputs": [
    {
     "data": {
      "text/plain": "tensor([[0.6444, 0.4086, 0.9662, 0.0796, 0.2347],\n        [0.2080, 0.3339, 0.9458, 0.2270, 0.9941],\n        [0.3833, 0.1432, 0.7052, 0.7708, 0.7196]])"
     },
     "execution_count": 146,
     "metadata": {},
     "output_type": "execute_result"
    }
   ],
   "source": [
    "x=torch.rand((3,5))\n",
    "x"
   ],
   "metadata": {
    "collapsed": false,
    "ExecuteTime": {
     "end_time": "2025-03-19T15:27:05.779813Z",
     "start_time": "2025-03-19T15:27:05.744844Z"
    }
   },
   "id": "888f35ba08059b05"
  },
  {
   "cell_type": "code",
   "execution_count": 147,
   "outputs": [
    {
     "data": {
      "text/plain": "tensor([0.9941, 0.6444])"
     },
     "execution_count": 147,
     "metadata": {},
     "output_type": "execute_result"
    }
   ],
   "source": [
    "row = torch.tensor([1,0])\n",
    "col = torch.tensor([4,0])\n",
    "x[row,col]"
   ],
   "metadata": {
    "collapsed": false,
    "ExecuteTime": {
     "end_time": "2025-03-19T15:27:41.156644Z",
     "start_time": "2025-03-19T15:27:41.129598Z"
    }
   },
   "id": "3e5f7bd221b0552c"
  },
  {
   "cell_type": "code",
   "execution_count": 150,
   "outputs": [
    {
     "data": {
      "text/plain": "tensor([1])"
     },
     "execution_count": 150,
     "metadata": {},
     "output_type": "execute_result"
    }
   ],
   "source": [
    "x=torch.arange(10)\n",
    "x[(x<2)&(x>0)]"
   ],
   "metadata": {
    "collapsed": false,
    "ExecuteTime": {
     "end_time": "2025-03-19T15:32:47.537188Z",
     "start_time": "2025-03-19T15:32:47.531350Z"
    }
   },
   "id": "7bd50b7c5c658e24"
  },
  {
   "cell_type": "code",
   "execution_count": 151,
   "outputs": [
    {
     "data": {
      "text/plain": "tensor([0, 2, 4, 6, 8])"
     },
     "execution_count": 151,
     "metadata": {},
     "output_type": "execute_result"
    }
   ],
   "source": [
    "x[x.remainder(2)==0]"
   ],
   "metadata": {
    "collapsed": false,
    "ExecuteTime": {
     "end_time": "2025-03-19T15:33:03.501304Z",
     "start_time": "2025-03-19T15:33:03.465196Z"
    }
   },
   "id": "bb85ac531a8610f3"
  },
  {
   "cell_type": "code",
   "execution_count": 152,
   "outputs": [
    {
     "data": {
      "text/plain": "tensor([ 0,  2,  4,  6,  8, 10,  6,  7,  8,  9])"
     },
     "execution_count": 152,
     "metadata": {},
     "output_type": "execute_result"
    }
   ],
   "source": [
    "torch.where(x>5, x, x*2)"
   ],
   "metadata": {
    "collapsed": false,
    "ExecuteTime": {
     "end_time": "2025-03-19T15:33:54.016408Z",
     "start_time": "2025-03-19T15:33:53.979248Z"
    }
   },
   "id": "6bb7fb1298bf5323"
  },
  {
   "cell_type": "code",
   "execution_count": 153,
   "outputs": [
    {
     "data": {
      "text/plain": "tensor([0, 1, 2, 3, 4, 5, 6, 7, 8, 9])"
     },
     "execution_count": 153,
     "metadata": {},
     "output_type": "execute_result"
    }
   ],
   "source": [
    "x.unique()"
   ],
   "metadata": {
    "collapsed": false,
    "ExecuteTime": {
     "end_time": "2025-03-19T15:34:47.163152Z",
     "start_time": "2025-03-19T15:34:47.136399Z"
    }
   },
   "id": "6acfd0900de7b453"
  },
  {
   "cell_type": "code",
   "execution_count": 156,
   "outputs": [
    {
     "data": {
      "text/plain": "2"
     },
     "execution_count": 156,
     "metadata": {},
     "output_type": "execute_result"
    }
   ],
   "source": [
    "x2.ndimension()"
   ],
   "metadata": {
    "collapsed": false,
    "ExecuteTime": {
     "end_time": "2025-03-19T15:35:12.781314Z",
     "start_time": "2025-03-19T15:35:12.772174Z"
    }
   },
   "id": "db0df760ddbfdef5"
  },
  {
   "cell_type": "code",
   "execution_count": 159,
   "outputs": [
    {
     "data": {
      "text/plain": "3"
     },
     "execution_count": 159,
     "metadata": {},
     "output_type": "execute_result"
    }
   ],
   "source": [
    "x=torch.rand((5,5,5))\n",
    "x.ndimension()\n"
   ],
   "metadata": {
    "collapsed": false,
    "ExecuteTime": {
     "end_time": "2025-03-19T15:35:57.428433Z",
     "start_time": "2025-03-19T15:35:57.424073Z"
    }
   },
   "id": "ed798e45e88865cd"
  },
  {
   "cell_type": "code",
   "execution_count": 160,
   "outputs": [
    {
     "data": {
      "text/plain": "125"
     },
     "execution_count": 160,
     "metadata": {},
     "output_type": "execute_result"
    }
   ],
   "source": [
    "x.numel()"
   ],
   "metadata": {
    "collapsed": false,
    "ExecuteTime": {
     "end_time": "2025-03-19T15:36:07.549480Z",
     "start_time": "2025-03-19T15:36:07.537622Z"
    }
   },
   "id": "11c09dc6380b922b"
  },
  {
   "cell_type": "code",
   "execution_count": 161,
   "outputs": [
    {
     "data": {
      "text/plain": "tensor([[0, 1, 2],\n        [3, 4, 5],\n        [6, 7, 8]])"
     },
     "execution_count": 161,
     "metadata": {},
     "output_type": "execute_result"
    }
   ],
   "source": [
    "x = torch.arange(9)\n",
    "# x.reshape()\n",
    "x.view(3,3)"
   ],
   "metadata": {
    "collapsed": false,
    "ExecuteTime": {
     "end_time": "2025-03-19T15:36:52.371415Z",
     "start_time": "2025-03-19T15:36:52.329336Z"
    }
   },
   "id": "fd7ff98f10e2ce63"
  },
  {
   "cell_type": "markdown",
   "source": [],
   "metadata": {
    "collapsed": false
   },
   "id": "7dae6fc7d1c5b258"
  },
  {
   "cell_type": "code",
   "execution_count": 162,
   "outputs": [
    {
     "data": {
      "text/plain": "tensor([[0, 1, 2],\n        [3, 4, 5],\n        [6, 7, 8]])"
     },
     "execution_count": 162,
     "metadata": {},
     "output_type": "execute_result"
    }
   ],
   "source": [
    "x.reshape(3,3)"
   ],
   "metadata": {
    "collapsed": false,
    "ExecuteTime": {
     "end_time": "2025-03-19T15:37:01.693677Z",
     "start_time": "2025-03-19T15:37:01.655068Z"
    }
   },
   "id": "e7d68be6f7ac2152"
  },
  {
   "cell_type": "code",
   "execution_count": 174,
   "outputs": [
    {
     "data": {
      "text/plain": "tensor([[[1.0000, 2.0000, 3.0000, 1.1000, 2.1000, 3.1000, 1.2000, 2.2000,\n          3.2000],\n         [4.0000, 5.0000, 6.0000, 4.1000, 5.1000, 6.1000, 4.2000, 5.2000,\n          6.2000]],\n\n        [[1.0000, 2.0000, 3.0000, 1.1000, 2.1000, 3.1000, 1.2000, 2.2000,\n          3.2000],\n         [4.0000, 5.0000, 6.0000, 4.1000, 5.1000, 6.1000, 4.2000, 5.2000,\n          6.2000]]])"
     },
     "execution_count": 174,
     "metadata": {},
     "output_type": "execute_result"
    }
   ],
   "source": [
    "x1 = torch.tensor([[[1,2,3],[4,5,6]], [[1,2,3],[4,5,6]]])\n",
    "x2 = torch.tensor([[[1,2,3],[4,5,6]], [[1,2,3],[4,5,6]]])+0.1\n",
    "x3 = torch.tensor([[[1,2,3],[4,5,6]], [[1,2,3],[4,5,6]]])+0.2\n",
    "# x2 = torch.tensor([[1.1,2.1,3.1],[4.1,5.1,6.1], [7.1,8.1,9.1]])\n",
    "# x3= torch.tensor([[1.2,2.2,3.2],[4.2,5.2,6.2], [7.2,8.2,9.2]])\n",
    "z=torch.cat((x1,x2,x3), dim=2)\n",
    "z"
   ],
   "metadata": {
    "collapsed": false,
    "ExecuteTime": {
     "end_time": "2025-03-19T16:40:51.771976Z",
     "start_time": "2025-03-19T16:40:51.761945Z"
    }
   },
   "id": "2c8ee2fcfc036b8d"
  },
  {
   "cell_type": "code",
   "execution_count": 175,
   "outputs": [
    {
     "data": {
      "text/plain": "32"
     },
     "execution_count": 175,
     "metadata": {},
     "output_type": "execute_result"
    }
   ],
   "source": [
    "batch"
   ],
   "metadata": {
    "collapsed": false,
    "ExecuteTime": {
     "end_time": "2025-03-19T16:42:41.782962Z",
     "start_time": "2025-03-19T16:42:41.774394Z"
    }
   },
   "id": "6338756e02cc059a"
  },
  {
   "cell_type": "code",
   "execution_count": 178,
   "outputs": [
    {
     "data": {
      "text/plain": "torch.Size([32, 10])"
     },
     "execution_count": 178,
     "metadata": {},
     "output_type": "execute_result"
    }
   ],
   "source": [
    "z=torch.rand(batch, 2,5)\n",
    "z.view(batch,-1).shape"
   ],
   "metadata": {
    "collapsed": false,
    "ExecuteTime": {
     "end_time": "2025-03-19T16:42:53.948270Z",
     "start_time": "2025-03-19T16:42:53.941497Z"
    }
   },
   "id": "3660786f9ed21668"
  },
  {
   "cell_type": "code",
   "execution_count": 179,
   "outputs": [],
   "source": [
    "z1 = z.permute(0,2, 1)"
   ],
   "metadata": {
    "collapsed": false,
    "ExecuteTime": {
     "end_time": "2025-03-19T16:44:14.741246Z",
     "start_time": "2025-03-19T16:44:14.701005Z"
    }
   },
   "id": "286762be25539fc9"
  },
  {
   "cell_type": "code",
   "execution_count": 180,
   "outputs": [
    {
     "data": {
      "text/plain": "torch.Size([32, 5, 2])"
     },
     "execution_count": 180,
     "metadata": {},
     "output_type": "execute_result"
    }
   ],
   "source": [
    "z1.shape"
   ],
   "metadata": {
    "collapsed": false,
    "ExecuteTime": {
     "end_time": "2025-03-19T16:44:21.336790Z",
     "start_time": "2025-03-19T16:44:21.307115Z"
    }
   },
   "id": "8d77ec29bc99a158"
  },
  {
   "cell_type": "code",
   "execution_count": 191,
   "outputs": [
    {
     "data": {
      "text/plain": "tensor([[[0],\n         [1],\n         [2],\n         [3],\n         [4],\n         [5],\n         [6],\n         [7],\n         [8],\n         [9]]])"
     },
     "execution_count": 191,
     "metadata": {},
     "output_type": "execute_result"
    }
   ],
   "source": [
    "x=torch.arange(10).unsqueeze(1).unsqueeze(0)\n",
    "x"
   ],
   "metadata": {
    "collapsed": false,
    "ExecuteTime": {
     "end_time": "2025-03-19T16:47:34.647080Z",
     "start_time": "2025-03-19T16:47:34.628022Z"
    }
   },
   "id": "6de9f514604bc64e"
  },
  {
   "cell_type": "code",
   "execution_count": 184,
   "outputs": [
    {
     "data": {
      "text/plain": "torch.Size([10, 1])"
     },
     "execution_count": 184,
     "metadata": {},
     "output_type": "execute_result"
    }
   ],
   "source": [
    "x.unsqueeze(1).shape"
   ],
   "metadata": {
    "collapsed": false,
    "ExecuteTime": {
     "end_time": "2025-03-19T16:45:18.219507Z",
     "start_time": "2025-03-19T16:45:18.213262Z"
    }
   },
   "id": "d8a5d7efb677aa5"
  },
  {
   "cell_type": "code",
   "execution_count": 191,
   "outputs": [],
   "source": [],
   "metadata": {
    "collapsed": false,
    "ExecuteTime": {
     "end_time": "2025-03-20T15:54:15.270894Z",
     "start_time": "2025-03-20T15:54:15.219252Z"
    }
   },
   "id": "817eb0c9738293bc"
  },
  {
   "cell_type": "code",
   "execution_count": 191,
   "outputs": [],
   "source": [],
   "metadata": {
    "collapsed": false,
    "ExecuteTime": {
     "end_time": "2025-03-20T15:54:15.407793Z",
     "start_time": "2025-03-20T15:54:15.396754Z"
    }
   },
   "id": "bfbca2b906975800"
  },
  {
   "cell_type": "code",
   "execution_count": 191,
   "outputs": [],
   "source": [],
   "metadata": {
    "collapsed": false,
    "ExecuteTime": {
     "end_time": "2025-03-20T15:54:15.510991Z",
     "start_time": "2025-03-20T15:54:15.473192Z"
    }
   },
   "id": "963da3519928b499"
  },
  {
   "cell_type": "code",
   "execution_count": 191,
   "outputs": [],
   "source": [],
   "metadata": {
    "collapsed": false,
    "ExecuteTime": {
     "end_time": "2025-03-20T15:54:15.635387Z",
     "start_time": "2025-03-20T15:54:15.596189Z"
    }
   },
   "id": "6cd889e914c107f6"
  },
  {
   "cell_type": "code",
   "execution_count": 193,
   "outputs": [],
   "source": [
    "import torch\n",
    "import torch.nn as nn\n",
    "import torch.optim as optim\n",
    "import torch.nn.functional as F\n",
    "from torch.utils.data import DataLoader\n",
    "import torchvision.datasets as datasets\n",
    "import torchvision.transforms as transforms"
   ],
   "metadata": {
    "collapsed": false,
    "ExecuteTime": {
     "end_time": "2025-03-20T15:56:25.513970Z",
     "start_time": "2025-03-20T15:56:25.493430Z"
    }
   },
   "id": "48a907510262201e"
  },
  {
   "cell_type": "code",
   "execution_count": null,
   "outputs": [],
   "source": [
    "class NN(nn.Module):\n",
    "    def __init__(self, input_size, num_classes):\n",
    "        super(NN, self).__init__()\n",
    "        self.fc1 = nn.Linear(input_size, 50)\n",
    "        self.fc2 = nn.Linear(50, num_classes)\n",
    "        \n",
    "    def forward(self, x):\n",
    "        x = F.relu(self.fc1(x))\n",
    "        x = self.fc2(x)\n",
    "        return x\n",
    "    \n",
    "model = NN(784, 10)\n",
    "\n"
   ],
   "metadata": {
    "collapsed": false
   },
   "id": "e359802ed48763d6"
  },
  {
   "cell_type": "code",
   "execution_count": null,
   "outputs": [],
   "source": [],
   "metadata": {
    "collapsed": false
   },
   "id": "864d1d1cee25bd74"
  },
  {
   "cell_type": "code",
   "execution_count": null,
   "outputs": [],
   "source": [],
   "metadata": {
    "collapsed": false
   },
   "id": "7318f9db8cb81bf8"
  }
 ],
 "metadata": {
  "kernelspec": {
   "display_name": "Python 3",
   "language": "python",
   "name": "python3"
  },
  "language_info": {
   "codemirror_mode": {
    "name": "ipython",
    "version": 2
   },
   "file_extension": ".py",
   "mimetype": "text/x-python",
   "name": "python",
   "nbconvert_exporter": "python",
   "pygments_lexer": "ipython2",
   "version": "2.7.6"
  }
 },
 "nbformat": 4,
 "nbformat_minor": 5
}
