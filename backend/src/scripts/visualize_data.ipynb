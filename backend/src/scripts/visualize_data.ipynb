{
 "cells": [
  {
   "cell_type": "code",
   "execution_count": 1,
   "id": "initial_id",
   "metadata": {
    "collapsed": true,
    "ExecuteTime": {
     "end_time": "2025-01-08T18:57:28.742281Z",
     "start_time": "2025-01-08T18:57:27.606434Z"
    }
   },
   "outputs": [],
   "source": [
    "import pandas as pd"
   ]
  },
  {
   "cell_type": "code",
   "execution_count": 2,
   "outputs": [
    {
     "data": {
      "text/plain": "              Filename Category  \\\n0  Webcams_amazon.json  Webcams   \n1  Webcams_amazon.json  Webcams   \n2  Webcams_amazon.json  Webcams   \n3  Webcams_amazon.json  Webcams   \n4  Webcams_amazon.json  Webcams   \n\n                                               Title  Price  Rating Currency  \\\n0  Logitech C270 Webcam, HD 720p, 60° Sichtfeld, ...  17.90     4.4      EUR   \n1  UGREEN Webcam Full HD 1080P/30fps USB Webcam f...  23.79     4.5      EUR   \n2  EMEET Full HD Webcam - C960 1080P Webcam mit O...  39.99     4.2      EUR   \n3  Logitech C920 HD PRO Webcam, Full-HD 1080p, 78...  61.19     4.6      EUR   \n4  Webcam mit mikrofon Kamera pc cam, 1080p HD, 3...  10.99     3.5      EUR   \n\n                                           Image URL        ASIN  \\\n0  https://m.media-amazon.com/images/I/61YVAzx4fq...  B01BGBJ8Y0   \n1  https://m.media-amazon.com/images/I/61cd5Oeo9U...  B0C76ZD7KV   \n2  https://m.media-amazon.com/images/I/61BW1Spm+U...  B0002HAHUY   \n3  https://m.media-amazon.com/images/I/71eGb1Fcyi...  B006A2Q81M   \n4  https://m.media-amazon.com/images/I/5157H4rWlg...  B0BG1YJWFN   \n\n                                                 URL  \\\n0  https://www.amazon.de/Logitech-Belichtungskorr...   \n1  https://www.amazon.de/UGREEN-Stereo-Audio-auto...   \n2  https://www.amazon.de/eMeet-Full-Webcam-automa...   \n3  https://www.amazon.de/Logitech-Sichtfeld-Stere...   \n4  https://www.amazon.de/mikrofon-Streaming-verst...   \n\n                         Sales Volume  Amazon's Choice  Best Seller  \\\n0  2000+ Mal im letzten Monat gekauft             True        False   \n1  2000+ Mal im letzten Monat gekauft            False        False   \n2  2000+ Mal im letzten Monat gekauft            False        False   \n3  2000+ Mal im letzten Monat gekauft            False        False   \n4   300+ Mal im letzten Monat gekauft            False        False   \n\n                                Shipping Information  Reviews Count  \n0  GRATIS Lieferung Fr., 10. Jan. für qualifizier...             22  \n1  GRATIS Lieferung Fr., 10. Jan. für qualifizier...            916  \n2  GRATIS Lieferung Fr., 10. Jan.Oder schnellste ...             31  \n3  GRATIS Lieferung Sa., 11. Jan.Oder schnellste ...              9  \n4  GRATIS Lieferung für qualifizierte Erstbestellung              1  ",
      "text/html": "<div>\n<style scoped>\n    .dataframe tbody tr th:only-of-type {\n        vertical-align: middle;\n    }\n\n    .dataframe tbody tr th {\n        vertical-align: top;\n    }\n\n    .dataframe thead th {\n        text-align: right;\n    }\n</style>\n<table border=\"1\" class=\"dataframe\">\n  <thead>\n    <tr style=\"text-align: right;\">\n      <th></th>\n      <th>Filename</th>\n      <th>Category</th>\n      <th>Title</th>\n      <th>Price</th>\n      <th>Rating</th>\n      <th>Currency</th>\n      <th>Image URL</th>\n      <th>ASIN</th>\n      <th>URL</th>\n      <th>Sales Volume</th>\n      <th>Amazon's Choice</th>\n      <th>Best Seller</th>\n      <th>Shipping Information</th>\n      <th>Reviews Count</th>\n    </tr>\n  </thead>\n  <tbody>\n    <tr>\n      <th>0</th>\n      <td>Webcams_amazon.json</td>\n      <td>Webcams</td>\n      <td>Logitech C270 Webcam, HD 720p, 60° Sichtfeld, ...</td>\n      <td>17.90</td>\n      <td>4.4</td>\n      <td>EUR</td>\n      <td>https://m.media-amazon.com/images/I/61YVAzx4fq...</td>\n      <td>B01BGBJ8Y0</td>\n      <td>https://www.amazon.de/Logitech-Belichtungskorr...</td>\n      <td>2000+ Mal im letzten Monat gekauft</td>\n      <td>True</td>\n      <td>False</td>\n      <td>GRATIS Lieferung Fr., 10. Jan. für qualifizier...</td>\n      <td>22</td>\n    </tr>\n    <tr>\n      <th>1</th>\n      <td>Webcams_amazon.json</td>\n      <td>Webcams</td>\n      <td>UGREEN Webcam Full HD 1080P/30fps USB Webcam f...</td>\n      <td>23.79</td>\n      <td>4.5</td>\n      <td>EUR</td>\n      <td>https://m.media-amazon.com/images/I/61cd5Oeo9U...</td>\n      <td>B0C76ZD7KV</td>\n      <td>https://www.amazon.de/UGREEN-Stereo-Audio-auto...</td>\n      <td>2000+ Mal im letzten Monat gekauft</td>\n      <td>False</td>\n      <td>False</td>\n      <td>GRATIS Lieferung Fr., 10. Jan. für qualifizier...</td>\n      <td>916</td>\n    </tr>\n    <tr>\n      <th>2</th>\n      <td>Webcams_amazon.json</td>\n      <td>Webcams</td>\n      <td>EMEET Full HD Webcam - C960 1080P Webcam mit O...</td>\n      <td>39.99</td>\n      <td>4.2</td>\n      <td>EUR</td>\n      <td>https://m.media-amazon.com/images/I/61BW1Spm+U...</td>\n      <td>B0002HAHUY</td>\n      <td>https://www.amazon.de/eMeet-Full-Webcam-automa...</td>\n      <td>2000+ Mal im letzten Monat gekauft</td>\n      <td>False</td>\n      <td>False</td>\n      <td>GRATIS Lieferung Fr., 10. Jan.Oder schnellste ...</td>\n      <td>31</td>\n    </tr>\n    <tr>\n      <th>3</th>\n      <td>Webcams_amazon.json</td>\n      <td>Webcams</td>\n      <td>Logitech C920 HD PRO Webcam, Full-HD 1080p, 78...</td>\n      <td>61.19</td>\n      <td>4.6</td>\n      <td>EUR</td>\n      <td>https://m.media-amazon.com/images/I/71eGb1Fcyi...</td>\n      <td>B006A2Q81M</td>\n      <td>https://www.amazon.de/Logitech-Sichtfeld-Stere...</td>\n      <td>2000+ Mal im letzten Monat gekauft</td>\n      <td>False</td>\n      <td>False</td>\n      <td>GRATIS Lieferung Sa., 11. Jan.Oder schnellste ...</td>\n      <td>9</td>\n    </tr>\n    <tr>\n      <th>4</th>\n      <td>Webcams_amazon.json</td>\n      <td>Webcams</td>\n      <td>Webcam mit mikrofon Kamera pc cam, 1080p HD, 3...</td>\n      <td>10.99</td>\n      <td>3.5</td>\n      <td>EUR</td>\n      <td>https://m.media-amazon.com/images/I/5157H4rWlg...</td>\n      <td>B0BG1YJWFN</td>\n      <td>https://www.amazon.de/mikrofon-Streaming-verst...</td>\n      <td>300+ Mal im letzten Monat gekauft</td>\n      <td>False</td>\n      <td>False</td>\n      <td>GRATIS Lieferung für qualifizierte Erstbestellung</td>\n      <td>1</td>\n    </tr>\n  </tbody>\n</table>\n</div>"
     },
     "execution_count": 2,
     "metadata": {},
     "output_type": "execute_result"
    }
   ],
   "source": [
    "df = pd.read_csv('../../data/products_consolidated.csv')\n",
    "df.head()"
   ],
   "metadata": {
    "collapsed": false,
    "ExecuteTime": {
     "end_time": "2025-01-08T18:57:45.018884Z",
     "start_time": "2025-01-08T18:57:44.825471Z"
    }
   },
   "id": "b7a10dcb197a195c"
  },
  {
   "cell_type": "code",
   "execution_count": 4,
   "outputs": [],
   "source": [
    "list_cats = df['Category'].unique()"
   ],
   "metadata": {
    "collapsed": false,
    "ExecuteTime": {
     "end_time": "2025-01-08T19:15:14.190864Z",
     "start_time": "2025-01-08T19:15:14.187969Z"
    }
   },
   "id": "fe72d02ef133c696"
  },
  {
   "cell_type": "code",
   "execution_count": 6,
   "outputs": [
    {
     "data": {
      "text/plain": "\"['Webcams', 'nintendo switch', 'laptops', 'Smart Watches', 'E-Readers', 'Compact Keyboards', 'Smart Rings', 'gaming monitor', 'Drawing Tablets', 'xbox console', 'Gaming Glasses', 'RGB Keyboards', 'Instant Cameras', 'Mechanical Keyboards', 'VR Controllers', 'Gimbals', 'headphones', 'gaming Cooling', 'Portable gaming Consoles', 'Action Cameras', 'xbox controller', 'VR Accessories', 'tablets', 'RGB Gaming Chairs', 'Bean Bag Gaming Chairs', 'rgb desk lights gaming', 'Digital Note', 'gaming Lighting Kits', 'Ergonomic Gaming Chairs', 'Lightweight Mice', 'Smart Speakers', 'Gaming Headsets', 'Gaming Hard Drives', 'Drones', 'Wireless Earbuds', 'Microphones gaming', 'Portable Monitors', 'Ring Lights', 'Mobile Gaming Controllers', 'VR Headsets', 'gaming controller']\""
     },
     "execution_count": 6,
     "metadata": {},
     "output_type": "execute_result"
    }
   ],
   "source": [
    "str(list(list_cats))"
   ],
   "metadata": {
    "collapsed": false,
    "ExecuteTime": {
     "end_time": "2025-01-08T19:15:31.362858Z",
     "start_time": "2025-01-08T19:15:31.360225Z"
    }
   },
   "id": "c08876dcea62a826"
  },
  {
   "cell_type": "code",
   "execution_count": null,
   "outputs": [],
   "source": [],
   "metadata": {
    "collapsed": false
   },
   "id": "13760354235505ef"
  }
 ],
 "metadata": {
  "kernelspec": {
   "display_name": "Python 3",
   "language": "python",
   "name": "python3"
  },
  "language_info": {
   "codemirror_mode": {
    "name": "ipython",
    "version": 2
   },
   "file_extension": ".py",
   "mimetype": "text/x-python",
   "name": "python",
   "nbconvert_exporter": "python",
   "pygments_lexer": "ipython2",
   "version": "2.7.6"
  }
 },
 "nbformat": 4,
 "nbformat_minor": 5
}
