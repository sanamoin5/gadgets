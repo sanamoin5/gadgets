{
 "cells": [
  {
   "cell_type": "code",
   "execution_count": 1,
   "id": "initial_id",
   "metadata": {
    "collapsed": true,
    "ExecuteTime": {
     "end_time": "2025-03-25T23:06:11.190869Z",
     "start_time": "2025-03-25T23:06:10.865449Z"
    }
   },
   "outputs": [],
   "source": [
    "import json\n",
    "import pandas as pd"
   ]
  },
  {
   "cell_type": "code",
   "execution_count": 2,
   "outputs": [
    {
     "data": {
      "text/plain": "              Filename Category  \\\n0  Webcams_amazon.json  Webcams   \n1  Webcams_amazon.json  Webcams   \n2  Webcams_amazon.json  Webcams   \n3  Webcams_amazon.json  Webcams   \n4  Webcams_amazon.json  Webcams   \n\n                                               Title  Price  Rating Currency  \\\n0  Logitech C270 Webcam, HD 720p, 60° Sichtfeld, ...  17.90     4.4      EUR   \n1  UGREEN Webcam Full HD 1080P/30fps USB Webcam f...  23.79     4.5      EUR   \n2  EMEET Full HD Webcam - C960 1080P Webcam mit O...  39.99     4.2      EUR   \n3  Logitech C920 HD PRO Webcam, Full-HD 1080p, 78...  61.19     4.6      EUR   \n4  Webcam mit mikrofon Kamera pc cam, 1080p HD, 3...  10.99     3.5      EUR   \n\n                                           Image URL        ASIN  \\\n0  https://m.media-amazon.com/images/I/61YVAzx4fq...  B01BGBJ8Y0   \n1  https://m.media-amazon.com/images/I/61cd5Oeo9U...  B0C76ZD7KV   \n2  https://m.media-amazon.com/images/I/61BW1Spm+U...  B0002HAHUY   \n3  https://m.media-amazon.com/images/I/71eGb1Fcyi...  B006A2Q81M   \n4  https://m.media-amazon.com/images/I/5157H4rWlg...  B0BG1YJWFN   \n\n                                                 URL  \\\n0  https://www.amazon.de/Logitech-Belichtungskorr...   \n1  https://www.amazon.de/UGREEN-Stereo-Audio-auto...   \n2  https://www.amazon.de/eMeet-Full-Webcam-automa...   \n3  https://www.amazon.de/Logitech-Sichtfeld-Stere...   \n4  https://www.amazon.de/mikrofon-Streaming-verst...   \n\n                         Sales Volume  Amazon's Choice  Best Seller  \\\n0  2000+ Mal im letzten Monat gekauft             True        False   \n1  2000+ Mal im letzten Monat gekauft            False        False   \n2  2000+ Mal im letzten Monat gekauft            False        False   \n3  2000+ Mal im letzten Monat gekauft            False        False   \n4   300+ Mal im letzten Monat gekauft            False        False   \n\n                                Shipping Information  Reviews Count  \n0  GRATIS Lieferung Fr., 10. Jan. für qualifizier...             22  \n1  GRATIS Lieferung Fr., 10. Jan. für qualifizier...            916  \n2  GRATIS Lieferung Fr., 10. Jan.Oder schnellste ...             31  \n3  GRATIS Lieferung Sa., 11. Jan.Oder schnellste ...              9  \n4  GRATIS Lieferung für qualifizierte Erstbestellung              1  ",
      "text/html": "<div>\n<style scoped>\n    .dataframe tbody tr th:only-of-type {\n        vertical-align: middle;\n    }\n\n    .dataframe tbody tr th {\n        vertical-align: top;\n    }\n\n    .dataframe thead th {\n        text-align: right;\n    }\n</style>\n<table border=\"1\" class=\"dataframe\">\n  <thead>\n    <tr style=\"text-align: right;\">\n      <th></th>\n      <th>Filename</th>\n      <th>Category</th>\n      <th>Title</th>\n      <th>Price</th>\n      <th>Rating</th>\n      <th>Currency</th>\n      <th>Image URL</th>\n      <th>ASIN</th>\n      <th>URL</th>\n      <th>Sales Volume</th>\n      <th>Amazon's Choice</th>\n      <th>Best Seller</th>\n      <th>Shipping Information</th>\n      <th>Reviews Count</th>\n    </tr>\n  </thead>\n  <tbody>\n    <tr>\n      <th>0</th>\n      <td>Webcams_amazon.json</td>\n      <td>Webcams</td>\n      <td>Logitech C270 Webcam, HD 720p, 60° Sichtfeld, ...</td>\n      <td>17.90</td>\n      <td>4.4</td>\n      <td>EUR</td>\n      <td>https://m.media-amazon.com/images/I/61YVAzx4fq...</td>\n      <td>B01BGBJ8Y0</td>\n      <td>https://www.amazon.de/Logitech-Belichtungskorr...</td>\n      <td>2000+ Mal im letzten Monat gekauft</td>\n      <td>True</td>\n      <td>False</td>\n      <td>GRATIS Lieferung Fr., 10. Jan. für qualifizier...</td>\n      <td>22</td>\n    </tr>\n    <tr>\n      <th>1</th>\n      <td>Webcams_amazon.json</td>\n      <td>Webcams</td>\n      <td>UGREEN Webcam Full HD 1080P/30fps USB Webcam f...</td>\n      <td>23.79</td>\n      <td>4.5</td>\n      <td>EUR</td>\n      <td>https://m.media-amazon.com/images/I/61cd5Oeo9U...</td>\n      <td>B0C76ZD7KV</td>\n      <td>https://www.amazon.de/UGREEN-Stereo-Audio-auto...</td>\n      <td>2000+ Mal im letzten Monat gekauft</td>\n      <td>False</td>\n      <td>False</td>\n      <td>GRATIS Lieferung Fr., 10. Jan. für qualifizier...</td>\n      <td>916</td>\n    </tr>\n    <tr>\n      <th>2</th>\n      <td>Webcams_amazon.json</td>\n      <td>Webcams</td>\n      <td>EMEET Full HD Webcam - C960 1080P Webcam mit O...</td>\n      <td>39.99</td>\n      <td>4.2</td>\n      <td>EUR</td>\n      <td>https://m.media-amazon.com/images/I/61BW1Spm+U...</td>\n      <td>B0002HAHUY</td>\n      <td>https://www.amazon.de/eMeet-Full-Webcam-automa...</td>\n      <td>2000+ Mal im letzten Monat gekauft</td>\n      <td>False</td>\n      <td>False</td>\n      <td>GRATIS Lieferung Fr., 10. Jan.Oder schnellste ...</td>\n      <td>31</td>\n    </tr>\n    <tr>\n      <th>3</th>\n      <td>Webcams_amazon.json</td>\n      <td>Webcams</td>\n      <td>Logitech C920 HD PRO Webcam, Full-HD 1080p, 78...</td>\n      <td>61.19</td>\n      <td>4.6</td>\n      <td>EUR</td>\n      <td>https://m.media-amazon.com/images/I/71eGb1Fcyi...</td>\n      <td>B006A2Q81M</td>\n      <td>https://www.amazon.de/Logitech-Sichtfeld-Stere...</td>\n      <td>2000+ Mal im letzten Monat gekauft</td>\n      <td>False</td>\n      <td>False</td>\n      <td>GRATIS Lieferung Sa., 11. Jan.Oder schnellste ...</td>\n      <td>9</td>\n    </tr>\n    <tr>\n      <th>4</th>\n      <td>Webcams_amazon.json</td>\n      <td>Webcams</td>\n      <td>Webcam mit mikrofon Kamera pc cam, 1080p HD, 3...</td>\n      <td>10.99</td>\n      <td>3.5</td>\n      <td>EUR</td>\n      <td>https://m.media-amazon.com/images/I/5157H4rWlg...</td>\n      <td>B0BG1YJWFN</td>\n      <td>https://www.amazon.de/mikrofon-Streaming-verst...</td>\n      <td>300+ Mal im letzten Monat gekauft</td>\n      <td>False</td>\n      <td>False</td>\n      <td>GRATIS Lieferung für qualifizierte Erstbestellung</td>\n      <td>1</td>\n    </tr>\n  </tbody>\n</table>\n</div>"
     },
     "execution_count": 2,
     "metadata": {},
     "output_type": "execute_result"
    }
   ],
   "source": [
    "df = pd.read_csv('/Users/sanamoin/Documents/sites/gadgets/backend/data/products_consolidated.csv')\n",
    "df.head()"
   ],
   "metadata": {
    "collapsed": false,
    "ExecuteTime": {
     "end_time": "2025-03-25T23:06:11.602296Z",
     "start_time": "2025-03-25T23:06:11.561615Z"
    }
   },
   "id": "6daabcb6e7ca4c0a"
  },
  {
   "cell_type": "code",
   "execution_count": 3,
   "outputs": [
    {
     "data": {
      "text/plain": "{'B08MWCCYVC',\n 'B08F2R83KH',\n 'B0D313VCT8',\n 'B0CL9BTQRF',\n 'B08M9FJM5L',\n 'B0BHXR4HLN',\n 'B09QSQ53ZB',\n 'B09KTH5KNQ',\n 'B0CXYHVSTK',\n 'B0CP31VPZ1',\n 'B0CYQ4Q821',\n 'B09W1B6KK9',\n 'B0BN1X4138',\n 'B0CX1GRYS2',\n 'B0D4QNNGD5',\n 'B0CFXZXJLS',\n 'B0948GP2P8',\n 'B0CYC75Y9L',\n 'B0CMTQPWQ8',\n 'B0CPJ6G3GJ',\n 'B0CWLTHCZZ',\n 'B0CD3NLC5G',\n 'B075K95FLP',\n 'B0CX5D1LYC',\n 'B0CT5K5YP6',\n 'B09BJV8MBW',\n 'B0BZV26N2D',\n 'B0D964LP2Q',\n 'B0CSYNWK5X',\n 'B0CXX7V2XR',\n 'B07BJ4PHN6',\n 'B0DB7VZKMK',\n 'B098P1X4KJ',\n 'B0CCZ1RDZR',\n 'B0DJ56NT9C',\n 'B07H282WHV',\n 'B0BNW4TMDR',\n 'B07Q9XXP79',\n 'B0D8LGR9PY',\n 'B0CSYQ7XJW',\n 'B0DFQ85W25',\n 'B0D44TL4B1',\n 'B0DHXVTPJR',\n 'B09DPRV9FW',\n 'B0BSXDJSPH',\n 'B0D6G2DK1T',\n 'B0DLNXVJ5D',\n 'B0DLNPDKKW',\n 'B0DCRLW3CZ',\n 'B0CW38FQJP',\n 'B0CKZB2LDV',\n 'B0CMPDJ2T2',\n 'B0D9NGLNSG',\n 'B0915LR62Q',\n 'B078K45ZDX',\n 'B0CR19R5LR',\n 'B09SWV5NB9',\n 'B0CZDP71WD',\n 'B00I3LUYNG',\n 'B0C33ZNLJP',\n 'B0CMZHK47W',\n 'B0CN2Y57Y8',\n 'B07S1RQRRB',\n 'B0CC943YPS',\n 'B07ZJKJ1Y8',\n 'B0BLNL3LG3',\n 'B0D4LX1CR6',\n 'B092VMPXY6',\n 'B0CXJ9GM3G',\n 'B0CQ55J2JH',\n 'B0CHYV6312',\n 'B08P5RC39C',\n 'B08ZN2XQ6J',\n 'B08QSFCDTW',\n 'B0D665VTLH',\n 'B0DK6YL89L',\n 'B09CZD8SMJ',\n 'B0CJV4MM8H',\n 'B0DGPF5B1S',\n 'B0BKFKPD6Q',\n 'B0DGXFNVLD',\n 'B0CQCVYB4R',\n 'B0CH8PTMGR',\n 'B0C1RSR54G',\n 'B0C5351V75',\n 'B08SWKGF33',\n 'B0D6G4KST6',\n 'B0DFLZLHB8',\n 'B07SW3YYTQ',\n 'B0BPJXG2PY',\n 'B08L92HRBR',\n 'B0B9RDK6LP',\n 'B08NXRX27D',\n 'B07Q7S7247',\n 'B09T3CTY2Y',\n 'B00KQPGRRE',\n 'B079G339J9',\n 'B0CDLFK7JN',\n 'B0BN52WRF8',\n 'B09CLQJSCY',\n 'B0CXJF3KN1',\n 'B09NCC2XKV',\n 'B07W7KWV2Y',\n 'B0DP4SRQH6',\n 'B098JTDPQC',\n 'B08G1G4XZJ',\n 'B0CMPSTF54',\n 'B0BZXXTDZD',\n 'B0D4QSL3JX',\n 'B08GS7748F',\n 'B0BXSNK5KD',\n 'B0D5Z1C5TB',\n 'B09X38PNP4',\n 'B0CWMKK686',\n 'B0CXJ383S9',\n 'B0BLYR1BBN',\n 'B0BZWGDLJH',\n 'B08H99BPJN',\n 'B0C2SPBSBN',\n 'B0D8T7DFN5',\n 'B0D5YHDR3V',\n 'B0CZR8MG4Z',\n 'B0DNR1FR5R',\n 'B0DJVSN1H8',\n 'B09CKR3FG3',\n 'B088B9F31C',\n 'B0D5CZ32Y1',\n 'B0DHZQ6F2B',\n 'B0BG52HZWV',\n 'B0C89C8BWD',\n 'B0CJ2N2KM1',\n 'B01KV7B2CG',\n 'B0BRNB14FN',\n 'B0748N1BZD',\n 'B0D1VKYZ7H',\n 'B0D6GS78KW',\n 'B0DGLD6RGK',\n 'B07NJMXWXH',\n 'B09GTTP7VF',\n 'B09GK4V196',\n 'B0CQR7G9DN',\n 'B09FXMT3ZF',\n 'B0CM6GP2QX',\n 'B0CS6CKV63',\n 'B0CTJ1DBTD',\n 'B0D9M7Q7WH',\n 'B0CN493YHF',\n 'B09DPR2LZW',\n 'B07W4KF9WJ',\n 'B07CZ6LWW4',\n 'B07KP2FFVM',\n 'B0BVG15PD8',\n 'B0DFC7GFS3',\n 'B09FJWPN99',\n 'B0C9JF1L1C',\n 'B0BRL6HNXT',\n 'B0BJW7XKY2',\n 'B0DH1MLD6S',\n 'B0B56TY3CY',\n 'B07W13KJZC',\n 'B0CB8KLTJ4',\n 'B07WHT1YTC',\n 'B07NZZZ746',\n 'B0CT8T77RW',\n 'B0CN9123K1',\n 'B0DMW5MD7Y',\n 'B0CRH5BKVN',\n 'B0CCQ5J1NZ',\n 'B0CDBWZT5X',\n 'B0C1HGXCQ4',\n 'B086ZSHB1V',\n 'B077QDGWX8',\n 'B0CQD48RJS',\n 'B0D2KW5GJ5',\n 'B0CLCW9SBM',\n 'B09MVXKQS7',\n 'B096S5WV62',\n 'B0CWP4R82J',\n 'B0B4P8YQQ7',\n 'B0C76ZD7KV',\n 'B0DPKYBHC4',\n 'B005FPD0O8',\n 'B0D9MFXXNN',\n 'B0CRRT48CL',\n 'B0DBZFD8WB',\n 'B0CPM3GZFW',\n 'B0CMPZ3FMW',\n 'B0DQ8DPVF7',\n 'B08NPY9L77',\n 'B0DJZDSZDR',\n 'B08DNQ52GF',\n 'B0D1VGDKZ6',\n 'B0CRB9XVZK',\n 'B08RHF2WKC',\n 'B094R56RQH',\n 'B0BYNZCTLF',\n 'B0CHVRTY1J',\n 'B0CVXPHHW9',\n 'B0CSP19YP1',\n 'B0CN4G42QG',\n 'B0713R3Y6F',\n 'B0CKDPBMJV',\n 'B0CP3TTLMP',\n 'B0CZMR4T3M',\n 'B0DNWFSN83',\n 'B0CFQLRL2Q',\n 'B07C88X1VV',\n 'B0CKSXNT3J',\n 'B0D94GT2BH',\n 'B0DM8LQPDF',\n 'B019XX69EA',\n 'B0885XYW7Z',\n 'B0BQ76K7JK',\n 'B0DG8Y1YXV',\n 'B01M5G69L9',\n 'B09K3H7M6X',\n 'B0D5BRQZ8F',\n 'B0CZDR9Z3S',\n 'B091Y51FXG',\n 'B0DD41G2NZ',\n 'B07XQ6Q7W5',\n 'B092JL5NS2',\n 'B0CKPTX13H',\n 'B0D78J1VGR',\n 'B0CF12FG7B',\n 'B09166X1VV',\n 'B0DJ2WKVSR',\n 'B07WVSF8VW',\n 'B0CQX87FTD',\n 'B09N9CY637',\n 'B098JKM76J',\n 'B09LQJBMSN',\n 'B09FJ7LWX4',\n 'B0C7H36Q8V',\n 'B0DGTBW8DV',\n 'B0DDCF24Q9',\n 'B0DB1SXBN8',\n 'B0DQCWJVWP',\n 'B0D86LGCC4',\n 'B099F1K8QN',\n 'B0BGHWMHGV',\n 'B09NB9DGWT',\n 'B0D2MTS6R2',\n 'B0B9NXMNHV',\n 'B0BHS5CHZ6',\n 'B0CH8VQNJC',\n 'B0CTBTVN27',\n 'B08KDZ2NZX',\n 'B0BXM3ZFKC',\n 'B0CJ51NN6Z',\n 'B0CZ993NSJ',\n 'B07K55FL73',\n 'B0CQLY942G',\n 'B07VPHR6GD',\n 'B0D8T84XZ7',\n 'B0CN98QF2Z',\n 'B0CP3BGVSX',\n 'B0CFPLP3YL',\n 'B0B824NB2D',\n 'B0DKSQH1NP',\n 'B09P1PBB4R',\n 'B0935CPWLJ',\n 'B0CCTV66RD',\n 'B0BVMD1LCB',\n 'B0C53TC1GS',\n 'B0C7YKH6PQ',\n 'B0CTKKH5W7',\n 'B0D9QHDXZF',\n 'B0DRDG3ZD5',\n 'B0D1GGM8BM',\n 'B091C3P6ZD',\n 'B0D66XX4DQ',\n 'B092MCLQBZ',\n 'B0DGK78ZW6',\n 'B097HHLQ1H',\n 'B0CSM6KZTX',\n 'B0BZHL8D2N',\n 'B08DKDLZQN',\n 'B07WGDC2SR',\n 'B0BZPK2CYZ',\n 'B0CB13BXSY',\n 'B0D66NXCLV',\n 'B09MHRYY5C',\n 'B0B9GJLV2D',\n 'B09W1B5S5W',\n 'B0BY1BYFS2',\n 'B0DP36G2DN',\n 'B086DC4MRL',\n 'B0D1CR2C3J',\n 'B0D5CV6MM6',\n 'B0CGHWYX5Z',\n 'B0DQDPT61K',\n 'B0D8YM9D2P',\n 'B07LGMRKCL',\n 'B0DKNDSMWF',\n 'B09MT5FNSC',\n 'B0CBJY4DR2',\n 'B09LYKNMJW',\n 'B0CGRK6DFK',\n 'B0C1Z6LKZG',\n 'B0CJ2B3GDQ',\n 'B07BKQ2R6R',\n 'B0BGXZRKQN',\n 'B0DCQYSM7W',\n 'B0BW15CPTY',\n 'B08F4444HM',\n 'B0CZ33JPCN',\n 'B0919BCQNN',\n 'B0DG234JX9',\n 'B08G8X7CZ7',\n 'B0CFPWLGF2',\n 'B0891YNFQT',\n 'B0D21WPFXK',\n 'B0CLXWRX3H',\n 'B07VV855C9',\n 'B08JW624NN',\n 'B0CSP1YQHN',\n '3747504647',\n 'B0DB1QS4SP',\n 'B0DF2WSHZR',\n 'B0CB6DZX79',\n 'B0C95KVZ8X',\n 'B0CHJK1YBV',\n 'B0BQR6Z8DG',\n 'B0C9PTXGRM',\n 'B08TY3VKPR',\n 'B09BXWZQ33',\n 'B09WF96MFV',\n 'B0B1SQQF9H',\n 'B0C43JDZVS',\n 'B0D93PC2YT',\n 'B09X1MJRVY',\n 'B0CWN56DNH',\n 'B0DFQKNMG5',\n 'B0BYJ79PHH',\n 'B0C591ZBG1',\n 'B0CT63LV3P',\n 'B0DGV75RG2',\n 'B0DP67YF3Q',\n 'B0DNVWDN8K',\n 'B0CWGJJYHG',\n 'B0B6WS7Q71',\n 'B08Y684SDF',\n 'B0DJX7G674',\n 'B0CBNQ8BLP',\n 'B0D3F8QTTH',\n 'B0DG5JJWSH',\n 'B0D6WV1C8T',\n 'B07V3SLD9R',\n 'B0DK55CPF7',\n 'B072R1HXX6',\n 'B098399X91',\n 'B08KHRJD4J',\n 'B0DK1NY4LW',\n 'B07VPVWNHV',\n 'B08VD6SRBZ',\n 'B0DM9K587V',\n 'B0DDKS2K4T',\n 'B0CRH891G3',\n 'B09Y1K6M6D',\n 'B0B81Q74NS',\n 'B0D7CC8YMX',\n 'B0CLCLKTGX',\n 'B0BYDN5BTC',\n 'B0BHYRG6V8',\n 'B0CWKT54V2',\n 'B0BR8T47BX',\n 'B0BZNJSMVM',\n 'B0CSFMRMZ1',\n 'B0CLJ7PDBD',\n 'B083J88QRS',\n 'B0CG7JHFKY',\n 'B09PR7GL4G',\n 'B0D9QQ5GP8',\n 'B0D2NGFWM6',\n 'B0CKFJL8MM',\n 'B09GWK2WZ1',\n 'B0CX2653FR',\n 'B0DDCFVWQW',\n 'B0876X5DF8',\n 'B0DN51SJYS',\n 'B09WDC1S17',\n 'B09DKTD152',\n 'B09GW4KWKM',\n '1681988992',\n 'B0B3RWB345',\n 'B08W568TK5',\n 'B09WN85W6Y',\n 'B0DH4C3NS4',\n 'B0DDC1XXYM',\n 'B0CYW9WV8W',\n 'B08SJ4YD89',\n 'B08PK58KJD',\n 'B0CHB39XXN',\n 'B0C5JD7J3J',\n 'B0C6XHYJNS',\n 'B08F7X7T14',\n 'B0C4TLFZSZ',\n 'B07D54H4G2',\n 'B08M9GNN9H',\n 'B09J8T6TTH',\n 'B0CN3FL26Z',\n 'B09L813SFC',\n 'B0BKSL34L8',\n 'B0DHZFT13P',\n 'B0CW1D5G2W',\n 'B09ZY6MDL8',\n 'B0B31GNZPX',\n 'B0B1GRC6VW',\n 'B0D3PRBXMZ',\n 'B0CCXQ5K3F',\n 'B0DDQLKVFL',\n 'B09P22HXH6',\n 'B0D14LNRTR',\n 'B0D5R1ZVHW',\n 'B0DDJNV9JK',\n 'B088YY76Z3',\n 'B0D8W4FNFF',\n 'B0DFWHHPLD',\n 'B0DGPLWFSR',\n 'B0DDCGLBBD',\n 'B0D2HR73Z1',\n 'B0DHSQ55B1',\n 'B07MTXLFXV',\n 'B0DD3YG61J',\n 'B0CZNFV5W2',\n 'B074HGD3WZ',\n 'B09HH3WVZW',\n 'B09BTQLSKM',\n 'B0DJF962NF',\n 'B0CX1TBG39',\n 'B0DHRGMHL4',\n 'B0CH12MBCP',\n 'B0CTMQZ7VN',\n 'B0DMW4S16T',\n 'B0BNVKDRSZ',\n 'B08C7KG5LP',\n 'B0D4GHZLRN',\n 'B0DMVTBNW1',\n 'B0B7J43WV8',\n 'B0CWD64GV7',\n 'B01CL7416I',\n 'B0CCJMTZHJ',\n 'B01MDU3NUK',\n 'B06VTRJGCP',\n 'B0DPQ6QFWL',\n 'B0C6QM2XT9',\n 'B097C5M3G4',\n 'B08M9NBLB6',\n 'B0BC2493C8',\n 'B0D9QPSDDP',\n 'B0D7MGG2JT',\n 'B0CPLR5D94',\n 'B0BCKPXXJ5',\n 'B0DGHYDYJL',\n 'B0DF7FB27H',\n 'B0DHVN5872',\n 'B0CZ78XFCQ',\n 'B0D964P5JW',\n 'B096DDZD8J',\n 'B094HQGJRC',\n 'B0BTMQB1YB',\n 'B0D73F8DGH',\n 'B0CGZXGW75',\n 'B0D6YSSKTM',\n 'B0CRVCFJKD',\n 'B0D35PWFCS',\n 'B0D53P4411',\n 'B0B4VQHQCN',\n 'B0C3236ZV3',\n 'B0DGTQLZ7G',\n 'B0CKML3W6R',\n 'B0CB475V26',\n 'B003IT6EX2',\n 'B0DFYJ546F',\n 'B0DPJSZYXN',\n 'B0DMDZHF56',\n 'B09BB9P9S9',\n 'B0DQTTYVH1',\n 'B0B3JHP728',\n 'B006A2Q81M',\n 'B0B7XD7R43',\n 'B07W5JK221',\n 'B09C8QHCS1',\n 'B09T6ZCZ69',\n 'B0CPB1GYPJ',\n 'B0CP1MH1J6',\n 'B07D1J88CF',\n 'B0CJ57VXDB',\n 'B0CTCRB4GY',\n 'B0BKW3BYFR',\n 'B0DK91P8SC',\n 'B0CWLJGJT5',\n 'B07RQX911B',\n '3551802602',\n 'B0CJ4YHFRS',\n 'B0DJNWB4NN',\n 'B0D3PWJVNN',\n 'B0DR2FFHB6',\n 'B0D9YNMSF5',\n 'B0C7GBMJCD',\n 'B0D6Z1MSZV',\n 'B09QD34363',\n 'B0DC6J9LJ3',\n 'B0CF3VVTLG',\n 'B0CZ7KFB41',\n 'B0BQJ9H7MJ',\n 'B0DK1VJFXK',\n 'B0BRVB427J',\n 'B092977F9Z',\n 'B0BF8RBDFR',\n 'B0BZJ4RFKR',\n 'B08BLCJ43C',\n 'B079JCLPBC',\n 'B0CCSPWRCD',\n 'B0CGQ4FHT4',\n 'B0D9H1WVR7',\n 'B0DG5WQPPZ',\n 'B07XXQ1XRT',\n 'B07ZQ9G7ZX',\n 'B07TRQH45S',\n 'B09ZY5LM3C',\n 'B0BX8PPBC3',\n 'B09YHJLQ4X',\n 'B0CTQTQY9M',\n 'B09M8TQ4Y5',\n 'B08F591M3H',\n 'B0BSGV8JJV',\n 'B0DHCN9LRS',\n 'B0DG2XCHQ2',\n 'B0DMT9B8NX',\n 'B072C79X1Z',\n 'B07D5R2JKL',\n 'B0DH3CY7H1',\n 'B0C3H5GS5Q',\n 'B09J7M4YH7',\n 'B0DBPQCCM6',\n 'B09NBZ1B8S',\n 'B0D9BFR2ZW',\n 'B0BQM3GCC7',\n 'B09GB1LN8V',\n 'B0C8B9J9ZF',\n 'B0CLPFTFYD',\n 'B0CCYC8T5C',\n 'B08YPSHZVQ',\n 'B08JH6DXCQ',\n 'B09B2S8WKD',\n 'B0CDGHK5XR',\n 'B0C2QCMCSR',\n 'B07Q2Q2K6Z',\n 'B0BRQS3B5N',\n '0241970342',\n 'B09Z71ZSM6',\n 'B07N1YLC23',\n 'B0BDLJGXPF',\n 'B0D9NLVYYY',\n 'B0DN1XK6FK',\n 'B0B4W56269',\n 'B0C4KVBBZM',\n 'B01BGBJ8Y0',\n 'B07ZS28XFY',\n 'B09HGGV5R5',\n 'B0BHWCJNWP',\n 'B0BLZMZF95',\n 'B0CY4ZFJZ5',\n 'B0CKC211N2',\n 'B0CTK9QC11',\n 'B0DBTVTGQW',\n 'B0DBLMVN74',\n 'B0093LON9Q',\n 'B08X6DH3WK',\n 'B0DD7C3D5Y',\n 'B0DBVNBHW2',\n 'B0CP447WV7',\n 'B0DK5794M1',\n 'B0DDCRR1QS',\n 'B0DKDT6LMS',\n 'B0DKHTF7GW',\n 'B09DFZ415R',\n 'B08J4DSV3Q',\n 'B09ZLRD7Z9',\n 'B0DDPC4176',\n 'B0CCDNJS75',\n 'B0CBCNY4K2',\n 'B003JHQMQW',\n 'B07YWWPV7L',\n 'B07R54D1NF',\n 'B0CCV74CL7',\n 'B0C2TVLWXX',\n 'B0DP3C5SVQ',\n 'B0DG2D9HH2',\n 'B09DTLRGD1',\n 'B0C46CS37H',\n 'B094XKKW54',\n 'B0BN6RRD5V',\n 'B0928XQDJW',\n 'B0D3P8V8N2',\n 'B0DN9P831B',\n 'B07FTPX71F',\n 'B0DFLZY9FZ',\n 'B09PFPVK8W',\n 'B08T1YPQF8',\n 'B0DFQK29P3',\n 'B096XZHK49',\n 'B0CBJGGP16',\n 'B0DJXN9ZY1',\n 'B0CS6LC1ZQ',\n 'B08GRG7S97',\n 'B0C6F4RYBP',\n '3898947750',\n 'B0DGGX6V21',\n 'B0BPCMJM14',\n 'B0882CJM9K',\n 'B0DHXJVP19',\n 'B0CLGK5YK6',\n 'B0DJZBLC1J',\n 'B07VNTFHD5',\n 'B0CCY8RBJD',\n 'B0DFXXM38Z',\n 'B0BNDY2KFR',\n 'B0CWLCFJ6Y',\n 'B0C8TXKSJ1',\n 'B0C4GN5QZ1',\n 'B0CG6NR413',\n 'B0CDGXLSZN',\n 'B0D9K8WX4M',\n 'B0CKTRX8HH',\n 'B0DG8J3XSC',\n 'B09R6L96Z9',\n 'B07ZS5D7F4',\n 'B0BHTJLFVP',\n 'B08XXRX472',\n 'B0DK4MKQP5',\n 'B079GC95S4',\n 'B0BB6PPJN5',\n 'B0D8KJ3CML',\n 'B007ZOAF3G',\n 'B0C4F9JGTJ',\n 'B0C27MSMC9',\n 'B09H7FVCKN',\n 'B0CMQ8HM44',\n 'B0B62K5H9P',\n 'B0DHVFRVR4',\n 'B0D4YL2TD5',\n 'B0CDJXKM33',\n 'B0CXL4X2QW',\n 'B0D9BMMGPY',\n 'B0D8JJRCJN',\n 'B0DDPTCDJC',\n 'B0CDC6Y617',\n 'B0829G8ML5',\n 'B0D7CVFTL1',\n 'B0CMW2WTNJ',\n 'B0D4VBN5RD',\n 'B072J49RNL',\n 'B0D9MCK4R8',\n 'B0BG2BCV6W',\n 'B0CBV5VH6F',\n 'B0CJJZ35PG',\n 'B0BBRGXD5Q',\n 'B0DBZ9Q3V5',\n 'B0CKVNGTKS',\n 'B0CYM58GFS',\n 'B016ZLYVKM',\n 'B08QYXP6YS',\n 'B0C18YMH91',\n 'B07R4R75DP',\n 'B0D3J1BJQN',\n 'B0BJKNLTRS',\n 'B0D97HRJDM',\n 'B07GXXC451',\n 'B0CNHBRZJT',\n 'B07H9G6BGJ',\n 'B0CZJVM3T3',\n 'B08GXXLTYG',\n 'B0DK1SW2D5',\n 'B0CDH3SMDW',\n 'B092JG1LT2',\n 'B0CY7WHQN3',\n 'B0BHDDH5W1',\n 'B0D6RGM4ZH',\n 'B0CSFT4GFT',\n 'B07QHZQG6G',\n 'B09DW71YFW',\n 'B0D2MVMHZW',\n 'B08HMWZBXC',\n 'B09CDD353J',\n 'B0CP839PQ2',\n 'B075WYBQXJ',\n 'B0D2MZKRRL',\n 'B0D2VD4JNP',\n 'B0D7MLXCJX',\n 'B0C49LLQSH',\n 'B0CSVXBQJP',\n 'B09ZXFQ446',\n 'B0CQLVDS4L',\n 'B099BPTP7S',\n 'B0CS6GJJJG',\n 'B092VBHPHB',\n 'B0CY4DWMY7',\n 'B094QNDLRD',\n 'B08NWRV5HD',\n 'B07W5JKPK6',\n 'B0DGLXTFPP',\n 'B08P8LCCPM',\n 'B08937FYPB',\n 'B0CCSHV2W8',\n 'B0B51T6GWY',\n 'B0DJZK9S1S',\n 'B0D95XGVW3',\n 'B0D22N7BD5',\n 'B0C11JL8BQ',\n 'B0CBRKXT87',\n 'B07Q4F4B7D',\n 'B089LTY8X7',\n 'B0725HXGTH',\n 'B0D7C599ZD',\n 'B0CPJMP234',\n 'B0CQJXSPKV',\n 'B0CH6DJLWJ',\n 'B08LDNHJW3',\n '3551803048',\n '1614506493',\n 'B00N1YPXW2',\n 'B0CYCPTQJQ',\n 'B0BLP5Z3M4',\n 'B0CT2YVKWF',\n 'B07CRG94G3',\n 'B087M942Y6',\n 'B0DHH1711B',\n 'B0DKNH4KZ4',\n 'B0BNVJJCY2',\n 'B0DCVMN51Z',\n 'B0DJQDJ68H',\n 'B0CBCRRVBT',\n 'B0CT5R6D71',\n 'B0CM3C9HRG',\n 'B0DBLN4C47',\n 'B07XVQVYPT',\n 'B0CGX72YX7',\n 'B0DKH36BFK',\n 'B0BK84XP9K',\n 'B0D9VN4LN1',\n 'B0D72XCMKF',\n 'B0DJFJ12BC',\n 'B0CBP4Y5QZ',\n 'B0CW9JTVRQ',\n 'B0D226ZMHG',\n 'B09T2FTC9F',\n 'B079BQ1BKH',\n 'B0D37ZDYLH',\n 'B0CJXXSGCJ',\n 'B0CGNLJG2F',\n 'B005HNU2JY',\n 'B0CY1PJ2CN',\n 'B0B6SM3Y9P',\n 'B0CLVK9XRR',\n 'B07W4DHKTD',\n 'B0CH87VY5B',\n 'B0CKBY4B1B',\n 'B0CT5R7XXL',\n 'B0D5LNSP72',\n 'B07W7N1PZP',\n 'B0D2KL45P5',\n 'B0D58N37XQ',\n 'B0D2KYGBNQ',\n 'B0BRNQTY7Z',\n 'B0B5XNJ39C',\n 'B0CCY7HH9W',\n 'B0D4B18D9Y',\n 'B074H6X7KF',\n 'B0DP3CJVY8',\n 'B0CQQMHBGW',\n 'B084WLMKGT',\n 'B0CDP59QNH',\n 'B0B9LDPXBF',\n 'B07VXP551Z',\n 'B0CKMDHHLC',\n 'B0D8BZDPXB',\n 'B0DNYSJYH1',\n 'B0BQWGN432',\n 'B0CLGSZNYJ',\n 'B0C1GR8KN1',\n 'B00FSCNLME',\n 'B0DHQWS6TL',\n 'B08QCZBBX3',\n 'B0DDTBW2TG',\n 'B0DJQZPHTM',\n 'B0D97CPK6N',\n 'B0CS6LY1V7',\n 'B08P517NW5',\n 'B0CH7SK2HS',\n 'B0CM28YH6K',\n 'B0CKWBQQWQ',\n 'B08PS9Y3Z4',\n 'B08CVDHCGL',\n 'B0B4WTHLX5',\n 'B0CPPP3VL6',\n 'B08RYT73RY',\n 'B093X8BWY1',\n 'B09KH8K7H3',\n 'B0CDFYBG8Y',\n 'B0CFLXRP1Q',\n 'B0DC3Y21BL',\n 'B0DB78Z3FX',\n 'B0B4JN569T',\n 'B0DJ46ZYLW',\n 'B07W4DHK8T',\n 'B0BZY83YMD',\n 'B0D9D6C16K',\n 'B0C8B6WN62',\n 'B0CY2WZLQ4',\n 'B098BFMDY3',\n 'B0CSBKXJHK',\n 'B0D91GJP1W',\n 'B09G755CQR',\n 'B0CZ9DRC6M',\n 'B0D7CXBHTY',\n 'B0CXXFNNMM',\n 'B09HTVXFG3',\n 'B0DGM7TY61',\n 'B0CPPZLGQR',\n 'B08NXC53PR',\n 'B0D31T4MNJ',\n 'B09SHPDVPD',\n 'B0D9NGFBNY',\n 'B075WWSMFN',\n 'B0D2MPD3LY',\n 'B0BHY7FT9R',\n 'B0DPJ1DBDK',\n 'B09FKFDZJH',\n 'B0DHNCH6M4',\n 'B0CJF9QKZ5',\n 'B09YD6316C',\n 'B0CF5KS5XK',\n 'B0CGLSRFXB',\n 'B0BHS7R5YV',\n 'B0CG8V3CHQ',\n 'B0D5R8Y6YR',\n 'B07PHXBNKC',\n 'B0CTJPLYSC',\n 'B0D6YXZ3JQ',\n 'B07FDL3NGT',\n 'B0DF2651JN',\n 'B0DJ33DB95',\n 'B0CQ56P6W5',\n 'B0CGVTJ47Z',\n 'B0DBHR3N3H',\n 'B0CSXVRPPK',\n 'B0CDLVCQ5C',\n 'B0D9H6VRCZ',\n 'B0DK98ZTYN',\n 'B087HNWHHS',\n 'B0851YZFJR',\n 'B07W6HMG1C',\n 'B09RGBYQCF',\n 'B0DGMNQZFH',\n 'B0CQRKVKXZ',\n 'B07ZNYQ7CV',\n 'B0CBR9BMHY',\n 'B09KBR76LJ',\n 'B0BJJJ8GF6',\n 'B0DKHFDP82',\n 'B0CJR7KYGN',\n 'B0CXP4HJKK',\n 'B0CJL7QJND',\n 'B0CWNQQ4BD',\n 'B0DKPB9FBY',\n 'B0D9Y3DV4C',\n 'B0D1KYHSQZ',\n 'B0CPY6VTH6',\n 'B0CN91SDV3',\n 'B0977MTK65',\n 'B0CK5LNP3R',\n 'B0CG9NTJ92',\n 'B0CGR99RR9',\n 'B0CQTGDPDC',\n 'B09G6TJ3BW',\n 'B0D9W1PHD4',\n 'B0DJKTKW57',\n 'B0DGGTYDLJ',\n 'B0CHVYB3QT',\n 'B0D4YH4GV5',\n '3551630739',\n 'B09Y2QLCSW',\n '1732984409',\n 'B0CJ53FVFF',\n 'B0CWN7HHRB',\n 'B0DDTX81S2',\n 'B0DHZN11TP',\n 'B0CM3FX4PC',\n 'B0BZZKS96H',\n 'B0DBYH746G',\n 'B0D25ZFW9K',\n 'B0CNH5V4J7',\n 'B0DK36N98Q',\n 'B0D7Z8PL5S',\n 'B0CQ8RGSD4',\n 'B0BRQMVCXL',\n 'B07CGVGMLD',\n 'B0DDXLCGS6',\n 'B0DN13FB44',\n 'B0CS3W1DMF',\n 'B094D8Q7N2',\n 'B09FT58QQP',\n '311074192X',\n 'B0BN2ZFH9N',\n 'B0DJ8V8Q18',\n 'B092B848G3',\n 'B08TMFJPHV',\n 'B0CVDJYYRR',\n 'B0B5G9531R',\n 'B0CT4KCBZY',\n 'B0D5CGM1YR',\n 'B0DB5NYJN4',\n 'B09F2FM43B',\n 'B0DGXP4STK',\n 'B0CT9262HR',\n 'B0D81J9XPS',\n 'B0BTT5YV4L',\n 'B0C3LN9BDC',\n 'B07W5JKKFJ',\n 'B0DGTMFCJF',\n 'B09ZTXX3N7',\n 'B0DDY16NM1',\n 'B0C6KSLBNP',\n 'B088HHWC47',\n 'B0BZ4P7ZMP',\n 'B08V8YGN1M',\n 'B0CCVBQRFX',\n 'B08WCM8SS8',\n 'B094PS5RZQ',\n 'B086GDR9DV',\n 'B0916TX8NR',\n 'B0B2RDTY4P',\n 'B07FLJ9DWJ',\n 'B0CW9MNSD7',\n 'B0CBVNHLPS',\n 'B0BXGM2YYC',\n 'B0DKXS9M3R',\n 'B0D7VRDQTG',\n 'B0DHCXDXQC',\n 'B092RDWD3W',\n 'B0BZTJKZ5L',\n 'B09LV87BDF',\n 'B0CL7FZ5NV',\n 'B0C89TSV5D',\n 'B085FG1SN4',\n 'B0D3D5SSY8',\n 'B0B5KWJW6T',\n 'B0DCSHSSFF',\n 'B0D54386H7',\n 'B0CPY7H952',\n 'B07W3HC51G',\n 'B07W5JK5Y2',\n 'B09J593WSR',\n 'B07W7MNYXB',\n 'B0B51QNVLV',\n 'B0DHSDXRT3',\n 'B0CTMTKCRY',\n 'B0DLGSJK7K',\n 'B07W5JKP66',\n 'B0C76Z6YC2',\n 'B0CHYCBB5H',\n 'B09X5XYG12',\n 'B00MUI7OBS',\n 'B0DNN5VT7Z',\n 'B0C15CBPNH',\n 'B09N7G6C1B',\n 'B0D89YBTL7',\n '1838862919',\n 'B0DJPZ4FPV',\n 'B0B5GP9FXN',\n 'B0D4M8TTQY',\n 'B0CNWCTJPF',\n 'B0D9YJBMQ9',\n 'B0CGR2Q56R',\n 'B0D7VRGPC4',\n 'B092V96H5H',\n 'B0DCJPY5LW',\n 'B0D9BDYGWB',\n 'B0BJFPT1CR',\n 'B0CB6Q115Z',\n 'B07GFL5YBX',\n 'B07DCJL3MN',\n 'B0D6NF4TYP',\n 'B0CD77WKLN',\n 'B0D16XF5L7',\n 'B0C28KGM9N',\n 'B0CQX59ZPB',\n 'B0BZRGWCHZ',\n 'B0BR7LGZ8W',\n 'B085VTVZ2D',\n 'B0D8SH47XV',\n 'B086PKMZ21',\n 'B07K25XW3F',\n 'B08GX8SDYG',\n 'B0D7HWKC2D',\n 'B09QQMF3KN',\n 'B09HGR1DVC',\n ...}"
     },
     "execution_count": 3,
     "metadata": {},
     "output_type": "execute_result"
    }
   ],
   "source": [
    "asins = set(df.ASIN.unique())\n",
    "asins"
   ],
   "metadata": {
    "collapsed": false,
    "ExecuteTime": {
     "end_time": "2025-03-25T23:06:13.413422Z",
     "start_time": "2025-03-25T23:06:13.410123Z"
    }
   },
   "id": "ab11cc1ee99f4db3"
  },
  {
   "cell_type": "code",
   "execution_count": 12,
   "outputs": [],
   "source": [
    "# Track which ASINs were found\n",
    "found_asins = set()\n",
    "\n",
    "# Prepare output file\n",
    "with pd.read_csv(\"/Users/sanamoin/Documents/sites/gadgets/backend/experiments/preprocessed_data/merged_electronics.csv\", chunksize=100_000) as reader, \\\n",
    "     open(\"filtered_reviews.csv\", \"w\") as f_out:\n",
    "\n",
    "    for i, chunk in enumerate(reader):\n",
    "        # Filter rows with ASINs in your list\n",
    "        filtered = chunk[chunk[\"asin\"].isin(asins)]\n",
    "        \n",
    "        # Track found ASINs\n",
    "        found_asins.update(filtered[\"asin\"].unique())\n",
    "\n",
    "        # Write filtered reviews to file\n",
    "        if not filtered.empty:\n",
    "            filtered.to_csv(f_out, index=False, header=(i == 0))  # header=True for first chunk\n",
    "\n"
   ],
   "metadata": {
    "collapsed": false,
    "ExecuteTime": {
     "end_time": "2025-03-25T22:48:51.496924Z",
     "start_time": "2025-03-25T22:44:41.852384Z"
    }
   },
   "id": "a0bc20c301baacfe"
  },
  {
   "cell_type": "code",
   "execution_count": 13,
   "outputs": [],
   "source": [
    "\n",
    "# Calculate ASINs not found in the review file\n",
    "not_found_asins = asins - found_asins\n",
    "\n"
   ],
   "metadata": {
    "collapsed": false,
    "ExecuteTime": {
     "end_time": "2025-03-25T22:48:51.501284Z",
     "start_time": "2025-03-25T22:48:51.497937Z"
    }
   },
   "id": "93be2040e3aa205e"
  },
  {
   "cell_type": "code",
   "execution_count": 14,
   "outputs": [
    {
     "name": "stdout",
     "output_type": "stream",
     "text": [
      "Found reviews for 47 ASINs.\n",
      "2682 ASINs were not found in the review data.\n"
     ]
    }
   ],
   "source": [
    "# Save the missing ASINs if you like\n",
    "with open(\"asins_not_found.txt\", \"w\") as f:\n",
    "    for asin in not_found_asins:\n",
    "        f.write(f\"{asin}\\n\")\n",
    "\n",
    "print(f\"Found reviews for {len(found_asins)} ASINs.\")\n",
    "print(f\"{len(not_found_asins)} ASINs were not found in the review data.\")"
   ],
   "metadata": {
    "collapsed": false,
    "ExecuteTime": {
     "end_time": "2025-03-25T22:48:51.506088Z",
     "start_time": "2025-03-25T22:48:51.500263Z"
    }
   },
   "id": "ba33417717a73e22"
  },
  {
   "cell_type": "code",
   "execution_count": 4,
   "outputs": [
    {
     "data": {
      "text/plain": "['gaming Lighting Kits',\n 'Gaming Hard Drives',\n 'Portable gaming Consoles',\n 'Portable Monitors',\n 'RGB Keyboards',\n 'Action Cameras',\n 'Smart Watches',\n 'Mechanical Keyboards',\n 'Smart Speakers',\n 'Drawing Tablets',\n 'VR Accessories',\n 'Webcams',\n 'xbox console',\n 'VR Headsets',\n 'xbox controller',\n 'Ergonomic Gaming Chairs',\n 'VR Controllers',\n 'tablets',\n 'gaming Cooling',\n 'Gaming Glasses',\n 'rgb desk lights gaming',\n 'Compact Keyboards',\n 'Wireless Earbuds',\n 'Drones',\n 'Mobile Gaming Controllers',\n 'Gimbals',\n 'gaming monitor',\n 'E-Readers',\n 'Gaming Headsets',\n 'laptops',\n 'Digital Note',\n 'RGB Gaming Chairs',\n 'headphones',\n 'gaming controller',\n 'Ring Lights',\n 'nintendo switch',\n 'Smart Rings',\n 'Bean Bag Gaming Chairs',\n 'Lightweight Mice',\n 'Microphones gaming',\n 'Instant Cameras']"
     },
     "execution_count": 4,
     "metadata": {},
     "output_type": "execute_result"
    }
   ],
   "source": [
    "category_keywords = list(set(df.Category.unique()))\n",
    "category_keywords"
   ],
   "metadata": {
    "collapsed": false,
    "ExecuteTime": {
     "end_time": "2025-03-25T23:06:22.429382Z",
     "start_time": "2025-03-25T23:06:22.425398Z"
    }
   },
   "id": "3c2168d88e54107b"
  },
  {
   "cell_type": "code",
   "execution_count": 5,
   "outputs": [],
   "source": [
    "# Make lowercase for consistency\n",
    "category_keywords = [kw.lower() for kw in category_keywords]\n",
    "\n",
    "# Set up tracker\n",
    "found_asins = set()\n",
    "category_set = set(category_keywords)\n",
    "matched_categories = set()\n",
    "# Prepare CSV processing\n",
    "with pd.read_csv(\"/Users/sanamoin/Documents/sites/gadgets/backend/experiments/preprocessed_data/merged_electronics.csv\", chunksize=100_000) as reader, \\\n",
    "     open(\"filtered_reviews_asin_keywordmatch.csv\", \"w\") as f_out:\n",
    "\n",
    "    for i, chunk in enumerate(reader):\n",
    "        # Ensure metadata is a clean lowercase string\n",
    "        chunk[\"cleaned_metadata\"] = chunk[\"cleaned_metadata\"].fillna(\"\").astype(str).str.lower()\n",
    "\n",
    "        # ASIN match\n",
    "        mask_asin = chunk[\"asin\"].isin(asins)\n",
    "\n",
    "        # Metadata keyword match with tracking\n",
    "        def match_metadata(meta):\n",
    "            matched = [kw for kw in category_keywords if kw in meta]\n",
    "            matched_categories.update(matched)\n",
    "            return bool(matched)\n",
    "\n",
    "        mask_metadata = chunk[\"cleaned_metadata\"].apply(match_metadata)\n",
    "\n",
    "        # Combine both filters\n",
    "        filtered = chunk[mask_asin | mask_metadata]\n",
    "\n",
    "        # Track ASINs found\n",
    "        found_asins.update(filtered[\"asin\"].dropna().unique())\n",
    "\n",
    "        # Save filtered data\n",
    "        if not filtered.empty:\n",
    "            filtered.to_csv(f_out, index=False, header=(i == 0))\n",
    "\n",
    "\n",
    "\n"
   ],
   "metadata": {
    "collapsed": false,
    "ExecuteTime": {
     "end_time": "2025-03-25T23:20:58.971662Z",
     "start_time": "2025-03-25T23:06:23.902891Z"
    }
   },
   "id": "1d102c220360ae88"
  },
  {
   "cell_type": "code",
   "execution_count": 6,
   "outputs": [
    {
     "name": "stdout",
     "output_type": "stream",
     "text": [
      "✅ Done!\n",
      "🔎 Found reviews for 105427 ASINs, missed 2682.\n",
      "📂 Found 35 categories, missed 6.\n"
     ]
    }
   ],
   "source": [
    "# Get ASINs not found\n",
    "not_found_asins = asins - found_asins\n",
    "with open(\"asins_not_found_again.txt\", \"w\") as f:\n",
    "    for asin in not_found_asins:\n",
    "        f.write(f\"{asin}\\n\")\n",
    "\n",
    "# Get categories not found\n",
    "not_found_categories = category_set - matched_categories\n",
    "with open(\"categories_not_found.txt\", \"w\") as f:\n",
    "    for cat in not_found_categories:\n",
    "        f.write(f\"{cat}\\n\")\n",
    "\n",
    "print(f\"✅ Done!\")\n",
    "print(f\"🔎 Found reviews for {len(found_asins)} ASINs, missed {len(not_found_asins)}.\")\n",
    "print(f\"📂 Found {len(matched_categories)} categories, missed {len(not_found_categories)}.\")"
   ],
   "metadata": {
    "collapsed": false,
    "ExecuteTime": {
     "end_time": "2025-03-25T23:20:58.982519Z",
     "start_time": "2025-03-25T23:20:58.973716Z"
    }
   },
   "id": "dc16476bfaed6800"
  },
  {
   "cell_type": "code",
   "execution_count": null,
   "outputs": [],
   "source": [],
   "metadata": {
    "collapsed": false
   },
   "id": "73c9b0b8d25f64e0"
  }
 ],
 "metadata": {
  "kernelspec": {
   "display_name": "Python 3",
   "language": "python",
   "name": "python3"
  },
  "language_info": {
   "codemirror_mode": {
    "name": "ipython",
    "version": 2
   },
   "file_extension": ".py",
   "mimetype": "text/x-python",
   "name": "python",
   "nbconvert_exporter": "python",
   "pygments_lexer": "ipython2",
   "version": "2.7.6"
  }
 },
 "nbformat": 4,
 "nbformat_minor": 5
}
