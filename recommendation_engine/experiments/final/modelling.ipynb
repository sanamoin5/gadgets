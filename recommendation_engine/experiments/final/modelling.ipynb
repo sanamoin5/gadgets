{
 "cells": [
  {
   "cell_type": "code",
   "execution_count": 1,
   "id": "initial_id",
   "metadata": {
    "collapsed": true,
    "ExecuteTime": {
     "end_time": "2025-03-25T23:33:59.515633Z",
     "start_time": "2025-03-25T23:33:55.496051Z"
    }
   },
   "outputs": [],
   "source": [
    "import os\n",
    "import re\n",
    "import html\n",
    "import json\n",
    "import math\n",
    "import random\n",
    "import pandas as pd\n",
    "import numpy as np\n",
    "from sklearn.model_selection import train_test_split\n",
    "from tqdm import tqdm\n",
    "\n",
    "import torch\n",
    "import torch.nn as nn\n",
    "import torch.nn.functional as F\n",
    "import torch.optim as optim\n",
    "from torch.utils.data import Dataset, DataLoader\n",
    "\n",
    "from transformers import BertTokenizer, BertModel, get_linear_schedule_with_warmup\n",
    "from datasets import load_dataset\n",
    "from datasets import load_dataset"
   ]
  },
  {
   "cell_type": "code",
   "execution_count": 2,
   "outputs": [],
   "source": [
    "\n",
    "\n",
    "# ---------------------------\n",
    "# Cleaning Functions\n",
    "# ---------------------------\n",
    "def clean_text(raw_text):\n",
    "    \"\"\"\n",
    "    Clean raw text: join lists, remove HTML entities, strip newlines/quotes,\n",
    "    and ensure ending with a period.\n",
    "    \"\"\"\n",
    "    if isinstance(raw_text, list):\n",
    "        cleaned_text = ' '.join(raw_text)\n",
    "    elif isinstance(raw_text, dict):\n",
    "        cleaned_text = str(raw_text)\n",
    "    else:\n",
    "        cleaned_text = str(raw_text)\n",
    "    cleaned_text = html.unescape(cleaned_text)\n",
    "    cleaned_text = re.sub(r'[\\n\\r]+', ' ', cleaned_text)\n",
    "    cleaned_text = re.sub(r'[\"]+', '', cleaned_text)\n",
    "    cleaned_text = cleaned_text.strip()\n",
    "    if not cleaned_text.endswith('.'):\n",
    "        cleaned_text += '.'\n",
    "    return cleaned_text\n",
    "\n",
    "def clean_review(example):\n",
    "    \"\"\"\n",
    "    Clean review by combining title and text fields.\n",
    "    \"\"\"\n",
    "    title = example.get('title', '')\n",
    "    text = example.get('text', '')\n",
    "    combined = (title + \". \" + text).strip() if title else text\n",
    "    example['cleaned_review'] = clean_text(combined)\n",
    "    return example\n",
    "\n",
    "def clean_metadata(example):\n",
    "    \"\"\"\n",
    "    Clean metadata by combining fields such as title and description.\n",
    "    \"\"\"\n",
    "    title = example.get('title', '')\n",
    "    description = example.get('description', [])\n",
    "    if isinstance(description, list):\n",
    "        description = ' '.join(description)\n",
    "    meta_combined = (title + \". \" + description).strip() if title else description\n",
    "    example['cleaned_metadata'] = clean_text(meta_combined)\n",
    "    return example\n",
    "\n",
    "# ---------------------------\n",
    "# Streaming Preprocessing Functions\n",
    "# ---------------------------\n",
    "def stream_clean_jsonl(input_path, output_csv, mode=\"review\"):\n",
    "    \"\"\"\n",
    "    Stream-process a JSONL file (either reviews or metadata) and write cleaned CSV.\n",
    "    mode: \"review\" or \"metadata\" determines which cleaning function and fields to use.\n",
    "    \"\"\"\n",
    "    os.makedirs(os.path.dirname(output_csv), exist_ok=True)\n",
    "    with open(input_path, 'r', encoding='utf-8') as f_in, open(output_csv, \"w\", encoding=\"utf-8\") as f_out:\n",
    "        # Write header based on mode\n",
    "        if mode == \"review\":\n",
    "            header = \"asin,cleaned_review,rating\\n\"\n",
    "        elif mode == \"metadata\":\n",
    "            header = \"parent_asin,cleaned_metadata,price\\n\"\n",
    "        else:\n",
    "            raise ValueError(\"Mode must be 'review' or 'metadata'\")\n",
    "        f_out.write(header)\n",
    "        \n",
    "        for i, line in enumerate(tqdm(f_in, desc=f\"Processing {mode} lines\")):\n",
    "            if max_lines and i >= max_lines:\n",
    "                break\n",
    "            try:\n",
    "                data = json.loads(line.strip())\n",
    "                if mode == \"review\":\n",
    "                    data = clean_review(data)\n",
    "                    # Ensure required fields exist\n",
    "                    asin = data.get(\"asin\", \"\").strip()\n",
    "                    cleaned_review = data.get(\"cleaned_review\", \"\").strip()\n",
    "                    rating = data.get(\"rating\", None)\n",
    "                    if asin and cleaned_review and rating is not None:\n",
    "                        # Wrap text fields in quotes to avoid CSV issues\n",
    "                        row = f'\"{asin}\",\"{cleaned_review}\",{rating}\\n'\n",
    "                        f_out.write(row)\n",
    "                elif mode == \"metadata\":\n",
    "                    data = clean_metadata(data)\n",
    "                    parent_asin = data.get(\"parent_asin\", \"\").strip()\n",
    "                    cleaned_metadata = data.get(\"cleaned_metadata\", \"\").strip()\n",
    "                    price = data.get(\"price\", None)\n",
    "                    if parent_asin and cleaned_metadata:\n",
    "                        # Price may be null; write as empty string if so.\n",
    "                        price_str = str(price) if price not in [None, \"None\"] else \"\"\n",
    "                        row = f'\"{parent_asin}\",\"{cleaned_metadata}\",{price_str}\\n'\n",
    "                        f_out.write(row)\n",
    "            except Exception as e:\n",
    "                # Skip problematic lines\n",
    "                print(f\"Skipping line {i} due to error: {e}\")\n",
    "    print(f\"Finished processing {mode} data; output written to {output_csv}\")\n",
    "\n",
    "# ---------------------------\n",
    "# Chunked Merge Function\n",
    "# ---------------------------\n",
    "def merge_reviews_with_metadata(review_csv, meta_csv, output_csv, chunk_size=500000):\n",
    "    \"\"\"\n",
    "    Merge large reviews CSV (loaded in chunks) with metadata CSV.\n",
    "    Metadata is loaded fully (assumed to be smaller).\n",
    "    Writes merged chunks to output CSV incrementally.\n",
    "    \"\"\"\n",
    "    print(\"Loading metadata into memory...\")\n",
    "    meta_df = pd.read_csv(meta_csv)\n",
    "    meta_df = meta_df.drop_duplicates(subset=[\"parent_asin\"])\n",
    "    meta_df.set_index(\"parent_asin\", inplace=True)\n",
    "    \n",
    "    # Prepare output file\n",
    "    if os.path.exists(output_csv):\n",
    "        os.remove(output_csv)\n",
    "    header_written = False\n",
    "    \n",
    "    print(\"Starting chunked merge of reviews with metadata...\")\n",
    "    for chunk in pd.read_csv(review_csv, chunksize=chunk_size):\n",
    "        merged_chunk = chunk.merge(meta_df, left_on=\"asin\", right_index=True, how=\"inner\")\n",
    "        # Keep only necessary columns\n",
    "        merged_chunk = merged_chunk[[\"asin\", \"cleaned_review\", \"cleaned_metadata\", \"rating\", \"price\"]]\n",
    "        # Convert price to numeric and fill missing\n",
    "        merged_chunk[\"price\"] = pd.to_numeric(merged_chunk[\"price\"], errors=\"coerce\")\n",
    "        merged_chunk[\"price\"] = merged_chunk[\"price\"].fillna(merged_chunk[\"price\"].median())\n",
    "\n",
    "        \n",
    "        # Write header only once\n",
    "        if not header_written:\n",
    "            merged_chunk.to_csv(output_csv, index=False, mode=\"w\")\n",
    "            header_written = True\n",
    "        else:\n",
    "            merged_chunk.to_csv(output_csv, index=False, header=False, mode=\"a\")\n",
    "    print(f\"Merged data written to {output_csv}\")\n",
    "\n",
    "# ---------------------------\n",
    "# Data Splitting Function\n",
    "# ---------------------------\n",
    "def split_dataset_into_splits(merged_csv, output_dir=\"./preprocessed_data/splits\", train_ratio=0.7, val_ratio=0.15, test_ratio=0.15, seed=42):\n",
    "    \"\"\"\n",
    "    Load the merged CSV and split it into train/val/test sets, then save them.\n",
    "    \"\"\"\n",
    "    os.makedirs(output_dir, exist_ok=True)\n",
    "    # If the merged file is still too large, consider using chunking or Dask.\n",
    "    # Here, we assume the merged CSV fits into memory.\n",
    "    df = pd.read_csv(merged_csv)\n",
    "    print(f\"Merged data loaded: {df.shape}\")\n",
    "    \n",
    "    train_df, temp_df = train_test_split(df, test_size=(1 - train_ratio), random_state=seed)\n",
    "    val_df, test_df = train_test_split(temp_df, test_size=test_ratio/(val_ratio+test_ratio), random_state=seed)\n",
    "    \n",
    "    train_df.to_csv(os.path.join(output_dir, \"electronics_train.csv\"), index=False)\n",
    "    val_df.to_csv(os.path.join(output_dir, \"electronics_val.csv\"), index=False)\n",
    "    test_df.to_csv(os.path.join(output_dir, \"electronics_test.csv\"), index=False)\n",
    "    \n",
    "    print(\"Data split complete:\")\n",
    "    print(\"Train shape:\", train_df.shape)\n",
    "    print(\"Val shape:\", val_df.shape)\n",
    "    print(\"Test shape:\", test_df.shape)\n"
   ],
   "metadata": {
    "collapsed": false,
    "ExecuteTime": {
     "end_time": "2025-03-25T23:34:02.911058Z",
     "start_time": "2025-03-25T23:34:02.905252Z"
    }
   },
   "id": "1b1abad64b4aecd9"
  },
  {
   "cell_type": "code",
   "execution_count": 14,
   "outputs": [],
   "source": [
    "\n",
    "# ---------------------------\n",
    "# Main Execution\n",
    "# ---------------------------\n",
    "\n",
    "# Set file paths for your raw JSONL files\n",
    "reviews_jsonl = \"/Users/sanamoin/Documents/sites/gadgets/backend/data/amazon_2023/Electronics.jsonl\"         # 22.6GB file\n",
    "meta_jsonl = \"/Users/sanamoin/Documents/sites/gadgets/backend/data/amazon_2023/meta_Electronics.jsonl\"         # 5.25GB file"
   ],
   "metadata": {
    "collapsed": false,
    "ExecuteTime": {
     "end_time": "2025-03-25T17:24:10.497872Z",
     "start_time": "2025-03-25T17:24:10.487123Z"
    }
   },
   "id": "d0b455a4581d816"
  },
  {
   "cell_type": "code",
   "execution_count": 15,
   "outputs": [],
   "source": [
    "# Set output paths for cleaned CSV files (you can process a subset first by setting max_lines)\n",
    "# cleaned_reviews_csv = \"./preprocessed_data/electronics_reviews_cleaned.csv\"\n",
    "# cleaned_meta_csv = \"./preprocessed_data/electronics_meta_cleaned.csv\""
   ],
   "metadata": {
    "collapsed": false,
    "ExecuteTime": {
     "end_time": "2025-03-25T17:24:11.992173Z",
     "start_time": "2025-03-25T17:24:11.978322Z"
    }
   },
   "id": "dbde6b499b6d157b"
  },
  {
   "cell_type": "code",
   "execution_count": 16,
   "outputs": [
    {
     "name": "stderr",
     "output_type": "stream",
     "text": [
      "Processing review lines: 43886944it [08:53, 82190.42it/s]"
     ]
    },
    {
     "name": "stdout",
     "output_type": "stream",
     "text": [
      "Finished processing review data; output written to ./preprocessed_data/electronics_reviews_cleaned.csv\n"
     ]
    },
    {
     "name": "stderr",
     "output_type": "stream",
     "text": [
      "\n"
     ]
    }
   ],
   "source": [
    "# Process raw JSONL files in streaming mode\n",
    "# Uncomment these lines to run the cleaning; you might start with max_lines for testing\n",
    "# stream_clean_jsonl(reviews_jsonl, cleaned_reviews_csv, mode=\"review\")"
   ],
   "metadata": {
    "collapsed": false,
    "ExecuteTime": {
     "end_time": "2025-03-25T17:33:07.379688Z",
     "start_time": "2025-03-25T17:24:13.408676Z"
    }
   },
   "id": "3f8afcefad80bdaf"
  },
  {
   "cell_type": "code",
   "execution_count": 17,
   "outputs": [
    {
     "name": "stderr",
     "output_type": "stream",
     "text": [
      "Processing metadata lines: 1610012it [00:49, 32505.94it/s]"
     ]
    },
    {
     "name": "stdout",
     "output_type": "stream",
     "text": [
      "Finished processing metadata data; output written to ./preprocessed_data/electronics_meta_cleaned.csv\n"
     ]
    },
    {
     "name": "stderr",
     "output_type": "stream",
     "text": [
      "\n"
     ]
    }
   ],
   "source": [
    "# stream_clean_jsonl(meta_jsonl, cleaned_meta_csv, mode=\"metadata\")"
   ],
   "metadata": {
    "collapsed": false,
    "ExecuteTime": {
     "end_time": "2025-03-25T17:33:56.913594Z",
     "start_time": "2025-03-25T17:33:07.379304Z"
    }
   },
   "id": "f1414e16c18d2744"
  },
  {
   "cell_type": "code",
   "execution_count": 19,
   "outputs": [],
   "source": [
    "# Once cleaned CSVs are generated, merge them in chunks.\n",
    "# merged_csv = \"./preprocessed_data/merged_electronics.csv\""
   ],
   "metadata": {
    "collapsed": false,
    "ExecuteTime": {
     "end_time": "2025-03-25T17:35:20.829308Z",
     "start_time": "2025-03-25T17:35:20.816448Z"
    }
   },
   "id": "696d5ee3c047bb2d"
  },
  {
   "cell_type": "code",
   "execution_count": 20,
   "outputs": [
    {
     "name": "stdout",
     "output_type": "stream",
     "text": [
      "Loading metadata into memory...\n",
      "Starting chunked merge of reviews with metadata...\n"
     ]
    },
    {
     "name": "stderr",
     "output_type": "stream",
     "text": [
      "/var/folders/b3/d46c_r5d3wvdy0qnlwhr_1fc0000gn/T/ipykernel_25497/3770630532.py:120: FutureWarning: A value is trying to be set on a copy of a DataFrame or Series through chained assignment using an inplace method.\n",
      "The behavior will change in pandas 3.0. This inplace method will never work because the intermediate object on which we are setting values always behaves as a copy.\n",
      "\n",
      "For example, when doing 'df[col].method(value, inplace=True)', try using 'df.method({col: value}, inplace=True)' or df[col] = df[col].method(value) instead, to perform the operation inplace on the original object.\n",
      "\n",
      "\n",
      "  merged_chunk[\"price\"].fillna(merged_chunk[\"price\"].median(), inplace=True)\n",
      "/var/folders/b3/d46c_r5d3wvdy0qnlwhr_1fc0000gn/T/ipykernel_25497/3770630532.py:120: FutureWarning: A value is trying to be set on a copy of a DataFrame or Series through chained assignment using an inplace method.\n",
      "The behavior will change in pandas 3.0. This inplace method will never work because the intermediate object on which we are setting values always behaves as a copy.\n",
      "\n",
      "For example, when doing 'df[col].method(value, inplace=True)', try using 'df.method({col: value}, inplace=True)' or df[col] = df[col].method(value) instead, to perform the operation inplace on the original object.\n",
      "\n",
      "\n",
      "  merged_chunk[\"price\"].fillna(merged_chunk[\"price\"].median(), inplace=True)\n",
      "/var/folders/b3/d46c_r5d3wvdy0qnlwhr_1fc0000gn/T/ipykernel_25497/3770630532.py:120: FutureWarning: A value is trying to be set on a copy of a DataFrame or Series through chained assignment using an inplace method.\n",
      "The behavior will change in pandas 3.0. This inplace method will never work because the intermediate object on which we are setting values always behaves as a copy.\n",
      "\n",
      "For example, when doing 'df[col].method(value, inplace=True)', try using 'df.method({col: value}, inplace=True)' or df[col] = df[col].method(value) instead, to perform the operation inplace on the original object.\n",
      "\n",
      "\n",
      "  merged_chunk[\"price\"].fillna(merged_chunk[\"price\"].median(), inplace=True)\n",
      "/var/folders/b3/d46c_r5d3wvdy0qnlwhr_1fc0000gn/T/ipykernel_25497/3770630532.py:120: FutureWarning: A value is trying to be set on a copy of a DataFrame or Series through chained assignment using an inplace method.\n",
      "The behavior will change in pandas 3.0. This inplace method will never work because the intermediate object on which we are setting values always behaves as a copy.\n",
      "\n",
      "For example, when doing 'df[col].method(value, inplace=True)', try using 'df.method({col: value}, inplace=True)' or df[col] = df[col].method(value) instead, to perform the operation inplace on the original object.\n",
      "\n",
      "\n",
      "  merged_chunk[\"price\"].fillna(merged_chunk[\"price\"].median(), inplace=True)\n",
      "/var/folders/b3/d46c_r5d3wvdy0qnlwhr_1fc0000gn/T/ipykernel_25497/3770630532.py:120: FutureWarning: A value is trying to be set on a copy of a DataFrame or Series through chained assignment using an inplace method.\n",
      "The behavior will change in pandas 3.0. This inplace method will never work because the intermediate object on which we are setting values always behaves as a copy.\n",
      "\n",
      "For example, when doing 'df[col].method(value, inplace=True)', try using 'df.method({col: value}, inplace=True)' or df[col] = df[col].method(value) instead, to perform the operation inplace on the original object.\n",
      "\n",
      "\n",
      "  merged_chunk[\"price\"].fillna(merged_chunk[\"price\"].median(), inplace=True)\n",
      "/var/folders/b3/d46c_r5d3wvdy0qnlwhr_1fc0000gn/T/ipykernel_25497/3770630532.py:120: FutureWarning: A value is trying to be set on a copy of a DataFrame or Series through chained assignment using an inplace method.\n",
      "The behavior will change in pandas 3.0. This inplace method will never work because the intermediate object on which we are setting values always behaves as a copy.\n",
      "\n",
      "For example, when doing 'df[col].method(value, inplace=True)', try using 'df.method({col: value}, inplace=True)' or df[col] = df[col].method(value) instead, to perform the operation inplace on the original object.\n",
      "\n",
      "\n",
      "  merged_chunk[\"price\"].fillna(merged_chunk[\"price\"].median(), inplace=True)\n",
      "/var/folders/b3/d46c_r5d3wvdy0qnlwhr_1fc0000gn/T/ipykernel_25497/3770630532.py:120: FutureWarning: A value is trying to be set on a copy of a DataFrame or Series through chained assignment using an inplace method.\n",
      "The behavior will change in pandas 3.0. This inplace method will never work because the intermediate object on which we are setting values always behaves as a copy.\n",
      "\n",
      "For example, when doing 'df[col].method(value, inplace=True)', try using 'df.method({col: value}, inplace=True)' or df[col] = df[col].method(value) instead, to perform the operation inplace on the original object.\n",
      "\n",
      "\n",
      "  merged_chunk[\"price\"].fillna(merged_chunk[\"price\"].median(), inplace=True)\n",
      "/var/folders/b3/d46c_r5d3wvdy0qnlwhr_1fc0000gn/T/ipykernel_25497/3770630532.py:120: FutureWarning: A value is trying to be set on a copy of a DataFrame or Series through chained assignment using an inplace method.\n",
      "The behavior will change in pandas 3.0. This inplace method will never work because the intermediate object on which we are setting values always behaves as a copy.\n",
      "\n",
      "For example, when doing 'df[col].method(value, inplace=True)', try using 'df.method({col: value}, inplace=True)' or df[col] = df[col].method(value) instead, to perform the operation inplace on the original object.\n",
      "\n",
      "\n",
      "  merged_chunk[\"price\"].fillna(merged_chunk[\"price\"].median(), inplace=True)\n",
      "/var/folders/b3/d46c_r5d3wvdy0qnlwhr_1fc0000gn/T/ipykernel_25497/3770630532.py:120: FutureWarning: A value is trying to be set on a copy of a DataFrame or Series through chained assignment using an inplace method.\n",
      "The behavior will change in pandas 3.0. This inplace method will never work because the intermediate object on which we are setting values always behaves as a copy.\n",
      "\n",
      "For example, when doing 'df[col].method(value, inplace=True)', try using 'df.method({col: value}, inplace=True)' or df[col] = df[col].method(value) instead, to perform the operation inplace on the original object.\n",
      "\n",
      "\n",
      "  merged_chunk[\"price\"].fillna(merged_chunk[\"price\"].median(), inplace=True)\n",
      "/var/folders/b3/d46c_r5d3wvdy0qnlwhr_1fc0000gn/T/ipykernel_25497/3770630532.py:120: FutureWarning: A value is trying to be set on a copy of a DataFrame or Series through chained assignment using an inplace method.\n",
      "The behavior will change in pandas 3.0. This inplace method will never work because the intermediate object on which we are setting values always behaves as a copy.\n",
      "\n",
      "For example, when doing 'df[col].method(value, inplace=True)', try using 'df.method({col: value}, inplace=True)' or df[col] = df[col].method(value) instead, to perform the operation inplace on the original object.\n",
      "\n",
      "\n",
      "  merged_chunk[\"price\"].fillna(merged_chunk[\"price\"].median(), inplace=True)\n",
      "/var/folders/b3/d46c_r5d3wvdy0qnlwhr_1fc0000gn/T/ipykernel_25497/3770630532.py:120: FutureWarning: A value is trying to be set on a copy of a DataFrame or Series through chained assignment using an inplace method.\n",
      "The behavior will change in pandas 3.0. This inplace method will never work because the intermediate object on which we are setting values always behaves as a copy.\n",
      "\n",
      "For example, when doing 'df[col].method(value, inplace=True)', try using 'df.method({col: value}, inplace=True)' or df[col] = df[col].method(value) instead, to perform the operation inplace on the original object.\n",
      "\n",
      "\n",
      "  merged_chunk[\"price\"].fillna(merged_chunk[\"price\"].median(), inplace=True)\n",
      "/var/folders/b3/d46c_r5d3wvdy0qnlwhr_1fc0000gn/T/ipykernel_25497/3770630532.py:120: FutureWarning: A value is trying to be set on a copy of a DataFrame or Series through chained assignment using an inplace method.\n",
      "The behavior will change in pandas 3.0. This inplace method will never work because the intermediate object on which we are setting values always behaves as a copy.\n",
      "\n",
      "For example, when doing 'df[col].method(value, inplace=True)', try using 'df.method({col: value}, inplace=True)' or df[col] = df[col].method(value) instead, to perform the operation inplace on the original object.\n",
      "\n",
      "\n",
      "  merged_chunk[\"price\"].fillna(merged_chunk[\"price\"].median(), inplace=True)\n",
      "/var/folders/b3/d46c_r5d3wvdy0qnlwhr_1fc0000gn/T/ipykernel_25497/3770630532.py:120: FutureWarning: A value is trying to be set on a copy of a DataFrame or Series through chained assignment using an inplace method.\n",
      "The behavior will change in pandas 3.0. This inplace method will never work because the intermediate object on which we are setting values always behaves as a copy.\n",
      "\n",
      "For example, when doing 'df[col].method(value, inplace=True)', try using 'df.method({col: value}, inplace=True)' or df[col] = df[col].method(value) instead, to perform the operation inplace on the original object.\n",
      "\n",
      "\n",
      "  merged_chunk[\"price\"].fillna(merged_chunk[\"price\"].median(), inplace=True)\n",
      "/var/folders/b3/d46c_r5d3wvdy0qnlwhr_1fc0000gn/T/ipykernel_25497/3770630532.py:120: FutureWarning: A value is trying to be set on a copy of a DataFrame or Series through chained assignment using an inplace method.\n",
      "The behavior will change in pandas 3.0. This inplace method will never work because the intermediate object on which we are setting values always behaves as a copy.\n",
      "\n",
      "For example, when doing 'df[col].method(value, inplace=True)', try using 'df.method({col: value}, inplace=True)' or df[col] = df[col].method(value) instead, to perform the operation inplace on the original object.\n",
      "\n",
      "\n",
      "  merged_chunk[\"price\"].fillna(merged_chunk[\"price\"].median(), inplace=True)\n",
      "/var/folders/b3/d46c_r5d3wvdy0qnlwhr_1fc0000gn/T/ipykernel_25497/3770630532.py:120: FutureWarning: A value is trying to be set on a copy of a DataFrame or Series through chained assignment using an inplace method.\n",
      "The behavior will change in pandas 3.0. This inplace method will never work because the intermediate object on which we are setting values always behaves as a copy.\n",
      "\n",
      "For example, when doing 'df[col].method(value, inplace=True)', try using 'df.method({col: value}, inplace=True)' or df[col] = df[col].method(value) instead, to perform the operation inplace on the original object.\n",
      "\n",
      "\n",
      "  merged_chunk[\"price\"].fillna(merged_chunk[\"price\"].median(), inplace=True)\n",
      "/var/folders/b3/d46c_r5d3wvdy0qnlwhr_1fc0000gn/T/ipykernel_25497/3770630532.py:120: FutureWarning: A value is trying to be set on a copy of a DataFrame or Series through chained assignment using an inplace method.\n",
      "The behavior will change in pandas 3.0. This inplace method will never work because the intermediate object on which we are setting values always behaves as a copy.\n",
      "\n",
      "For example, when doing 'df[col].method(value, inplace=True)', try using 'df.method({col: value}, inplace=True)' or df[col] = df[col].method(value) instead, to perform the operation inplace on the original object.\n",
      "\n",
      "\n",
      "  merged_chunk[\"price\"].fillna(merged_chunk[\"price\"].median(), inplace=True)\n",
      "/var/folders/b3/d46c_r5d3wvdy0qnlwhr_1fc0000gn/T/ipykernel_25497/3770630532.py:120: FutureWarning: A value is trying to be set on a copy of a DataFrame or Series through chained assignment using an inplace method.\n",
      "The behavior will change in pandas 3.0. This inplace method will never work because the intermediate object on which we are setting values always behaves as a copy.\n",
      "\n",
      "For example, when doing 'df[col].method(value, inplace=True)', try using 'df.method({col: value}, inplace=True)' or df[col] = df[col].method(value) instead, to perform the operation inplace on the original object.\n",
      "\n",
      "\n",
      "  merged_chunk[\"price\"].fillna(merged_chunk[\"price\"].median(), inplace=True)\n",
      "/var/folders/b3/d46c_r5d3wvdy0qnlwhr_1fc0000gn/T/ipykernel_25497/3770630532.py:120: FutureWarning: A value is trying to be set on a copy of a DataFrame or Series through chained assignment using an inplace method.\n",
      "The behavior will change in pandas 3.0. This inplace method will never work because the intermediate object on which we are setting values always behaves as a copy.\n",
      "\n",
      "For example, when doing 'df[col].method(value, inplace=True)', try using 'df.method({col: value}, inplace=True)' or df[col] = df[col].method(value) instead, to perform the operation inplace on the original object.\n",
      "\n",
      "\n",
      "  merged_chunk[\"price\"].fillna(merged_chunk[\"price\"].median(), inplace=True)\n",
      "/var/folders/b3/d46c_r5d3wvdy0qnlwhr_1fc0000gn/T/ipykernel_25497/3770630532.py:120: FutureWarning: A value is trying to be set on a copy of a DataFrame or Series through chained assignment using an inplace method.\n",
      "The behavior will change in pandas 3.0. This inplace method will never work because the intermediate object on which we are setting values always behaves as a copy.\n",
      "\n",
      "For example, when doing 'df[col].method(value, inplace=True)', try using 'df.method({col: value}, inplace=True)' or df[col] = df[col].method(value) instead, to perform the operation inplace on the original object.\n",
      "\n",
      "\n",
      "  merged_chunk[\"price\"].fillna(merged_chunk[\"price\"].median(), inplace=True)\n",
      "/var/folders/b3/d46c_r5d3wvdy0qnlwhr_1fc0000gn/T/ipykernel_25497/3770630532.py:120: FutureWarning: A value is trying to be set on a copy of a DataFrame or Series through chained assignment using an inplace method.\n",
      "The behavior will change in pandas 3.0. This inplace method will never work because the intermediate object on which we are setting values always behaves as a copy.\n",
      "\n",
      "For example, when doing 'df[col].method(value, inplace=True)', try using 'df.method({col: value}, inplace=True)' or df[col] = df[col].method(value) instead, to perform the operation inplace on the original object.\n",
      "\n",
      "\n",
      "  merged_chunk[\"price\"].fillna(merged_chunk[\"price\"].median(), inplace=True)\n",
      "/var/folders/b3/d46c_r5d3wvdy0qnlwhr_1fc0000gn/T/ipykernel_25497/3770630532.py:120: FutureWarning: A value is trying to be set on a copy of a DataFrame or Series through chained assignment using an inplace method.\n",
      "The behavior will change in pandas 3.0. This inplace method will never work because the intermediate object on which we are setting values always behaves as a copy.\n",
      "\n",
      "For example, when doing 'df[col].method(value, inplace=True)', try using 'df.method({col: value}, inplace=True)' or df[col] = df[col].method(value) instead, to perform the operation inplace on the original object.\n",
      "\n",
      "\n",
      "  merged_chunk[\"price\"].fillna(merged_chunk[\"price\"].median(), inplace=True)\n",
      "/var/folders/b3/d46c_r5d3wvdy0qnlwhr_1fc0000gn/T/ipykernel_25497/3770630532.py:120: FutureWarning: A value is trying to be set on a copy of a DataFrame or Series through chained assignment using an inplace method.\n",
      "The behavior will change in pandas 3.0. This inplace method will never work because the intermediate object on which we are setting values always behaves as a copy.\n",
      "\n",
      "For example, when doing 'df[col].method(value, inplace=True)', try using 'df.method({col: value}, inplace=True)' or df[col] = df[col].method(value) instead, to perform the operation inplace on the original object.\n",
      "\n",
      "\n",
      "  merged_chunk[\"price\"].fillna(merged_chunk[\"price\"].median(), inplace=True)\n",
      "/var/folders/b3/d46c_r5d3wvdy0qnlwhr_1fc0000gn/T/ipykernel_25497/3770630532.py:120: FutureWarning: A value is trying to be set on a copy of a DataFrame or Series through chained assignment using an inplace method.\n",
      "The behavior will change in pandas 3.0. This inplace method will never work because the intermediate object on which we are setting values always behaves as a copy.\n",
      "\n",
      "For example, when doing 'df[col].method(value, inplace=True)', try using 'df.method({col: value}, inplace=True)' or df[col] = df[col].method(value) instead, to perform the operation inplace on the original object.\n",
      "\n",
      "\n",
      "  merged_chunk[\"price\"].fillna(merged_chunk[\"price\"].median(), inplace=True)\n",
      "/var/folders/b3/d46c_r5d3wvdy0qnlwhr_1fc0000gn/T/ipykernel_25497/3770630532.py:120: FutureWarning: A value is trying to be set on a copy of a DataFrame or Series through chained assignment using an inplace method.\n",
      "The behavior will change in pandas 3.0. This inplace method will never work because the intermediate object on which we are setting values always behaves as a copy.\n",
      "\n",
      "For example, when doing 'df[col].method(value, inplace=True)', try using 'df.method({col: value}, inplace=True)' or df[col] = df[col].method(value) instead, to perform the operation inplace on the original object.\n",
      "\n",
      "\n",
      "  merged_chunk[\"price\"].fillna(merged_chunk[\"price\"].median(), inplace=True)\n",
      "/var/folders/b3/d46c_r5d3wvdy0qnlwhr_1fc0000gn/T/ipykernel_25497/3770630532.py:120: FutureWarning: A value is trying to be set on a copy of a DataFrame or Series through chained assignment using an inplace method.\n",
      "The behavior will change in pandas 3.0. This inplace method will never work because the intermediate object on which we are setting values always behaves as a copy.\n",
      "\n",
      "For example, when doing 'df[col].method(value, inplace=True)', try using 'df.method({col: value}, inplace=True)' or df[col] = df[col].method(value) instead, to perform the operation inplace on the original object.\n",
      "\n",
      "\n",
      "  merged_chunk[\"price\"].fillna(merged_chunk[\"price\"].median(), inplace=True)\n",
      "/var/folders/b3/d46c_r5d3wvdy0qnlwhr_1fc0000gn/T/ipykernel_25497/3770630532.py:120: FutureWarning: A value is trying to be set on a copy of a DataFrame or Series through chained assignment using an inplace method.\n",
      "The behavior will change in pandas 3.0. This inplace method will never work because the intermediate object on which we are setting values always behaves as a copy.\n",
      "\n",
      "For example, when doing 'df[col].method(value, inplace=True)', try using 'df.method({col: value}, inplace=True)' or df[col] = df[col].method(value) instead, to perform the operation inplace on the original object.\n",
      "\n",
      "\n",
      "  merged_chunk[\"price\"].fillna(merged_chunk[\"price\"].median(), inplace=True)\n",
      "/var/folders/b3/d46c_r5d3wvdy0qnlwhr_1fc0000gn/T/ipykernel_25497/3770630532.py:120: FutureWarning: A value is trying to be set on a copy of a DataFrame or Series through chained assignment using an inplace method.\n",
      "The behavior will change in pandas 3.0. This inplace method will never work because the intermediate object on which we are setting values always behaves as a copy.\n",
      "\n",
      "For example, when doing 'df[col].method(value, inplace=True)', try using 'df.method({col: value}, inplace=True)' or df[col] = df[col].method(value) instead, to perform the operation inplace on the original object.\n",
      "\n",
      "\n",
      "  merged_chunk[\"price\"].fillna(merged_chunk[\"price\"].median(), inplace=True)\n",
      "/var/folders/b3/d46c_r5d3wvdy0qnlwhr_1fc0000gn/T/ipykernel_25497/3770630532.py:120: FutureWarning: A value is trying to be set on a copy of a DataFrame or Series through chained assignment using an inplace method.\n",
      "The behavior will change in pandas 3.0. This inplace method will never work because the intermediate object on which we are setting values always behaves as a copy.\n",
      "\n",
      "For example, when doing 'df[col].method(value, inplace=True)', try using 'df.method({col: value}, inplace=True)' or df[col] = df[col].method(value) instead, to perform the operation inplace on the original object.\n",
      "\n",
      "\n",
      "  merged_chunk[\"price\"].fillna(merged_chunk[\"price\"].median(), inplace=True)\n",
      "/var/folders/b3/d46c_r5d3wvdy0qnlwhr_1fc0000gn/T/ipykernel_25497/3770630532.py:120: FutureWarning: A value is trying to be set on a copy of a DataFrame or Series through chained assignment using an inplace method.\n",
      "The behavior will change in pandas 3.0. This inplace method will never work because the intermediate object on which we are setting values always behaves as a copy.\n",
      "\n",
      "For example, when doing 'df[col].method(value, inplace=True)', try using 'df.method({col: value}, inplace=True)' or df[col] = df[col].method(value) instead, to perform the operation inplace on the original object.\n",
      "\n",
      "\n",
      "  merged_chunk[\"price\"].fillna(merged_chunk[\"price\"].median(), inplace=True)\n",
      "/var/folders/b3/d46c_r5d3wvdy0qnlwhr_1fc0000gn/T/ipykernel_25497/3770630532.py:120: FutureWarning: A value is trying to be set on a copy of a DataFrame or Series through chained assignment using an inplace method.\n",
      "The behavior will change in pandas 3.0. This inplace method will never work because the intermediate object on which we are setting values always behaves as a copy.\n",
      "\n",
      "For example, when doing 'df[col].method(value, inplace=True)', try using 'df.method({col: value}, inplace=True)' or df[col] = df[col].method(value) instead, to perform the operation inplace on the original object.\n",
      "\n",
      "\n",
      "  merged_chunk[\"price\"].fillna(merged_chunk[\"price\"].median(), inplace=True)\n",
      "/var/folders/b3/d46c_r5d3wvdy0qnlwhr_1fc0000gn/T/ipykernel_25497/3770630532.py:120: FutureWarning: A value is trying to be set on a copy of a DataFrame or Series through chained assignment using an inplace method.\n",
      "The behavior will change in pandas 3.0. This inplace method will never work because the intermediate object on which we are setting values always behaves as a copy.\n",
      "\n",
      "For example, when doing 'df[col].method(value, inplace=True)', try using 'df.method({col: value}, inplace=True)' or df[col] = df[col].method(value) instead, to perform the operation inplace on the original object.\n",
      "\n",
      "\n",
      "  merged_chunk[\"price\"].fillna(merged_chunk[\"price\"].median(), inplace=True)\n",
      "/var/folders/b3/d46c_r5d3wvdy0qnlwhr_1fc0000gn/T/ipykernel_25497/3770630532.py:120: FutureWarning: A value is trying to be set on a copy of a DataFrame or Series through chained assignment using an inplace method.\n",
      "The behavior will change in pandas 3.0. This inplace method will never work because the intermediate object on which we are setting values always behaves as a copy.\n",
      "\n",
      "For example, when doing 'df[col].method(value, inplace=True)', try using 'df.method({col: value}, inplace=True)' or df[col] = df[col].method(value) instead, to perform the operation inplace on the original object.\n",
      "\n",
      "\n",
      "  merged_chunk[\"price\"].fillna(merged_chunk[\"price\"].median(), inplace=True)\n",
      "/var/folders/b3/d46c_r5d3wvdy0qnlwhr_1fc0000gn/T/ipykernel_25497/3770630532.py:120: FutureWarning: A value is trying to be set on a copy of a DataFrame or Series through chained assignment using an inplace method.\n",
      "The behavior will change in pandas 3.0. This inplace method will never work because the intermediate object on which we are setting values always behaves as a copy.\n",
      "\n",
      "For example, when doing 'df[col].method(value, inplace=True)', try using 'df.method({col: value}, inplace=True)' or df[col] = df[col].method(value) instead, to perform the operation inplace on the original object.\n",
      "\n",
      "\n",
      "  merged_chunk[\"price\"].fillna(merged_chunk[\"price\"].median(), inplace=True)\n",
      "/var/folders/b3/d46c_r5d3wvdy0qnlwhr_1fc0000gn/T/ipykernel_25497/3770630532.py:120: FutureWarning: A value is trying to be set on a copy of a DataFrame or Series through chained assignment using an inplace method.\n",
      "The behavior will change in pandas 3.0. This inplace method will never work because the intermediate object on which we are setting values always behaves as a copy.\n",
      "\n",
      "For example, when doing 'df[col].method(value, inplace=True)', try using 'df.method({col: value}, inplace=True)' or df[col] = df[col].method(value) instead, to perform the operation inplace on the original object.\n",
      "\n",
      "\n",
      "  merged_chunk[\"price\"].fillna(merged_chunk[\"price\"].median(), inplace=True)\n",
      "/var/folders/b3/d46c_r5d3wvdy0qnlwhr_1fc0000gn/T/ipykernel_25497/3770630532.py:120: FutureWarning: A value is trying to be set on a copy of a DataFrame or Series through chained assignment using an inplace method.\n",
      "The behavior will change in pandas 3.0. This inplace method will never work because the intermediate object on which we are setting values always behaves as a copy.\n",
      "\n",
      "For example, when doing 'df[col].method(value, inplace=True)', try using 'df.method({col: value}, inplace=True)' or df[col] = df[col].method(value) instead, to perform the operation inplace on the original object.\n",
      "\n",
      "\n",
      "  merged_chunk[\"price\"].fillna(merged_chunk[\"price\"].median(), inplace=True)\n",
      "/var/folders/b3/d46c_r5d3wvdy0qnlwhr_1fc0000gn/T/ipykernel_25497/3770630532.py:120: FutureWarning: A value is trying to be set on a copy of a DataFrame or Series through chained assignment using an inplace method.\n",
      "The behavior will change in pandas 3.0. This inplace method will never work because the intermediate object on which we are setting values always behaves as a copy.\n",
      "\n",
      "For example, when doing 'df[col].method(value, inplace=True)', try using 'df.method({col: value}, inplace=True)' or df[col] = df[col].method(value) instead, to perform the operation inplace on the original object.\n",
      "\n",
      "\n",
      "  merged_chunk[\"price\"].fillna(merged_chunk[\"price\"].median(), inplace=True)\n",
      "/var/folders/b3/d46c_r5d3wvdy0qnlwhr_1fc0000gn/T/ipykernel_25497/3770630532.py:120: FutureWarning: A value is trying to be set on a copy of a DataFrame or Series through chained assignment using an inplace method.\n",
      "The behavior will change in pandas 3.0. This inplace method will never work because the intermediate object on which we are setting values always behaves as a copy.\n",
      "\n",
      "For example, when doing 'df[col].method(value, inplace=True)', try using 'df.method({col: value}, inplace=True)' or df[col] = df[col].method(value) instead, to perform the operation inplace on the original object.\n",
      "\n",
      "\n",
      "  merged_chunk[\"price\"].fillna(merged_chunk[\"price\"].median(), inplace=True)\n",
      "/var/folders/b3/d46c_r5d3wvdy0qnlwhr_1fc0000gn/T/ipykernel_25497/3770630532.py:120: FutureWarning: A value is trying to be set on a copy of a DataFrame or Series through chained assignment using an inplace method.\n",
      "The behavior will change in pandas 3.0. This inplace method will never work because the intermediate object on which we are setting values always behaves as a copy.\n",
      "\n",
      "For example, when doing 'df[col].method(value, inplace=True)', try using 'df.method({col: value}, inplace=True)' or df[col] = df[col].method(value) instead, to perform the operation inplace on the original object.\n",
      "\n",
      "\n",
      "  merged_chunk[\"price\"].fillna(merged_chunk[\"price\"].median(), inplace=True)\n",
      "/var/folders/b3/d46c_r5d3wvdy0qnlwhr_1fc0000gn/T/ipykernel_25497/3770630532.py:120: FutureWarning: A value is trying to be set on a copy of a DataFrame or Series through chained assignment using an inplace method.\n",
      "The behavior will change in pandas 3.0. This inplace method will never work because the intermediate object on which we are setting values always behaves as a copy.\n",
      "\n",
      "For example, when doing 'df[col].method(value, inplace=True)', try using 'df.method({col: value}, inplace=True)' or df[col] = df[col].method(value) instead, to perform the operation inplace on the original object.\n",
      "\n",
      "\n",
      "  merged_chunk[\"price\"].fillna(merged_chunk[\"price\"].median(), inplace=True)\n",
      "/var/folders/b3/d46c_r5d3wvdy0qnlwhr_1fc0000gn/T/ipykernel_25497/3770630532.py:120: FutureWarning: A value is trying to be set on a copy of a DataFrame or Series through chained assignment using an inplace method.\n",
      "The behavior will change in pandas 3.0. This inplace method will never work because the intermediate object on which we are setting values always behaves as a copy.\n",
      "\n",
      "For example, when doing 'df[col].method(value, inplace=True)', try using 'df.method({col: value}, inplace=True)' or df[col] = df[col].method(value) instead, to perform the operation inplace on the original object.\n",
      "\n",
      "\n",
      "  merged_chunk[\"price\"].fillna(merged_chunk[\"price\"].median(), inplace=True)\n",
      "/var/folders/b3/d46c_r5d3wvdy0qnlwhr_1fc0000gn/T/ipykernel_25497/3770630532.py:120: FutureWarning: A value is trying to be set on a copy of a DataFrame or Series through chained assignment using an inplace method.\n",
      "The behavior will change in pandas 3.0. This inplace method will never work because the intermediate object on which we are setting values always behaves as a copy.\n",
      "\n",
      "For example, when doing 'df[col].method(value, inplace=True)', try using 'df.method({col: value}, inplace=True)' or df[col] = df[col].method(value) instead, to perform the operation inplace on the original object.\n",
      "\n",
      "\n",
      "  merged_chunk[\"price\"].fillna(merged_chunk[\"price\"].median(), inplace=True)\n",
      "/var/folders/b3/d46c_r5d3wvdy0qnlwhr_1fc0000gn/T/ipykernel_25497/3770630532.py:120: FutureWarning: A value is trying to be set on a copy of a DataFrame or Series through chained assignment using an inplace method.\n",
      "The behavior will change in pandas 3.0. This inplace method will never work because the intermediate object on which we are setting values always behaves as a copy.\n",
      "\n",
      "For example, when doing 'df[col].method(value, inplace=True)', try using 'df.method({col: value}, inplace=True)' or df[col] = df[col].method(value) instead, to perform the operation inplace on the original object.\n",
      "\n",
      "\n",
      "  merged_chunk[\"price\"].fillna(merged_chunk[\"price\"].median(), inplace=True)\n",
      "/var/folders/b3/d46c_r5d3wvdy0qnlwhr_1fc0000gn/T/ipykernel_25497/3770630532.py:120: FutureWarning: A value is trying to be set on a copy of a DataFrame or Series through chained assignment using an inplace method.\n",
      "The behavior will change in pandas 3.0. This inplace method will never work because the intermediate object on which we are setting values always behaves as a copy.\n",
      "\n",
      "For example, when doing 'df[col].method(value, inplace=True)', try using 'df.method({col: value}, inplace=True)' or df[col] = df[col].method(value) instead, to perform the operation inplace on the original object.\n",
      "\n",
      "\n",
      "  merged_chunk[\"price\"].fillna(merged_chunk[\"price\"].median(), inplace=True)\n",
      "/var/folders/b3/d46c_r5d3wvdy0qnlwhr_1fc0000gn/T/ipykernel_25497/3770630532.py:120: FutureWarning: A value is trying to be set on a copy of a DataFrame or Series through chained assignment using an inplace method.\n",
      "The behavior will change in pandas 3.0. This inplace method will never work because the intermediate object on which we are setting values always behaves as a copy.\n",
      "\n",
      "For example, when doing 'df[col].method(value, inplace=True)', try using 'df.method({col: value}, inplace=True)' or df[col] = df[col].method(value) instead, to perform the operation inplace on the original object.\n",
      "\n",
      "\n",
      "  merged_chunk[\"price\"].fillna(merged_chunk[\"price\"].median(), inplace=True)\n",
      "/var/folders/b3/d46c_r5d3wvdy0qnlwhr_1fc0000gn/T/ipykernel_25497/3770630532.py:120: FutureWarning: A value is trying to be set on a copy of a DataFrame or Series through chained assignment using an inplace method.\n",
      "The behavior will change in pandas 3.0. This inplace method will never work because the intermediate object on which we are setting values always behaves as a copy.\n",
      "\n",
      "For example, when doing 'df[col].method(value, inplace=True)', try using 'df.method({col: value}, inplace=True)' or df[col] = df[col].method(value) instead, to perform the operation inplace on the original object.\n",
      "\n",
      "\n",
      "  merged_chunk[\"price\"].fillna(merged_chunk[\"price\"].median(), inplace=True)\n",
      "/var/folders/b3/d46c_r5d3wvdy0qnlwhr_1fc0000gn/T/ipykernel_25497/3770630532.py:120: FutureWarning: A value is trying to be set on a copy of a DataFrame or Series through chained assignment using an inplace method.\n",
      "The behavior will change in pandas 3.0. This inplace method will never work because the intermediate object on which we are setting values always behaves as a copy.\n",
      "\n",
      "For example, when doing 'df[col].method(value, inplace=True)', try using 'df.method({col: value}, inplace=True)' or df[col] = df[col].method(value) instead, to perform the operation inplace on the original object.\n",
      "\n",
      "\n",
      "  merged_chunk[\"price\"].fillna(merged_chunk[\"price\"].median(), inplace=True)\n",
      "/var/folders/b3/d46c_r5d3wvdy0qnlwhr_1fc0000gn/T/ipykernel_25497/3770630532.py:120: FutureWarning: A value is trying to be set on a copy of a DataFrame or Series through chained assignment using an inplace method.\n",
      "The behavior will change in pandas 3.0. This inplace method will never work because the intermediate object on which we are setting values always behaves as a copy.\n",
      "\n",
      "For example, when doing 'df[col].method(value, inplace=True)', try using 'df.method({col: value}, inplace=True)' or df[col] = df[col].method(value) instead, to perform the operation inplace on the original object.\n",
      "\n",
      "\n",
      "  merged_chunk[\"price\"].fillna(merged_chunk[\"price\"].median(), inplace=True)\n",
      "/var/folders/b3/d46c_r5d3wvdy0qnlwhr_1fc0000gn/T/ipykernel_25497/3770630532.py:120: FutureWarning: A value is trying to be set on a copy of a DataFrame or Series through chained assignment using an inplace method.\n",
      "The behavior will change in pandas 3.0. This inplace method will never work because the intermediate object on which we are setting values always behaves as a copy.\n",
      "\n",
      "For example, when doing 'df[col].method(value, inplace=True)', try using 'df.method({col: value}, inplace=True)' or df[col] = df[col].method(value) instead, to perform the operation inplace on the original object.\n",
      "\n",
      "\n",
      "  merged_chunk[\"price\"].fillna(merged_chunk[\"price\"].median(), inplace=True)\n",
      "/var/folders/b3/d46c_r5d3wvdy0qnlwhr_1fc0000gn/T/ipykernel_25497/3770630532.py:120: FutureWarning: A value is trying to be set on a copy of a DataFrame or Series through chained assignment using an inplace method.\n",
      "The behavior will change in pandas 3.0. This inplace method will never work because the intermediate object on which we are setting values always behaves as a copy.\n",
      "\n",
      "For example, when doing 'df[col].method(value, inplace=True)', try using 'df.method({col: value}, inplace=True)' or df[col] = df[col].method(value) instead, to perform the operation inplace on the original object.\n",
      "\n",
      "\n",
      "  merged_chunk[\"price\"].fillna(merged_chunk[\"price\"].median(), inplace=True)\n",
      "/var/folders/b3/d46c_r5d3wvdy0qnlwhr_1fc0000gn/T/ipykernel_25497/3770630532.py:120: FutureWarning: A value is trying to be set on a copy of a DataFrame or Series through chained assignment using an inplace method.\n",
      "The behavior will change in pandas 3.0. This inplace method will never work because the intermediate object on which we are setting values always behaves as a copy.\n",
      "\n",
      "For example, when doing 'df[col].method(value, inplace=True)', try using 'df.method({col: value}, inplace=True)' or df[col] = df[col].method(value) instead, to perform the operation inplace on the original object.\n",
      "\n",
      "\n",
      "  merged_chunk[\"price\"].fillna(merged_chunk[\"price\"].median(), inplace=True)\n",
      "/var/folders/b3/d46c_r5d3wvdy0qnlwhr_1fc0000gn/T/ipykernel_25497/3770630532.py:120: FutureWarning: A value is trying to be set on a copy of a DataFrame or Series through chained assignment using an inplace method.\n",
      "The behavior will change in pandas 3.0. This inplace method will never work because the intermediate object on which we are setting values always behaves as a copy.\n",
      "\n",
      "For example, when doing 'df[col].method(value, inplace=True)', try using 'df.method({col: value}, inplace=True)' or df[col] = df[col].method(value) instead, to perform the operation inplace on the original object.\n",
      "\n",
      "\n",
      "  merged_chunk[\"price\"].fillna(merged_chunk[\"price\"].median(), inplace=True)\n",
      "/var/folders/b3/d46c_r5d3wvdy0qnlwhr_1fc0000gn/T/ipykernel_25497/3770630532.py:120: FutureWarning: A value is trying to be set on a copy of a DataFrame or Series through chained assignment using an inplace method.\n",
      "The behavior will change in pandas 3.0. This inplace method will never work because the intermediate object on which we are setting values always behaves as a copy.\n",
      "\n",
      "For example, when doing 'df[col].method(value, inplace=True)', try using 'df.method({col: value}, inplace=True)' or df[col] = df[col].method(value) instead, to perform the operation inplace on the original object.\n",
      "\n",
      "\n",
      "  merged_chunk[\"price\"].fillna(merged_chunk[\"price\"].median(), inplace=True)\n",
      "/var/folders/b3/d46c_r5d3wvdy0qnlwhr_1fc0000gn/T/ipykernel_25497/3770630532.py:120: FutureWarning: A value is trying to be set on a copy of a DataFrame or Series through chained assignment using an inplace method.\n",
      "The behavior will change in pandas 3.0. This inplace method will never work because the intermediate object on which we are setting values always behaves as a copy.\n",
      "\n",
      "For example, when doing 'df[col].method(value, inplace=True)', try using 'df.method({col: value}, inplace=True)' or df[col] = df[col].method(value) instead, to perform the operation inplace on the original object.\n",
      "\n",
      "\n",
      "  merged_chunk[\"price\"].fillna(merged_chunk[\"price\"].median(), inplace=True)\n",
      "/var/folders/b3/d46c_r5d3wvdy0qnlwhr_1fc0000gn/T/ipykernel_25497/3770630532.py:120: FutureWarning: A value is trying to be set on a copy of a DataFrame or Series through chained assignment using an inplace method.\n",
      "The behavior will change in pandas 3.0. This inplace method will never work because the intermediate object on which we are setting values always behaves as a copy.\n",
      "\n",
      "For example, when doing 'df[col].method(value, inplace=True)', try using 'df.method({col: value}, inplace=True)' or df[col] = df[col].method(value) instead, to perform the operation inplace on the original object.\n",
      "\n",
      "\n",
      "  merged_chunk[\"price\"].fillna(merged_chunk[\"price\"].median(), inplace=True)\n",
      "/var/folders/b3/d46c_r5d3wvdy0qnlwhr_1fc0000gn/T/ipykernel_25497/3770630532.py:120: FutureWarning: A value is trying to be set on a copy of a DataFrame or Series through chained assignment using an inplace method.\n",
      "The behavior will change in pandas 3.0. This inplace method will never work because the intermediate object on which we are setting values always behaves as a copy.\n",
      "\n",
      "For example, when doing 'df[col].method(value, inplace=True)', try using 'df.method({col: value}, inplace=True)' or df[col] = df[col].method(value) instead, to perform the operation inplace on the original object.\n",
      "\n",
      "\n",
      "  merged_chunk[\"price\"].fillna(merged_chunk[\"price\"].median(), inplace=True)\n",
      "/var/folders/b3/d46c_r5d3wvdy0qnlwhr_1fc0000gn/T/ipykernel_25497/3770630532.py:120: FutureWarning: A value is trying to be set on a copy of a DataFrame or Series through chained assignment using an inplace method.\n",
      "The behavior will change in pandas 3.0. This inplace method will never work because the intermediate object on which we are setting values always behaves as a copy.\n",
      "\n",
      "For example, when doing 'df[col].method(value, inplace=True)', try using 'df.method({col: value}, inplace=True)' or df[col] = df[col].method(value) instead, to perform the operation inplace on the original object.\n",
      "\n",
      "\n",
      "  merged_chunk[\"price\"].fillna(merged_chunk[\"price\"].median(), inplace=True)\n",
      "/var/folders/b3/d46c_r5d3wvdy0qnlwhr_1fc0000gn/T/ipykernel_25497/3770630532.py:120: FutureWarning: A value is trying to be set on a copy of a DataFrame or Series through chained assignment using an inplace method.\n",
      "The behavior will change in pandas 3.0. This inplace method will never work because the intermediate object on which we are setting values always behaves as a copy.\n",
      "\n",
      "For example, when doing 'df[col].method(value, inplace=True)', try using 'df.method({col: value}, inplace=True)' or df[col] = df[col].method(value) instead, to perform the operation inplace on the original object.\n",
      "\n",
      "\n",
      "  merged_chunk[\"price\"].fillna(merged_chunk[\"price\"].median(), inplace=True)\n",
      "/var/folders/b3/d46c_r5d3wvdy0qnlwhr_1fc0000gn/T/ipykernel_25497/3770630532.py:120: FutureWarning: A value is trying to be set on a copy of a DataFrame or Series through chained assignment using an inplace method.\n",
      "The behavior will change in pandas 3.0. This inplace method will never work because the intermediate object on which we are setting values always behaves as a copy.\n",
      "\n",
      "For example, when doing 'df[col].method(value, inplace=True)', try using 'df.method({col: value}, inplace=True)' or df[col] = df[col].method(value) instead, to perform the operation inplace on the original object.\n",
      "\n",
      "\n",
      "  merged_chunk[\"price\"].fillna(merged_chunk[\"price\"].median(), inplace=True)\n",
      "/var/folders/b3/d46c_r5d3wvdy0qnlwhr_1fc0000gn/T/ipykernel_25497/3770630532.py:120: FutureWarning: A value is trying to be set on a copy of a DataFrame or Series through chained assignment using an inplace method.\n",
      "The behavior will change in pandas 3.0. This inplace method will never work because the intermediate object on which we are setting values always behaves as a copy.\n",
      "\n",
      "For example, when doing 'df[col].method(value, inplace=True)', try using 'df.method({col: value}, inplace=True)' or df[col] = df[col].method(value) instead, to perform the operation inplace on the original object.\n",
      "\n",
      "\n",
      "  merged_chunk[\"price\"].fillna(merged_chunk[\"price\"].median(), inplace=True)\n",
      "/var/folders/b3/d46c_r5d3wvdy0qnlwhr_1fc0000gn/T/ipykernel_25497/3770630532.py:120: FutureWarning: A value is trying to be set on a copy of a DataFrame or Series through chained assignment using an inplace method.\n",
      "The behavior will change in pandas 3.0. This inplace method will never work because the intermediate object on which we are setting values always behaves as a copy.\n",
      "\n",
      "For example, when doing 'df[col].method(value, inplace=True)', try using 'df.method({col: value}, inplace=True)' or df[col] = df[col].method(value) instead, to perform the operation inplace on the original object.\n",
      "\n",
      "\n",
      "  merged_chunk[\"price\"].fillna(merged_chunk[\"price\"].median(), inplace=True)\n",
      "/var/folders/b3/d46c_r5d3wvdy0qnlwhr_1fc0000gn/T/ipykernel_25497/3770630532.py:120: FutureWarning: A value is trying to be set on a copy of a DataFrame or Series through chained assignment using an inplace method.\n",
      "The behavior will change in pandas 3.0. This inplace method will never work because the intermediate object on which we are setting values always behaves as a copy.\n",
      "\n",
      "For example, when doing 'df[col].method(value, inplace=True)', try using 'df.method({col: value}, inplace=True)' or df[col] = df[col].method(value) instead, to perform the operation inplace on the original object.\n",
      "\n",
      "\n",
      "  merged_chunk[\"price\"].fillna(merged_chunk[\"price\"].median(), inplace=True)\n",
      "/var/folders/b3/d46c_r5d3wvdy0qnlwhr_1fc0000gn/T/ipykernel_25497/3770630532.py:120: FutureWarning: A value is trying to be set on a copy of a DataFrame or Series through chained assignment using an inplace method.\n",
      "The behavior will change in pandas 3.0. This inplace method will never work because the intermediate object on which we are setting values always behaves as a copy.\n",
      "\n",
      "For example, when doing 'df[col].method(value, inplace=True)', try using 'df.method({col: value}, inplace=True)' or df[col] = df[col].method(value) instead, to perform the operation inplace on the original object.\n",
      "\n",
      "\n",
      "  merged_chunk[\"price\"].fillna(merged_chunk[\"price\"].median(), inplace=True)\n",
      "/var/folders/b3/d46c_r5d3wvdy0qnlwhr_1fc0000gn/T/ipykernel_25497/3770630532.py:120: FutureWarning: A value is trying to be set on a copy of a DataFrame or Series through chained assignment using an inplace method.\n",
      "The behavior will change in pandas 3.0. This inplace method will never work because the intermediate object on which we are setting values always behaves as a copy.\n",
      "\n",
      "For example, when doing 'df[col].method(value, inplace=True)', try using 'df.method({col: value}, inplace=True)' or df[col] = df[col].method(value) instead, to perform the operation inplace on the original object.\n",
      "\n",
      "\n",
      "  merged_chunk[\"price\"].fillna(merged_chunk[\"price\"].median(), inplace=True)\n",
      "/var/folders/b3/d46c_r5d3wvdy0qnlwhr_1fc0000gn/T/ipykernel_25497/3770630532.py:120: FutureWarning: A value is trying to be set on a copy of a DataFrame or Series through chained assignment using an inplace method.\n",
      "The behavior will change in pandas 3.0. This inplace method will never work because the intermediate object on which we are setting values always behaves as a copy.\n",
      "\n",
      "For example, when doing 'df[col].method(value, inplace=True)', try using 'df.method({col: value}, inplace=True)' or df[col] = df[col].method(value) instead, to perform the operation inplace on the original object.\n",
      "\n",
      "\n",
      "  merged_chunk[\"price\"].fillna(merged_chunk[\"price\"].median(), inplace=True)\n",
      "/var/folders/b3/d46c_r5d3wvdy0qnlwhr_1fc0000gn/T/ipykernel_25497/3770630532.py:120: FutureWarning: A value is trying to be set on a copy of a DataFrame or Series through chained assignment using an inplace method.\n",
      "The behavior will change in pandas 3.0. This inplace method will never work because the intermediate object on which we are setting values always behaves as a copy.\n",
      "\n",
      "For example, when doing 'df[col].method(value, inplace=True)', try using 'df.method({col: value}, inplace=True)' or df[col] = df[col].method(value) instead, to perform the operation inplace on the original object.\n",
      "\n",
      "\n",
      "  merged_chunk[\"price\"].fillna(merged_chunk[\"price\"].median(), inplace=True)\n",
      "/var/folders/b3/d46c_r5d3wvdy0qnlwhr_1fc0000gn/T/ipykernel_25497/3770630532.py:120: FutureWarning: A value is trying to be set on a copy of a DataFrame or Series through chained assignment using an inplace method.\n",
      "The behavior will change in pandas 3.0. This inplace method will never work because the intermediate object on which we are setting values always behaves as a copy.\n",
      "\n",
      "For example, when doing 'df[col].method(value, inplace=True)', try using 'df.method({col: value}, inplace=True)' or df[col] = df[col].method(value) instead, to perform the operation inplace on the original object.\n",
      "\n",
      "\n",
      "  merged_chunk[\"price\"].fillna(merged_chunk[\"price\"].median(), inplace=True)\n",
      "/var/folders/b3/d46c_r5d3wvdy0qnlwhr_1fc0000gn/T/ipykernel_25497/3770630532.py:120: FutureWarning: A value is trying to be set on a copy of a DataFrame or Series through chained assignment using an inplace method.\n",
      "The behavior will change in pandas 3.0. This inplace method will never work because the intermediate object on which we are setting values always behaves as a copy.\n",
      "\n",
      "For example, when doing 'df[col].method(value, inplace=True)', try using 'df.method({col: value}, inplace=True)' or df[col] = df[col].method(value) instead, to perform the operation inplace on the original object.\n",
      "\n",
      "\n",
      "  merged_chunk[\"price\"].fillna(merged_chunk[\"price\"].median(), inplace=True)\n",
      "/var/folders/b3/d46c_r5d3wvdy0qnlwhr_1fc0000gn/T/ipykernel_25497/3770630532.py:120: FutureWarning: A value is trying to be set on a copy of a DataFrame or Series through chained assignment using an inplace method.\n",
      "The behavior will change in pandas 3.0. This inplace method will never work because the intermediate object on which we are setting values always behaves as a copy.\n",
      "\n",
      "For example, when doing 'df[col].method(value, inplace=True)', try using 'df.method({col: value}, inplace=True)' or df[col] = df[col].method(value) instead, to perform the operation inplace on the original object.\n",
      "\n",
      "\n",
      "  merged_chunk[\"price\"].fillna(merged_chunk[\"price\"].median(), inplace=True)\n",
      "/var/folders/b3/d46c_r5d3wvdy0qnlwhr_1fc0000gn/T/ipykernel_25497/3770630532.py:120: FutureWarning: A value is trying to be set on a copy of a DataFrame or Series through chained assignment using an inplace method.\n",
      "The behavior will change in pandas 3.0. This inplace method will never work because the intermediate object on which we are setting values always behaves as a copy.\n",
      "\n",
      "For example, when doing 'df[col].method(value, inplace=True)', try using 'df.method({col: value}, inplace=True)' or df[col] = df[col].method(value) instead, to perform the operation inplace on the original object.\n",
      "\n",
      "\n",
      "  merged_chunk[\"price\"].fillna(merged_chunk[\"price\"].median(), inplace=True)\n",
      "/var/folders/b3/d46c_r5d3wvdy0qnlwhr_1fc0000gn/T/ipykernel_25497/3770630532.py:120: FutureWarning: A value is trying to be set on a copy of a DataFrame or Series through chained assignment using an inplace method.\n",
      "The behavior will change in pandas 3.0. This inplace method will never work because the intermediate object on which we are setting values always behaves as a copy.\n",
      "\n",
      "For example, when doing 'df[col].method(value, inplace=True)', try using 'df.method({col: value}, inplace=True)' or df[col] = df[col].method(value) instead, to perform the operation inplace on the original object.\n",
      "\n",
      "\n",
      "  merged_chunk[\"price\"].fillna(merged_chunk[\"price\"].median(), inplace=True)\n",
      "/var/folders/b3/d46c_r5d3wvdy0qnlwhr_1fc0000gn/T/ipykernel_25497/3770630532.py:120: FutureWarning: A value is trying to be set on a copy of a DataFrame or Series through chained assignment using an inplace method.\n",
      "The behavior will change in pandas 3.0. This inplace method will never work because the intermediate object on which we are setting values always behaves as a copy.\n",
      "\n",
      "For example, when doing 'df[col].method(value, inplace=True)', try using 'df.method({col: value}, inplace=True)' or df[col] = df[col].method(value) instead, to perform the operation inplace on the original object.\n",
      "\n",
      "\n",
      "  merged_chunk[\"price\"].fillna(merged_chunk[\"price\"].median(), inplace=True)\n",
      "/var/folders/b3/d46c_r5d3wvdy0qnlwhr_1fc0000gn/T/ipykernel_25497/3770630532.py:120: FutureWarning: A value is trying to be set on a copy of a DataFrame or Series through chained assignment using an inplace method.\n",
      "The behavior will change in pandas 3.0. This inplace method will never work because the intermediate object on which we are setting values always behaves as a copy.\n",
      "\n",
      "For example, when doing 'df[col].method(value, inplace=True)', try using 'df.method({col: value}, inplace=True)' or df[col] = df[col].method(value) instead, to perform the operation inplace on the original object.\n",
      "\n",
      "\n",
      "  merged_chunk[\"price\"].fillna(merged_chunk[\"price\"].median(), inplace=True)\n",
      "/var/folders/b3/d46c_r5d3wvdy0qnlwhr_1fc0000gn/T/ipykernel_25497/3770630532.py:120: FutureWarning: A value is trying to be set on a copy of a DataFrame or Series through chained assignment using an inplace method.\n",
      "The behavior will change in pandas 3.0. This inplace method will never work because the intermediate object on which we are setting values always behaves as a copy.\n",
      "\n",
      "For example, when doing 'df[col].method(value, inplace=True)', try using 'df.method({col: value}, inplace=True)' or df[col] = df[col].method(value) instead, to perform the operation inplace on the original object.\n",
      "\n",
      "\n",
      "  merged_chunk[\"price\"].fillna(merged_chunk[\"price\"].median(), inplace=True)\n",
      "/var/folders/b3/d46c_r5d3wvdy0qnlwhr_1fc0000gn/T/ipykernel_25497/3770630532.py:120: FutureWarning: A value is trying to be set on a copy of a DataFrame or Series through chained assignment using an inplace method.\n",
      "The behavior will change in pandas 3.0. This inplace method will never work because the intermediate object on which we are setting values always behaves as a copy.\n",
      "\n",
      "For example, when doing 'df[col].method(value, inplace=True)', try using 'df.method({col: value}, inplace=True)' or df[col] = df[col].method(value) instead, to perform the operation inplace on the original object.\n",
      "\n",
      "\n",
      "  merged_chunk[\"price\"].fillna(merged_chunk[\"price\"].median(), inplace=True)\n",
      "/var/folders/b3/d46c_r5d3wvdy0qnlwhr_1fc0000gn/T/ipykernel_25497/3770630532.py:120: FutureWarning: A value is trying to be set on a copy of a DataFrame or Series through chained assignment using an inplace method.\n",
      "The behavior will change in pandas 3.0. This inplace method will never work because the intermediate object on which we are setting values always behaves as a copy.\n",
      "\n",
      "For example, when doing 'df[col].method(value, inplace=True)', try using 'df.method({col: value}, inplace=True)' or df[col] = df[col].method(value) instead, to perform the operation inplace on the original object.\n",
      "\n",
      "\n",
      "  merged_chunk[\"price\"].fillna(merged_chunk[\"price\"].median(), inplace=True)\n",
      "/var/folders/b3/d46c_r5d3wvdy0qnlwhr_1fc0000gn/T/ipykernel_25497/3770630532.py:120: FutureWarning: A value is trying to be set on a copy of a DataFrame or Series through chained assignment using an inplace method.\n",
      "The behavior will change in pandas 3.0. This inplace method will never work because the intermediate object on which we are setting values always behaves as a copy.\n",
      "\n",
      "For example, when doing 'df[col].method(value, inplace=True)', try using 'df.method({col: value}, inplace=True)' or df[col] = df[col].method(value) instead, to perform the operation inplace on the original object.\n",
      "\n",
      "\n",
      "  merged_chunk[\"price\"].fillna(merged_chunk[\"price\"].median(), inplace=True)\n",
      "/var/folders/b3/d46c_r5d3wvdy0qnlwhr_1fc0000gn/T/ipykernel_25497/3770630532.py:120: FutureWarning: A value is trying to be set on a copy of a DataFrame or Series through chained assignment using an inplace method.\n",
      "The behavior will change in pandas 3.0. This inplace method will never work because the intermediate object on which we are setting values always behaves as a copy.\n",
      "\n",
      "For example, when doing 'df[col].method(value, inplace=True)', try using 'df.method({col: value}, inplace=True)' or df[col] = df[col].method(value) instead, to perform the operation inplace on the original object.\n",
      "\n",
      "\n",
      "  merged_chunk[\"price\"].fillna(merged_chunk[\"price\"].median(), inplace=True)\n",
      "/var/folders/b3/d46c_r5d3wvdy0qnlwhr_1fc0000gn/T/ipykernel_25497/3770630532.py:120: FutureWarning: A value is trying to be set on a copy of a DataFrame or Series through chained assignment using an inplace method.\n",
      "The behavior will change in pandas 3.0. This inplace method will never work because the intermediate object on which we are setting values always behaves as a copy.\n",
      "\n",
      "For example, when doing 'df[col].method(value, inplace=True)', try using 'df.method({col: value}, inplace=True)' or df[col] = df[col].method(value) instead, to perform the operation inplace on the original object.\n",
      "\n",
      "\n",
      "  merged_chunk[\"price\"].fillna(merged_chunk[\"price\"].median(), inplace=True)\n",
      "/var/folders/b3/d46c_r5d3wvdy0qnlwhr_1fc0000gn/T/ipykernel_25497/3770630532.py:120: FutureWarning: A value is trying to be set on a copy of a DataFrame or Series through chained assignment using an inplace method.\n",
      "The behavior will change in pandas 3.0. This inplace method will never work because the intermediate object on which we are setting values always behaves as a copy.\n",
      "\n",
      "For example, when doing 'df[col].method(value, inplace=True)', try using 'df.method({col: value}, inplace=True)' or df[col] = df[col].method(value) instead, to perform the operation inplace on the original object.\n",
      "\n",
      "\n",
      "  merged_chunk[\"price\"].fillna(merged_chunk[\"price\"].median(), inplace=True)\n",
      "/var/folders/b3/d46c_r5d3wvdy0qnlwhr_1fc0000gn/T/ipykernel_25497/3770630532.py:120: FutureWarning: A value is trying to be set on a copy of a DataFrame or Series through chained assignment using an inplace method.\n",
      "The behavior will change in pandas 3.0. This inplace method will never work because the intermediate object on which we are setting values always behaves as a copy.\n",
      "\n",
      "For example, when doing 'df[col].method(value, inplace=True)', try using 'df.method({col: value}, inplace=True)' or df[col] = df[col].method(value) instead, to perform the operation inplace on the original object.\n",
      "\n",
      "\n",
      "  merged_chunk[\"price\"].fillna(merged_chunk[\"price\"].median(), inplace=True)\n",
      "/var/folders/b3/d46c_r5d3wvdy0qnlwhr_1fc0000gn/T/ipykernel_25497/3770630532.py:120: FutureWarning: A value is trying to be set on a copy of a DataFrame or Series through chained assignment using an inplace method.\n",
      "The behavior will change in pandas 3.0. This inplace method will never work because the intermediate object on which we are setting values always behaves as a copy.\n",
      "\n",
      "For example, when doing 'df[col].method(value, inplace=True)', try using 'df.method({col: value}, inplace=True)' or df[col] = df[col].method(value) instead, to perform the operation inplace on the original object.\n",
      "\n",
      "\n",
      "  merged_chunk[\"price\"].fillna(merged_chunk[\"price\"].median(), inplace=True)\n",
      "/var/folders/b3/d46c_r5d3wvdy0qnlwhr_1fc0000gn/T/ipykernel_25497/3770630532.py:120: FutureWarning: A value is trying to be set on a copy of a DataFrame or Series through chained assignment using an inplace method.\n",
      "The behavior will change in pandas 3.0. This inplace method will never work because the intermediate object on which we are setting values always behaves as a copy.\n",
      "\n",
      "For example, when doing 'df[col].method(value, inplace=True)', try using 'df.method({col: value}, inplace=True)' or df[col] = df[col].method(value) instead, to perform the operation inplace on the original object.\n",
      "\n",
      "\n",
      "  merged_chunk[\"price\"].fillna(merged_chunk[\"price\"].median(), inplace=True)\n",
      "/var/folders/b3/d46c_r5d3wvdy0qnlwhr_1fc0000gn/T/ipykernel_25497/3770630532.py:120: FutureWarning: A value is trying to be set on a copy of a DataFrame or Series through chained assignment using an inplace method.\n",
      "The behavior will change in pandas 3.0. This inplace method will never work because the intermediate object on which we are setting values always behaves as a copy.\n",
      "\n",
      "For example, when doing 'df[col].method(value, inplace=True)', try using 'df.method({col: value}, inplace=True)' or df[col] = df[col].method(value) instead, to perform the operation inplace on the original object.\n",
      "\n",
      "\n",
      "  merged_chunk[\"price\"].fillna(merged_chunk[\"price\"].median(), inplace=True)\n",
      "/var/folders/b3/d46c_r5d3wvdy0qnlwhr_1fc0000gn/T/ipykernel_25497/3770630532.py:120: FutureWarning: A value is trying to be set on a copy of a DataFrame or Series through chained assignment using an inplace method.\n",
      "The behavior will change in pandas 3.0. This inplace method will never work because the intermediate object on which we are setting values always behaves as a copy.\n",
      "\n",
      "For example, when doing 'df[col].method(value, inplace=True)', try using 'df.method({col: value}, inplace=True)' or df[col] = df[col].method(value) instead, to perform the operation inplace on the original object.\n",
      "\n",
      "\n",
      "  merged_chunk[\"price\"].fillna(merged_chunk[\"price\"].median(), inplace=True)\n",
      "/var/folders/b3/d46c_r5d3wvdy0qnlwhr_1fc0000gn/T/ipykernel_25497/3770630532.py:120: FutureWarning: A value is trying to be set on a copy of a DataFrame or Series through chained assignment using an inplace method.\n",
      "The behavior will change in pandas 3.0. This inplace method will never work because the intermediate object on which we are setting values always behaves as a copy.\n",
      "\n",
      "For example, when doing 'df[col].method(value, inplace=True)', try using 'df.method({col: value}, inplace=True)' or df[col] = df[col].method(value) instead, to perform the operation inplace on the original object.\n",
      "\n",
      "\n",
      "  merged_chunk[\"price\"].fillna(merged_chunk[\"price\"].median(), inplace=True)\n",
      "/var/folders/b3/d46c_r5d3wvdy0qnlwhr_1fc0000gn/T/ipykernel_25497/3770630532.py:120: FutureWarning: A value is trying to be set on a copy of a DataFrame or Series through chained assignment using an inplace method.\n",
      "The behavior will change in pandas 3.0. This inplace method will never work because the intermediate object on which we are setting values always behaves as a copy.\n",
      "\n",
      "For example, when doing 'df[col].method(value, inplace=True)', try using 'df.method({col: value}, inplace=True)' or df[col] = df[col].method(value) instead, to perform the operation inplace on the original object.\n",
      "\n",
      "\n",
      "  merged_chunk[\"price\"].fillna(merged_chunk[\"price\"].median(), inplace=True)\n",
      "/var/folders/b3/d46c_r5d3wvdy0qnlwhr_1fc0000gn/T/ipykernel_25497/3770630532.py:120: FutureWarning: A value is trying to be set on a copy of a DataFrame or Series through chained assignment using an inplace method.\n",
      "The behavior will change in pandas 3.0. This inplace method will never work because the intermediate object on which we are setting values always behaves as a copy.\n",
      "\n",
      "For example, when doing 'df[col].method(value, inplace=True)', try using 'df.method({col: value}, inplace=True)' or df[col] = df[col].method(value) instead, to perform the operation inplace on the original object.\n",
      "\n",
      "\n",
      "  merged_chunk[\"price\"].fillna(merged_chunk[\"price\"].median(), inplace=True)\n",
      "/var/folders/b3/d46c_r5d3wvdy0qnlwhr_1fc0000gn/T/ipykernel_25497/3770630532.py:120: FutureWarning: A value is trying to be set on a copy of a DataFrame or Series through chained assignment using an inplace method.\n",
      "The behavior will change in pandas 3.0. This inplace method will never work because the intermediate object on which we are setting values always behaves as a copy.\n",
      "\n",
      "For example, when doing 'df[col].method(value, inplace=True)', try using 'df.method({col: value}, inplace=True)' or df[col] = df[col].method(value) instead, to perform the operation inplace on the original object.\n",
      "\n",
      "\n",
      "  merged_chunk[\"price\"].fillna(merged_chunk[\"price\"].median(), inplace=True)\n"
     ]
    },
    {
     "name": "stdout",
     "output_type": "stream",
     "text": [
      "Merged data written to ./preprocessed_data/merged_electronics.csv\n"
     ]
    }
   ],
   "source": [
    "# merge_reviews_with_metadata(cleaned_reviews_csv, cleaned_meta_csv, merged_csv, chunk_size=500000)"
   ],
   "metadata": {
    "collapsed": false,
    "ExecuteTime": {
     "end_time": "2025-03-25T17:45:24.738073Z",
     "start_time": "2025-03-25T17:35:21.784454Z"
    }
   },
   "id": "fe1bcf6e01741dfc"
  },
  {
   "cell_type": "code",
   "execution_count": 21,
   "outputs": [
    {
     "name": "stdout",
     "output_type": "stream",
     "text": [
      "Merged data loaded: (24211976, 5)\n",
      "Data split complete:\n",
      "Train shape: (16948383, 5)\n",
      "Val shape: (3631796, 5)\n",
      "Test shape: (3631797, 5)\n"
     ]
    }
   ],
   "source": [
    "#\n",
    "# merged_csv = '/Users/sanamoin/Documents/sites/gadgets/backend/experiments/preprocessed_data/merged_filtered_reviews_asin_keywordmatch.csv'\n",
    "# Finally, split the merged CSV into train, validation, and test sets.\n",
    "# split_dataset_into_splits(merged_csv, output_dir=\"./preprocessed_data/filtered_splits\", train_ratio=0.7, val_ratio=0.15, test_ratio=0.15, seed=42)"
   ],
   "metadata": {
    "collapsed": false,
    "ExecuteTime": {
     "end_time": "2025-03-25T18:06:11.387950Z",
     "start_time": "2025-03-25T17:45:24.739863Z"
    }
   },
   "id": "881b936aadef8c57"
  },
  {
   "cell_type": "code",
   "execution_count": 3,
   "outputs": [
    {
     "name": "stdout",
     "output_type": "stream",
     "text": [
      "Merged data loaded: (2845751, 5)\n",
      "Data split complete:\n",
      "Train shape: (1992025, 5)\n",
      "Val shape: (426863, 5)\n",
      "Test shape: (426863, 5)\n"
     ]
    }
   ],
   "source": [
    "#\n",
    "merged_csv = '/Users/sanamoin/Documents/sites/gadgets/backend/experiments/preprocessed_data/merged_filtered_reviews_asin_keywordmatch.csv'\n",
    "# Finally, split the merged CSV into train, validation, and test sets.\n",
    "split_dataset_into_splits(merged_csv, output_dir=\"./preprocessed_data/filtered_splits\", train_ratio=0.7, val_ratio=0.15, test_ratio=0.15, seed=42)"
   ],
   "metadata": {
    "collapsed": false,
    "ExecuteTime": {
     "end_time": "2025-03-25T23:35:54.488969Z",
     "start_time": "2025-03-25T23:34:20.870136Z"
    }
   },
   "id": "8afde823256494"
  },
  {
   "cell_type": "code",
   "execution_count": 3,
   "outputs": [],
   "source": [],
   "metadata": {
    "collapsed": false,
    "ExecuteTime": {
     "end_time": "2025-03-25T16:53:34.668718Z",
     "start_time": "2025-03-25T16:53:34.653465Z"
    }
   },
   "id": "5a01a80d8781af9b"
  },
  {
   "cell_type": "code",
   "execution_count": null,
   "outputs": [],
   "source": [],
   "metadata": {
    "collapsed": false
   },
   "id": "710f92dbeab59ed5"
  },
  {
   "cell_type": "code",
   "execution_count": 4,
   "outputs": [],
   "source": [
    "\n",
    "# ===========================\n",
    "# 3. PyTorch Dataset Class\n",
    "# ===========================\n",
    "class ElectronicsDataset(Dataset):\n",
    "    def __init__(self, csv_file, tokenizer: BertTokenizer, max_length=256):\n",
    "        \"\"\"\n",
    "        Load CSV file and prepare data for training.\n",
    "        \"\"\"\n",
    "        self.data = pd.read_csv(csv_file)\n",
    "        self.tokenizer = tokenizer\n",
    "        self.max_length = max_length\n",
    "        self.data[\"cleaned_review\"] = self.data[\"cleaned_review\"].astype(str)\n",
    "        self.data[\"cleaned_metadata\"] = self.data[\"cleaned_metadata\"].astype(str)\n",
    "\n",
    "    def __len__(self):\n",
    "        return len(self.data)\n",
    "    \n",
    "    def __getitem__(self, idx):\n",
    "        row = self.data.iloc[idx]\n",
    "        review_text = row[\"cleaned_review\"]\n",
    "        meta_text = row[\"cleaned_metadata\"]\n",
    "        price = float(row[\"price\"])\n",
    "        rating = float(row[\"rating\"])\n",
    "        \n",
    "        # Tokenize review text\n",
    "        encoding = self.tokenizer.encode_plus(\n",
    "            review_text,\n",
    "            add_special_tokens=True,\n",
    "            max_length=self.max_length,\n",
    "            padding=\"max_length\",\n",
    "            truncation=True,\n",
    "            return_tensors=\"pt\"\n",
    "        )\n",
    "        input_ids = encoding[\"input_ids\"].squeeze(0)\n",
    "        attention_mask = encoding[\"attention_mask\"].squeeze(0)\n",
    "        \n",
    "        # Tokenize metadata text\n",
    "        meta_encoding = self.tokenizer.encode_plus(\n",
    "            meta_text,\n",
    "            add_special_tokens=True,\n",
    "            max_length=self.max_length,\n",
    "            padding=\"max_length\",\n",
    "            truncation=True,\n",
    "            return_tensors=\"pt\"\n",
    "        )\n",
    "        meta_input_ids = meta_encoding[\"input_ids\"].squeeze(0)\n",
    "        meta_attention_mask = meta_encoding[\"attention_mask\"].squeeze(0)\n",
    "        \n",
    "        sample = {\n",
    "            \"review_input_ids\": input_ids,\n",
    "            \"review_attention_mask\": attention_mask,\n",
    "            \"meta_input_ids\": meta_input_ids,\n",
    "            \"meta_attention_mask\": meta_attention_mask,\n",
    "            \"price\": torch.tensor(price, dtype=torch.float),\n",
    "            \"rating\": torch.tensor(rating, dtype=torch.float)\n",
    "        }\n",
    "        return sample\n"
   ],
   "metadata": {
    "collapsed": false,
    "ExecuteTime": {
     "end_time": "2025-03-25T23:35:54.500303Z",
     "start_time": "2025-03-25T23:35:54.492043Z"
    }
   },
   "id": "8c024369fafc608f"
  },
  {
   "cell_type": "code",
   "execution_count": 5,
   "outputs": [],
   "source": [
    "\n",
    "# ===========================\n",
    "# 4. Model Architecture\n",
    "# ===========================\n",
    "class JointReviewMetadataModel(nn.Module):\n",
    "    def __init__(self, \n",
    "                 bert_model_name=\"bert-base-uncased\",\n",
    "                 review_emb_dim=256,\n",
    "                 meta_token_emb_dim=128,\n",
    "                 meta_cnn_out_channels=128,\n",
    "                 meta_price_emb_dim=64,\n",
    "                 meta_final_dim=256,\n",
    "                 fused_dim=256,\n",
    "                 dropout=0.1,\n",
    "                 tokenizer_vocab_size=30522):\n",
    "        super(JointReviewMetadataModel, self).__init__()\n",
    "        \n",
    "        # Review Branch: Pretrained BERT\n",
    "        self.bert = BertModel.from_pretrained(bert_model_name)\n",
    "        self.review_fc = nn.Linear(self.bert.config.hidden_size, review_emb_dim)\n",
    "        self.review_dropout = nn.Dropout(dropout)\n",
    "        \n",
    "        # Metadata Branch: Train-from-scratch embedding and CNN\n",
    "        self.meta_embedding = nn.Embedding(num_embeddings=tokenizer_vocab_size,\n",
    "                                           embedding_dim=meta_token_emb_dim,\n",
    "                                           padding_idx=0)\n",
    "        self.meta_conv = nn.Conv1d(in_channels=meta_token_emb_dim,\n",
    "                                   out_channels=meta_cnn_out_channels,\n",
    "                                   kernel_size=3,\n",
    "                                   padding=1)\n",
    "        self.meta_pool = nn.AdaptiveMaxPool1d(1)\n",
    "        self.meta_dropout = nn.Dropout(dropout)\n",
    "        \n",
    "        # Price processing: MLP to project numeric price to an embedding\n",
    "        self.price_fc = nn.Sequential(\n",
    "            nn.Linear(1, meta_price_emb_dim),\n",
    "            nn.ReLU()\n",
    "        )\n",
    "        \n",
    "        # Fuse metadata CNN features with price embedding\n",
    "        self.meta_fuse = nn.Sequential(\n",
    "            nn.Linear(meta_cnn_out_channels + meta_price_emb_dim, meta_final_dim),\n",
    "            nn.ReLU(),\n",
    "            nn.Dropout(dropout)\n",
    "        )\n",
    "        \n",
    "        # Fusion Module: combine review and metadata embeddings\n",
    "        self.fusion_fc = nn.Sequential(\n",
    "            nn.Linear(review_emb_dim + meta_final_dim, fused_dim),\n",
    "            nn.ReLU(),\n",
    "            nn.Dropout(dropout)\n",
    "        )\n",
    "        \n",
    "        # Prediction Head: Regression output (e.g., predicting rating)\n",
    "        self.output_fc = nn.Linear(fused_dim, 1)\n",
    "        \n",
    "    def forward(self, review_input_ids, review_attention_mask,\n",
    "                meta_input_ids, meta_attention_mask, price):\n",
    "        # ---- Review Branch ----\n",
    "        bert_outputs = self.bert(input_ids=review_input_ids, attention_mask=review_attention_mask)\n",
    "        cls_output = bert_outputs.last_hidden_state[:, 0, :]  # (batch, 768)\n",
    "        review_emb = self.review_dropout(self.review_fc(cls_output))  # (batch, review_emb_dim)\n",
    "        \n",
    "        # ---- Metadata Branch ----\n",
    "        meta_embedded = self.meta_embedding(meta_input_ids)  # (batch, meta_seq_len, meta_token_emb_dim)\n",
    "        meta_embedded = meta_embedded.transpose(1, 2)  # (batch, meta_token_emb_dim, meta_seq_len)\n",
    "        meta_conv_out = F.relu(self.meta_conv(meta_embedded))  # (batch, meta_cnn_out_channels, meta_seq_len)\n",
    "        meta_pooled = self.meta_pool(meta_conv_out).squeeze(-1)  # (batch, meta_cnn_out_channels)\n",
    "        meta_pooled = self.meta_dropout(meta_pooled)\n",
    "        \n",
    "        # Process price feature\n",
    "        price = price.view(-1, 1)  # (batch, 1)\n",
    "        price_emb = self.price_fc(price)  # (batch, meta_price_emb_dim)\n",
    "        \n",
    "        # Concatenate metadata CNN output with price embedding\n",
    "        meta_concat = torch.cat([meta_pooled, price_emb], dim=1)  # (batch, meta_cnn_out_channels + meta_price_emb_dim)\n",
    "        meta_emb = self.meta_fuse(meta_concat)  # (batch, meta_final_dim)\n",
    "        \n",
    "        # ---- Fusion ----\n",
    "        fused = torch.cat([review_emb, meta_emb], dim=1)  # (batch, review_emb_dim + meta_final_dim)\n",
    "        fused_emb = self.fusion_fc(fused)  # (batch, fused_dim)\n",
    "        \n",
    "        # ---- Prediction Head ----\n",
    "        output = self.output_fc(fused_emb)  # (batch, 1)\n",
    "        \n",
    "        return output, fused_emb"
   ],
   "metadata": {
    "collapsed": false,
    "ExecuteTime": {
     "end_time": "2025-03-25T23:35:54.508793Z",
     "start_time": "2025-03-25T23:35:54.497122Z"
    }
   },
   "id": "8c80644a045cb8d7"
  },
  {
   "cell_type": "code",
   "execution_count": 6,
   "outputs": [],
   "source": [
    "\n",
    "# ===========================\n",
    "# 5. Training and Evaluation Setup\n",
    "# ===========================\n",
    "# ---------------------------\n",
    "# Hyperparameters and Device Setup\n",
    "# ---------------------------\n",
    "BATCH_SIZE = 32\n",
    "NUM_EPOCHS = 5\n",
    "LEARNING_RATE = 2e-5\n",
    "WEIGHT_DECAY = 1e-2\n",
    "MAX_GRAD_NORM = 1.0\n",
    "device = torch.device(\"cuda\" if torch.cuda.is_available() else \"mps\")\n",
    "\n",
    "# Load the tokenizer\n",
    "tokenizer = BertTokenizer.from_pretrained(\"bert-base-uncased\")"
   ],
   "metadata": {
    "collapsed": false,
    "ExecuteTime": {
     "end_time": "2025-03-25T23:35:54.785094Z",
     "start_time": "2025-03-25T23:35:54.506828Z"
    }
   },
   "id": "e89fa44bd5345626"
  },
  {
   "cell_type": "code",
   "execution_count": 7,
   "outputs": [
    {
     "data": {
      "text/plain": "device(type='mps')"
     },
     "execution_count": 7,
     "metadata": {},
     "output_type": "execute_result"
    }
   ],
   "source": [
    "device"
   ],
   "metadata": {
    "collapsed": false,
    "ExecuteTime": {
     "end_time": "2025-03-25T23:35:54.790837Z",
     "start_time": "2025-03-25T23:35:54.787034Z"
    }
   },
   "id": "5df8d3916701631"
  },
  {
   "cell_type": "code",
   "execution_count": 8,
   "outputs": [],
   "source": [
    "\n",
    "# ---------------------------\n",
    "# Assume we already have CSV splits from preprocessing.\n",
    "# Here we load the train, validation, and test splits.\n",
    "# ---------------------------\n",
    "DATA_DIR = \"./preprocessed_data/filtered_splits\"\n",
    "train_csv = os.path.join(DATA_DIR, \"electronics_train.csv\")\n",
    "val_csv = os.path.join(DATA_DIR, \"electronics_val.csv\")\n",
    "test_csv = os.path.join(DATA_DIR, \"electronics_test.csv\")\n",
    "\n",
    "\n"
   ],
   "metadata": {
    "collapsed": false,
    "ExecuteTime": {
     "end_time": "2025-03-25T23:35:54.793356Z",
     "start_time": "2025-03-25T23:35:54.790311Z"
    }
   },
   "id": "6d226d152ec2d92d"
  },
  {
   "cell_type": "code",
   "execution_count": 9,
   "outputs": [
    {
     "data": {
      "text/plain": "Generating train split: 0 examples [00:00, ? examples/s]",
      "application/vnd.jupyter.widget-view+json": {
       "version_major": 2,
       "version_minor": 0,
       "model_id": "f07f17f4a6024cb098f01310ca18b685"
      }
     },
     "metadata": {},
     "output_type": "display_data"
    },
    {
     "data": {
      "text/plain": "Generating val split: 0 examples [00:00, ? examples/s]",
      "application/vnd.jupyter.widget-view+json": {
       "version_major": 2,
       "version_minor": 0,
       "model_id": "01060cf755b843e289bf31a47a5d2cf5"
      }
     },
     "metadata": {},
     "output_type": "display_data"
    },
    {
     "data": {
      "text/plain": "Generating test split: 0 examples [00:00, ? examples/s]",
      "application/vnd.jupyter.widget-view+json": {
       "version_major": 2,
       "version_minor": 0,
       "model_id": "7b0e745089214812afe500ca807e979d"
      }
     },
     "metadata": {},
     "output_type": "display_data"
    }
   ],
   "source": [
    "# Load CSV splits as Hugging Face datasets (which use memory mapping)\n",
    "train_dataset = load_dataset(\"csv\", data_files={\"train\": train_csv}, split=\"train\")\n",
    "val_dataset   = load_dataset(\"csv\", data_files={\"val\": val_csv}, split=\"val\")\n",
    "test_dataset  = load_dataset(\"csv\", data_files={\"test\": test_csv}, split=\"test\")\n"
   ],
   "metadata": {
    "collapsed": false,
    "ExecuteTime": {
     "end_time": "2025-03-25T23:36:46.886441Z",
     "start_time": "2025-03-25T23:35:54.793049Z"
    }
   },
   "id": "edc6a5af3581de8d"
  },
  {
   "cell_type": "code",
   "execution_count": 10,
   "outputs": [],
   "source": [
    "# train_loader = DataLoader(train_dataset, batch_size=BATCH_SIZE, shuffle=True, num_workers=4)\n",
    "# val_loader   = DataLoader(val_dataset, batch_size=BATCH_SIZE, shuffle=False, num_workers=4)\n",
    "# test_loader  = DataLoader(test_dataset, batch_size=BATCH_SIZE, shuffle=False, num_workers=4)"
   ],
   "metadata": {
    "collapsed": false,
    "ExecuteTime": {
     "end_time": "2025-03-25T23:36:46.890492Z",
     "start_time": "2025-03-25T23:36:46.886814Z"
    }
   },
   "id": "48d2912dc60e6984"
  },
  {
   "cell_type": "code",
   "execution_count": 11,
   "outputs": [],
   "source": [
    "def tokenize_function(batch):\n",
    "    # Tokenize review and metadata texts\n",
    "    review_enc = tokenizer(batch[\"cleaned_review\"], truncation=True, padding=\"max_length\", max_length=256)\n",
    "    meta_enc = tokenizer(batch[\"cleaned_metadata\"], truncation=True, padding=\"max_length\", max_length=256)\n",
    "\n",
    "    prices = []\n",
    "    ratings = []\n",
    "\n",
    "    for price_raw, rating_raw in zip(batch[\"price\"], batch[\"rating\"]):\n",
    "        try:\n",
    "            price_val = float(price_raw)\n",
    "        except:\n",
    "            price_val = 0.0\n",
    "        prices.append(price_val)\n",
    "\n",
    "        try:\n",
    "            rating_val = float(rating_raw)\n",
    "        except:\n",
    "            rating_val = 0.0\n",
    "        ratings.append(rating_val)\n",
    "\n",
    "    return {\n",
    "        \"review_input_ids\": review_enc[\"input_ids\"],\n",
    "        \"review_attention_mask\": review_enc[\"attention_mask\"],\n",
    "        \"meta_input_ids\": meta_enc[\"input_ids\"],\n",
    "        \"meta_attention_mask\": meta_enc[\"attention_mask\"],\n",
    "        \"price\": prices,\n",
    "        \"rating\": ratings\n",
    "    }\n"
   ],
   "metadata": {
    "collapsed": false,
    "ExecuteTime": {
     "end_time": "2025-03-25T23:36:46.893150Z",
     "start_time": "2025-03-25T23:36:46.889842Z"
    }
   },
   "id": "b082b2dc02277c4f"
  },
  {
   "cell_type": "code",
   "execution_count": 12,
   "outputs": [
    {
     "data": {
      "text/plain": "Map:   0%|          | 0/1992025 [00:00<?, ? examples/s]",
      "application/vnd.jupyter.widget-view+json": {
       "version_major": 2,
       "version_minor": 0,
       "model_id": "975767398f994cbd856b8e162e5da3e1"
      }
     },
     "metadata": {},
     "output_type": "display_data"
    },
    {
     "data": {
      "text/plain": "Map:   0%|          | 0/426863 [00:00<?, ? examples/s]",
      "application/vnd.jupyter.widget-view+json": {
       "version_major": 2,
       "version_minor": 0,
       "model_id": "597f4acd013c45f0a1eed541b0a93cbc"
      }
     },
     "metadata": {},
     "output_type": "display_data"
    },
    {
     "data": {
      "text/plain": "Map:   0%|          | 0/426863 [00:00<?, ? examples/s]",
      "application/vnd.jupyter.widget-view+json": {
       "version_major": 2,
       "version_minor": 0,
       "model_id": "c3ed151a0c2a4e15a2680c6719fcd2fc"
      }
     },
     "metadata": {},
     "output_type": "display_data"
    }
   ],
   "source": [
    "# Apply tokenization in batched mode (this is efficient and uses memory mapping)\n",
    "train_dataset = train_dataset.map(tokenize_function, batched=True, remove_columns=train_dataset.column_names)\n",
    "val_dataset   = val_dataset.map(tokenize_function, batched=True, remove_columns=val_dataset.column_names)\n",
    "test_dataset  = test_dataset.map(tokenize_function, batched=True, remove_columns=test_dataset.column_names)\n"
   ],
   "metadata": {
    "collapsed": false,
    "ExecuteTime": {
     "end_time": "2025-03-26T01:26:01.693021Z",
     "start_time": "2025-03-25T23:36:46.895435Z"
    }
   },
   "id": "95ec43fcaecd11c4"
  },
  {
   "cell_type": "code",
   "execution_count": 13,
   "outputs": [],
   "source": [
    "# Create DataLoaders\n",
    "train_loader = DataLoader(train_dataset, batch_size=BATCH_SIZE, shuffle=True)\n",
    "val_loader   = DataLoader(val_dataset, batch_size=BATCH_SIZE, shuffle=False)\n",
    "test_loader  = DataLoader(test_dataset, batch_size=BATCH_SIZE, shuffle=False)\n"
   ],
   "metadata": {
    "collapsed": false,
    "ExecuteTime": {
     "end_time": "2025-03-26T01:26:01.695743Z",
     "start_time": "2025-03-26T01:26:01.694466Z"
    }
   },
   "id": "325324a0f0116969"
  },
  {
   "cell_type": "code",
   "execution_count": 13,
   "outputs": [],
   "source": [],
   "metadata": {
    "collapsed": false,
    "ExecuteTime": {
     "end_time": "2025-03-26T01:26:01.697675Z",
     "start_time": "2025-03-26T01:26:01.695470Z"
    }
   },
   "id": "6083d197c0eb7e4e"
  },
  {
   "cell_type": "code",
   "execution_count": 14,
   "outputs": [],
   "source": [
    "# # Set format to PyTorch tensors for necessary columns\n",
    "columns = [\"review_input_ids\", \"review_attention_mask\", \"meta_input_ids\", \"meta_attention_mask\", \"price\", \"rating\"]\n",
    "train_dataset.set_format(type=\"torch\", columns=columns)\n",
    "val_dataset.set_format(type=\"torch\", columns=columns)\n",
    "test_dataset.set_format(type=\"torch\", columns=columns)\n"
   ],
   "metadata": {
    "collapsed": false,
    "ExecuteTime": {
     "end_time": "2025-03-26T01:26:01.700259Z",
     "start_time": "2025-03-26T01:26:01.697814Z"
    }
   },
   "id": "f6f4b9bbd1ae03db"
  },
  {
   "cell_type": "code",
   "execution_count": 14,
   "outputs": [],
   "source": [],
   "metadata": {
    "collapsed": false,
    "ExecuteTime": {
     "end_time": "2025-03-26T01:26:01.701982Z",
     "start_time": "2025-03-26T01:26:01.700092Z"
    }
   },
   "id": "e8e4fabcd6cda53b"
  },
  {
   "cell_type": "code",
   "execution_count": 15,
   "outputs": [
    {
     "data": {
      "text/plain": "JointReviewMetadataModel(\n  (bert): BertModel(\n    (embeddings): BertEmbeddings(\n      (word_embeddings): Embedding(30522, 768, padding_idx=0)\n      (position_embeddings): Embedding(512, 768)\n      (token_type_embeddings): Embedding(2, 768)\n      (LayerNorm): LayerNorm((768,), eps=1e-12, elementwise_affine=True)\n      (dropout): Dropout(p=0.1, inplace=False)\n    )\n    (encoder): BertEncoder(\n      (layer): ModuleList(\n        (0-11): 12 x BertLayer(\n          (attention): BertAttention(\n            (self): BertSdpaSelfAttention(\n              (query): Linear(in_features=768, out_features=768, bias=True)\n              (key): Linear(in_features=768, out_features=768, bias=True)\n              (value): Linear(in_features=768, out_features=768, bias=True)\n              (dropout): Dropout(p=0.1, inplace=False)\n            )\n            (output): BertSelfOutput(\n              (dense): Linear(in_features=768, out_features=768, bias=True)\n              (LayerNorm): LayerNorm((768,), eps=1e-12, elementwise_affine=True)\n              (dropout): Dropout(p=0.1, inplace=False)\n            )\n          )\n          (intermediate): BertIntermediate(\n            (dense): Linear(in_features=768, out_features=3072, bias=True)\n            (intermediate_act_fn): GELUActivation()\n          )\n          (output): BertOutput(\n            (dense): Linear(in_features=3072, out_features=768, bias=True)\n            (LayerNorm): LayerNorm((768,), eps=1e-12, elementwise_affine=True)\n            (dropout): Dropout(p=0.1, inplace=False)\n          )\n        )\n      )\n    )\n    (pooler): BertPooler(\n      (dense): Linear(in_features=768, out_features=768, bias=True)\n      (activation): Tanh()\n    )\n  )\n  (review_fc): Linear(in_features=768, out_features=256, bias=True)\n  (review_dropout): Dropout(p=0.1, inplace=False)\n  (meta_embedding): Embedding(30522, 128, padding_idx=0)\n  (meta_conv): Conv1d(128, 128, kernel_size=(3,), stride=(1,), padding=(1,))\n  (meta_pool): AdaptiveMaxPool1d(output_size=1)\n  (meta_dropout): Dropout(p=0.1, inplace=False)\n  (price_fc): Sequential(\n    (0): Linear(in_features=1, out_features=64, bias=True)\n    (1): ReLU()\n  )\n  (meta_fuse): Sequential(\n    (0): Linear(in_features=192, out_features=256, bias=True)\n    (1): ReLU()\n    (2): Dropout(p=0.1, inplace=False)\n  )\n  (fusion_fc): Sequential(\n    (0): Linear(in_features=512, out_features=256, bias=True)\n    (1): ReLU()\n    (2): Dropout(p=0.1, inplace=False)\n  )\n  (output_fc): Linear(in_features=256, out_features=1, bias=True)\n)"
     },
     "execution_count": 15,
     "metadata": {},
     "output_type": "execute_result"
    }
   ],
   "source": [
    "\n",
    "# Instantiate the model and move to device\n",
    "model = JointReviewMetadataModel(tokenizer_vocab_size=tokenizer.vocab_size)\n",
    "model.to(device)\n"
   ],
   "metadata": {
    "collapsed": false,
    "ExecuteTime": {
     "end_time": "2025-03-26T01:26:03.307826Z",
     "start_time": "2025-03-26T01:26:01.702063Z"
    }
   },
   "id": "51ade01ccd52e512"
  },
  {
   "cell_type": "code",
   "execution_count": 16,
   "outputs": [],
   "source": [
    "# Loss function: MSE for regression (predicting rating)\n",
    "criterion = nn.MSELoss()\n",
    "\n",
    "# Optimizer: AdamW\n",
    "optimizer = optim.AdamW(model.parameters(), lr=LEARNING_RATE, weight_decay=WEIGHT_DECAY)\n",
    "\n",
    "# Total training steps and scheduler\n",
    "total_steps = NUM_EPOCHS * len(train_loader)\n",
    "scheduler = get_linear_schedule_with_warmup(optimizer,\n",
    "                                            num_warmup_steps=int(0.1 * total_steps),\n",
    "                                            num_training_steps=total_steps)\n"
   ],
   "metadata": {
    "collapsed": false,
    "ExecuteTime": {
     "end_time": "2025-03-26T01:26:03.310091Z",
     "start_time": "2025-03-26T01:26:03.308331Z"
    }
   },
   "id": "4b15e06aec9dd974"
  },
  {
   "cell_type": "code",
   "execution_count": 17,
   "outputs": [],
   "source": [
    "# ---------------\n",
    "# Training Function\n",
    "# ---------------\n",
    "def train_epoch(model, dataloader, optimizer, scheduler, device):\n",
    "    model.train()\n",
    "    running_loss = 0.0\n",
    "    for batch in tqdm(dataloader, desc=\"Training\"):\n",
    "        optimizer.zero_grad()\n",
    "        review_input_ids = batch[\"review_input_ids\"].to(device)\n",
    "        review_attention_mask = batch[\"review_attention_mask\"].to(device)\n",
    "        meta_input_ids = batch[\"meta_input_ids\"].to(device)\n",
    "        meta_attention_mask = batch[\"meta_attention_mask\"].to(device)\n",
    "        price = batch[\"price\"].to(device)\n",
    "        rating = batch[\"rating\"].to(device)\n",
    "        \n",
    "        output, _ = model(review_input_ids, review_attention_mask,\n",
    "                          meta_input_ids, meta_attention_mask, price)\n",
    "        output = output.squeeze(-1)\n",
    "        loss = criterion(output, rating)\n",
    "        \n",
    "        loss.backward()\n",
    "        torch.nn.utils.clip_grad_norm_(model.parameters(), MAX_GRAD_NORM)\n",
    "        optimizer.step()\n",
    "        scheduler.step()\n",
    "        \n",
    "        running_loss += loss.item() * review_input_ids.size(0)\n",
    "    \n",
    "    epoch_loss = running_loss / len(dataloader.dataset)\n",
    "    return epoch_loss\n"
   ],
   "metadata": {
    "collapsed": false,
    "ExecuteTime": {
     "end_time": "2025-03-26T01:26:03.312755Z",
     "start_time": "2025-03-26T01:26:03.311189Z"
    }
   },
   "id": "10f79049da8d78cc"
  },
  {
   "cell_type": "code",
   "execution_count": 18,
   "outputs": [],
   "source": [
    "# ---------------\n",
    "# Evaluation Function\n",
    "# ---------------\n",
    "def evaluate_model(model, dataloader, device):\n",
    "    model.eval()\n",
    "    running_loss = 0.0\n",
    "    all_preds = []\n",
    "    all_targets = []\n",
    "    \n",
    "    with torch.no_grad():\n",
    "        for batch in tqdm(dataloader, desc=\"Evaluating\"):\n",
    "            review_input_ids = batch[\"review_input_ids\"].to(device)\n",
    "            review_attention_mask = batch[\"review_attention_mask\"].to(device)\n",
    "            meta_input_ids = batch[\"meta_input_ids\"].to(device)\n",
    "            meta_attention_mask = batch[\"meta_attention_mask\"].to(device)\n",
    "            price = batch[\"price\"].to(device)\n",
    "            rating = batch[\"rating\"].to(device)\n",
    "            \n",
    "            output, _ = model(review_input_ids, review_attention_mask,\n",
    "                              meta_input_ids, meta_attention_mask, price)\n",
    "            output = output.squeeze(-1)\n",
    "            loss = criterion(output, rating)\n",
    "            running_loss += loss.item() * review_input_ids.size(0)\n",
    "            \n",
    "            all_preds.extend(output.cpu().numpy())\n",
    "            all_targets.extend(rating.cpu().numpy())\n",
    "    \n",
    "    epoch_loss = running_loss / len(dataloader.dataset)\n",
    "    rmse = np.sqrt(np.mean((np.array(all_preds) - np.array(all_targets)) ** 2))\n",
    "    return epoch_loss, rmse\n"
   ],
   "metadata": {
    "collapsed": false,
    "ExecuteTime": {
     "end_time": "2025-03-26T01:26:03.320427Z",
     "start_time": "2025-03-26T01:26:03.314198Z"
    }
   },
   "id": "8e59349f021f58a6"
  },
  {
   "cell_type": "code",
   "execution_count": 19,
   "outputs": [
    {
     "name": "stdout",
     "output_type": "stream",
     "text": [
      "\n",
      "Epoch 1/5\n"
     ]
    },
    {
     "name": "stderr",
     "output_type": "stream",
     "text": [
      "Training: 100%|██████████| 62251/62251 [17:30:14<00:00,  1.01s/it]  \n",
      "Evaluating: 100%|██████████| 13340/13340 [1:18:51<00:00,  2.82it/s]\n"
     ]
    },
    {
     "name": "stdout",
     "output_type": "stream",
     "text": [
      "Training Loss: 0.5978\n",
      "Validation Loss: 0.2795 | RMSE: 0.5287\n",
      "Best model saved.\n",
      "\n",
      "Epoch 2/5\n"
     ]
    },
    {
     "name": "stderr",
     "output_type": "stream",
     "text": [
      "Training: 100%|██████████| 62251/62251 [17:20:24<00:00,  1.00s/it]  \n",
      "Evaluating: 100%|██████████| 13340/13340 [1:22:55<00:00,  2.68it/s]\n"
     ]
    },
    {
     "name": "stdout",
     "output_type": "stream",
     "text": [
      "Training Loss: 0.2749\n",
      "Validation Loss: 0.2643 | RMSE: 0.5141\n",
      "Best model saved.\n",
      "\n",
      "Epoch 3/5\n"
     ]
    },
    {
     "name": "stderr",
     "output_type": "stream",
     "text": [
      "Training: 100%|██████████| 62251/62251 [17:50:27<00:00,  1.03s/it]  \n",
      "Evaluating: 100%|██████████| 13340/13340 [1:25:11<00:00,  2.61it/s]\n"
     ]
    },
    {
     "name": "stdout",
     "output_type": "stream",
     "text": [
      "Training Loss: 0.2422\n",
      "Validation Loss: 0.2679 | RMSE: 0.5176\n",
      "\n",
      "Epoch 4/5\n"
     ]
    },
    {
     "name": "stderr",
     "output_type": "stream",
     "text": [
      "Training: 100%|██████████| 62251/62251 [17:34:41<00:00,  1.02s/it]  \n",
      "Evaluating: 100%|██████████| 13340/13340 [1:15:44<00:00,  2.94it/s]\n"
     ]
    },
    {
     "name": "stdout",
     "output_type": "stream",
     "text": [
      "Training Loss: 0.2112\n",
      "Validation Loss: 0.2635 | RMSE: 0.5133\n",
      "Best model saved.\n",
      "\n",
      "Epoch 5/5\n"
     ]
    },
    {
     "name": "stderr",
     "output_type": "stream",
     "text": [
      "Training: 100%|██████████| 62251/62251 [17:17:23<00:00,  1.00it/s]  \n",
      "Evaluating: 100%|██████████| 13340/13340 [1:23:05<00:00,  2.68it/s]"
     ]
    },
    {
     "name": "stdout",
     "output_type": "stream",
     "text": [
      "Training Loss: 0.1845\n",
      "Validation Loss: 0.2683 | RMSE: 0.5180\n"
     ]
    },
    {
     "name": "stderr",
     "output_type": "stream",
     "text": [
      "\n"
     ]
    }
   ],
   "source": [
    "best_val_loss = float('inf')\n",
    "for epoch in range(NUM_EPOCHS):\n",
    "    print(f\"\\nEpoch {epoch+1}/{NUM_EPOCHS}\")\n",
    "    train_loss = train_epoch(model, train_loader, optimizer, scheduler, device)\n",
    "    val_loss, val_rmse = evaluate_model(model, val_loader, device)\n",
    "    \n",
    "    print(f\"Training Loss: {train_loss:.4f}\")\n",
    "    print(f\"Validation Loss: {val_loss:.4f} | RMSE: {val_rmse:.4f}\")\n",
    "    \n",
    "    if val_loss < best_val_loss:\n",
    "        best_val_loss = val_loss\n",
    "        torch.save(model.state_dict(), \"best_model.pth\")\n",
    "        print(\"Best model saved.\")\n",
    "\n"
   ],
   "metadata": {
    "collapsed": false,
    "ExecuteTime": {
     "end_time": "2025-03-29T23:45:05.527879Z",
     "start_time": "2025-03-26T01:26:03.317049Z"
    }
   },
   "id": "3eeb71780df405e2"
  },
  {
   "cell_type": "code",
   "execution_count": 20,
   "outputs": [
    {
     "name": "stderr",
     "output_type": "stream",
     "text": [
      "Evaluating: 100%|██████████| 13340/13340 [1:22:27<00:00,  2.70it/s]"
     ]
    },
    {
     "name": "stdout",
     "output_type": "stream",
     "text": [
      "\n",
      "Test Loss: 0.2680 | Test RMSE: 0.5177\n"
     ]
    },
    {
     "name": "stderr",
     "output_type": "stream",
     "text": [
      "\n"
     ]
    }
   ],
   "source": [
    "test_loss, test_rmse = evaluate_model(model, test_loader, device)\n",
    "print(f\"\\nTest Loss: {test_loss:.4f} | Test RMSE: {test_rmse:.4f}\")"
   ],
   "metadata": {
    "collapsed": false,
    "ExecuteTime": {
     "end_time": "2025-03-30T01:07:33.364581Z",
     "start_time": "2025-03-29T23:45:05.477637Z"
    }
   },
   "id": "39244d78e7061b7f"
  },
  {
   "cell_type": "code",
   "execution_count": null,
   "outputs": [],
   "source": [
    " "
   ],
   "metadata": {
    "collapsed": false
   },
   "id": "f1c6c4d47c2daa64"
  }
 ],
 "metadata": {
  "kernelspec": {
   "display_name": "Python 3",
   "language": "python",
   "name": "python3"
  },
  "language_info": {
   "codemirror_mode": {
    "name": "ipython",
    "version": 2
   },
   "file_extension": ".py",
   "mimetype": "text/x-python",
   "name": "python",
   "nbconvert_exporter": "python",
   "pygments_lexer": "ipython2",
   "version": "2.7.6"
  }
 },
 "nbformat": 4,
 "nbformat_minor": 5
}
