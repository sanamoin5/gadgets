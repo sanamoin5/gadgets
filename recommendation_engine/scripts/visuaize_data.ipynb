{
 "cells": [
  {
   "cell_type": "code",
   "execution_count": 38,
   "id": "initial_id",
   "metadata": {
    "collapsed": true,
    "ExecuteTime": {
     "end_time": "2025-04-01T19:58:32.164764Z",
     "start_time": "2025-04-01T19:58:30.724150Z"
    }
   },
   "outputs": [],
   "source": [
    "import pandas as pd"
   ]
  },
  {
   "cell_type": "code",
   "execution_count": 14,
   "outputs": [],
   "source": [
    "import json"
   ],
   "metadata": {
    "collapsed": false,
    "ExecuteTime": {
     "end_time": "2025-04-01T15:09:10.708968Z",
     "start_time": "2025-04-01T15:09:10.707556Z"
    }
   },
   "id": "547e026ba4c30dfd"
  },
  {
   "cell_type": "code",
   "execution_count": 16,
   "outputs": [
    {
     "name": "stdout",
     "output_type": "stream",
     "text": [
      "{\"rating\": 3.0, \"title\": \"Smells like gasoline! Going back!\", \"text\": \"First & most offensive: they reek of gasoline so if you are sensitive/allergic to petroleum products like I am you will want to pass on these.  Second: the phone adapter is useless as-is. Mine was not drilled far enough to be able to tighten it into place for my iPhone 12 max. It just slipped & slid all over. Stupid me putting the adapter together first without picking up the binoculars to smell them bc I wasted 15 minutes trying to figure out how to put the adapter together bc it does not come with instructions!  I had to come back here to the website which was a total pain. Third: the tripod is also useless. I would not trust the iOS to hold my $1600 phone nor even a Mattel Barbie for that matter. It\\u2019s just inefficient for the job imo.  Third: in order to try to give an honest review I did don gloves & eyewear to check the binoculars out.  They seemed average except for mine seemed to be missing about 10% of the film costing in the lower edge of one of the lenses which would have ruined every video & photograph unplanned to take so for me these are a very huge hard pass.  I expect the accessories that come with the main product to be as good or better than the product I\\u2019m buying. Otherwise I would just buy the product as a stand alone.  Sadly, I found a decent pair of binoculars last year with a much better quality phone adapter & tripod, but they had a defect too.  Guess I\\u2019m going to have to pay more.  Ugh.\", \"images\": [{\"small_image_url\": \"https://m.media-amazon.com/images/I/71YN+Qk3kCL._SL256_.jpg\", \"medium_image_url\": \"https://m.media-amazon.com/images/I/71YN+Qk3kCL._SL800_.jpg\", \"large_image_url\": \"https://m.media-amazon.com/images/I/71YN+Qk3kCL._SL1600_.jpg\", \"attachment_type\": \"IMAGE\"}], \"asin\": \"B083NRGZMM\", \"parent_asin\": \"B083NRGZMM\", \"user_id\": \"AFKZENTNBQ7A7V7UXW5JJI6UGRYQ\", \"timestamp\": 1658185117948, \"helpful_vote\": 0, \"verified_purchase\": true}\n",
      "\n",
      "{\"rating\": 1.0, \"title\": \"Didn\\u2019t work at all lenses loose/broken.\", \"text\": \"These didn\\u2019t work. Idk if they were damaged in shipping or what, but the lenses were loose or something. I could see half a lens with its edge in the frame and the rest was missing. It looked like it came loose or was broken.\", \"images\": [], \"asin\": \"B07N69T6TM\", \"parent_asin\": \"B07N69T6TM\", \"user_id\": \"AFKZENTNBQ7A7V7UXW5JJI6UGRYQ\", \"timestamp\": 1592678549731, \"helpful_vote\": 0, \"verified_purchase\": true}\n",
      "\n",
      "{\"rating\": 5.0, \"title\": \"Excellent!\", \"text\": \"I love these. They even come with a carry case and several sizes of ear bud inserts. Thank heaven!  I get ear pain from most, but the smallest buds fit great.  They also have a charger and all of it fits in the carry case. I just wish they came in more colors preferably something bright!  When I leave them on my nightstand it takes a while to figure out which of half a dozen black cables are the right ones. Even white would be ok as only my iPhone has a white cord.\", \"images\": [], \"asin\": \"B01G8JO5F2\", \"parent_asin\": \"B01G8JO5F2\", \"user_id\": \"AFKZENTNBQ7A7V7UXW5JJI6UGRYQ\", \"timestamp\": 1523093017534, \"helpful_vote\": 0, \"verified_purchase\": true}\n",
      "\n",
      "{\"rating\": 5.0, \"title\": \"Great laptop backpack!\", \"text\": \"I was searching for a sturdy backpack for school that would allow me to carry my laptop as well as schoolbooks. After reading many of the reviews of this bag, I placed my order and crossed my fingers. I shouldn't have worried; it's a great bag! Solidly built and traveler-friendly with a ton of compartments for every little thing one might need to stow away. While this backpack is slightly larger than your average backpack, it is comfortable to wear trekking cross campus. Also, another aspect of this bag that I love is that it stands upright. I know that sounds kinda crazy, but I find it annoying when your backpack flops over next to your desk and stuff kind of just falls out, or if you need to grab something quickly out of the bag you have to awkwardly curl your body around the side of your chair and then on the way up, smash your head against the desk. So yeah, lazy girl (points to self) loves the convenience of a bag that stands upright for easy grabbage. I plan to travel with this backpack when I fly home this Christmas instead of bringing a bulky tote bag on the plane.\", \"images\": [], \"asin\": \"B001OC5JKY\", \"parent_asin\": \"B001OC5JKY\", \"user_id\": \"AGGZ357AO26RQZVRLGU4D4N52DZQ\", \"timestamp\": 1290278495000, \"helpful_vote\": 18, \"verified_purchase\": true}\n",
      "\n",
      "{\"rating\": 5.0, \"title\": \"Best Headphones in the Fifties price range!\", \"text\": \"I've bought these headphones three times because I love them so much and overuse them and find ways to break the plug to where I can't use my warranty. The sound and bass are awesome. Hands down my favorite headphones in this price bracket.\", \"images\": [], \"asin\": \"B013J7WUGC\", \"parent_asin\": \"B07CJYMRWM\", \"user_id\": \"AG2L7H23R5LLKDKLBEF2Q3L2MVDA\", \"timestamp\": 1676601581238, \"helpful_vote\": 0, \"verified_purchase\": true}\n",
      "\n",
      "{\"rating\": 5.0, \"title\": \"Great Fan! I\\u2019m a FAN!\", \"text\": \"Light weight, quiet and totally awesome!!! It doesn\\u2019t come with a charging base, but the cord ends in a USB so you can plug it into a phone charger or portable charger. Anything with USB! It\\u2019s  so light and works great! It\\u2019s really quiet also!!!\", \"images\": [], \"asin\": \"B072DSHKCH\", \"parent_asin\": \"B07CML419K\", \"user_id\": \"AGCI7FAH4GL5FI65HYLKWTMFZ2CQ\", \"timestamp\": 1637522881041, \"helpful_vote\": 0, \"verified_purchase\": true}\n",
      "\n",
      "{\"rating\": 5.0, \"title\": \"solid sound for the price\", \"text\": \"Update 2-they sent a new warranty replacement. Good company.<br />Update-  was 5 star until they left headphone died after 1.5 years.  Will contact support.<br />old:<br />love them.  a bit noisy when you're jogging.  but solid for biking or chilling around the house\", \"images\": [], \"asin\": \"B07BHHB5RH\", \"parent_asin\": \"B07BHHB5RH\", \"user_id\": \"AGCI7FAH4GL5FI65HYLKWTMFZ2CQ\", \"timestamp\": 1565130879386, \"helpful_vote\": 0, \"verified_purchase\": true}\n",
      "\n",
      "{\"rating\": 5.0, \"title\": \"Love the headphones - great range\", \"text\": \"These are fantastic headphones and I love that i can have my cell phone plugged in at a central location in my house and walk around the house and still listen to music or my book. the range for me is about 30' and the headphones will disconnect if i go outside and then reconnect when i get close to my phone again. If my phone is in my pocket it will stay connected where ever i go. I love listening to things without being attached or tethered to my phone. It also makes it harder for my kids to pull the earphones out of my ears when there is no long cord attached to my phone. I love the 1 click pause feature so i can quickly pause what i am listening to talk to someone (i don't have to go find my phone and swipe and pause). They are comfortable and stay on really well for my ears. I have taken them running and they stayed on as well. I had an issue about 1 year after I bought the headphones and the customer service was wonderful and understanding. really great product and I will continue to purchase and recommend these to my friends.\", \"images\": [], \"asin\": \"B07BND376H\", \"parent_asin\": \"B09S6Y5BRG\", \"user_id\": \"AGCI7FAH4GL5FI65HYLKWTMFZ2CQ\", \"timestamp\": 1541356831659, \"helpful_vote\": 9, \"verified_purchase\": true}\n",
      "\n",
      "{\"rating\": 5.0, \"title\": \"Five Stars\", \"text\": \"pretty good for the price.\", \"images\": [], \"asin\": \"B002HWRZ2K\", \"parent_asin\": \"B01LW71IBJ\", \"user_id\": \"AGCI7FAH4GL5FI65HYLKWTMFZ2CQ\", \"timestamp\": 1456772571000, \"helpful_vote\": 0, \"verified_purchase\": true}\n",
      "\n",
      "{\"rating\": 5.0, \"title\": \"BUY THIS THANG\", \"text\": \"yes.. so good.  just buy it. my favorite feature is it auto connects and remembers my devices.\", \"images\": [], \"asin\": \"B00WK47VEW\", \"parent_asin\": \"B017T99JPG\", \"user_id\": \"AGCI7FAH4GL5FI65HYLKWTMFZ2CQ\", \"timestamp\": 1456772365000, \"helpful_vote\": 0, \"verified_purchase\": true}\n",
      "\n",
      "{\"rating\": 1.0, \"title\": \"Not sure why this has good reviews. My devices had a hard time connecting\", \"text\": \"This devices brought my wifi network to its knees. Not sure why this has good reviews. My devices had a hard time connecting. And even if my devices weren't connected it would hog a bunch of bandwidth and slow the whole network. I personally would just buy an AirPort Extreme. That solved range problems for me.\", \"images\": [], \"asin\": \"B00L0YLRUW\", \"parent_asin\": \"B00L0YLRUW\", \"user_id\": \"AGCI7FAH4GL5FI65HYLKWTMFZ2CQ\", \"timestamp\": 1439226089000, \"helpful_vote\": 0, \"verified_purchase\": true}\n",
      "\n",
      "{\"rating\": 3.0, \"title\": \"Works but corners crack\", \"text\": \"Works well, but the corner of the plastic cracked and is broken after a month or so. I think at least 2 of the plastic corners are cracked now. still works but wish it was higher quality.\", \"images\": [], \"asin\": \"B00CB7W1GG\", \"parent_asin\": \"B01HHURN3W\", \"user_id\": \"AGCI7FAH4GL5FI65HYLKWTMFZ2CQ\", \"timestamp\": 1408995743000, \"helpful_vote\": 0, \"verified_purchase\": true}\n",
      "\n",
      "{\"rating\": 5.0, \"title\": \"legit\", \"text\": \"legit.  love them.  I play with 1 in fully and 1 ear in 1/2.  really nice.  good product.  buy rechargeable batteries to go with them you'll save $$$\", \"images\": [], \"asin\": \"B004S2JX7W\", \"parent_asin\": \"B004S2JX7W\", \"user_id\": \"AGCI7FAH4GL5FI65HYLKWTMFZ2CQ\", \"timestamp\": 1384912340000, \"helpful_vote\": 1, \"verified_purchase\": true}\n",
      "\n",
      "{\"rating\": 3.0, \"title\": \"marginal sound quality\", \"text\": \"this really deserves 3 stars.  its not terrible, but its not great.  first is sound quality.  its not terrible.  2nd is limited distance.  its not terrible, but not great.<br /><br />I wish I had found a better product.\", \"images\": [], \"asin\": \"B0047T79VS\", \"parent_asin\": \"B0047T79VS\", \"user_id\": \"AGCI7FAH4GL5FI65HYLKWTMFZ2CQ\", \"timestamp\": 1344406083000, \"helpful_vote\": 0, \"verified_purchase\": true}\n",
      "\n",
      "{\"rating\": 5.0, \"title\": \"Five Stars\", \"text\": \"These work great for 8x10 frames.\", \"images\": [], \"asin\": \"B00IXNUDG2\", \"parent_asin\": \"B00IXNUDG2\", \"user_id\": \"AGXVBIUFLFGMVLATYXHJYL4A5Q7Q\", \"timestamp\": 1530556616080, \"helpful_vote\": 0, \"verified_purchase\": true}\n",
      "\n",
      "{\"rating\": 5.0, \"title\": \"... stronger WIFI to my upstairs level & it works great! Great value for the price\", \"text\": \"Bought to get stronger WIFI to my upstairs level & it works great! Great value for the price!\", \"images\": [], \"asin\": \"B00PVCXB4Y\", \"parent_asin\": \"B00PVCXB4Y\", \"user_id\": \"AGXVBIUFLFGMVLATYXHJYL4A5Q7Q\", \"timestamp\": 1530556481268, \"helpful_vote\": 0, \"verified_purchase\": true}\n",
      "\n",
      "{\"rating\": 5.0, \"title\": \"My kids love the wi fi streaming options\", \"text\": \"This is the 3rd Sony Blu Ray player I have bought & have been impressed with them all. My kids love the wi fi streaming options.\", \"images\": [], \"asin\": \"B00TYFCJ8S\", \"parent_asin\": \"B00X5C22SS\", \"user_id\": \"AGXVBIUFLFGMVLATYXHJYL4A5Q7Q\", \"timestamp\": 1461331182000, \"helpful_vote\": 0, \"verified_purchase\": true}\n",
      "\n",
      "{\"rating\": 5.0, \"title\": \"Love Otterbox cases\", \"text\": \"Love Otterbox cases. These have protected my 7 & 9 year old's IPods with lots of drops & wear & tear.\", \"images\": [], \"asin\": \"B007Y2YVHU\", \"parent_asin\": \"B0BKQZGST4\", \"user_id\": \"AGXVBIUFLFGMVLATYXHJYL4A5Q7Q\", \"timestamp\": 1428326275000, \"helpful_vote\": 0, \"verified_purchase\": true}\n",
      "\n",
      "{\"rating\": 5.0, \"title\": \"Five Stars\", \"text\": \"great product. high quality. fits perfectly.\", \"images\": [], \"asin\": \"B01LQF8B7G\", \"parent_asin\": \"B01LQF8B7G\", \"user_id\": \"AGKHLEW2SOWHNMFQIJGBECAF7INQ\", \"timestamp\": 1486320479000, \"helpful_vote\": 0, \"verified_purchase\": true}\n",
      "\n",
      "{\"rating\": 4.0, \"title\": \"Four Stars\", \"text\": \"Pretty cool!!!<br /><br />Thanks Amazon.\", \"images\": [], \"asin\": \"B00ZV9RDKK\", \"parent_asin\": \"B075X8471B\", \"user_id\": \"AEM663T6XHZFWLODF4US2RCOCUSA\", \"timestamp\": 1509491262120, \"helpful_vote\": 0, \"verified_purchase\": true}\n",
      "\n",
      "{\"rating\": 5.0, \"title\": \"NO GLUE JUST SCREWS\", \"text\": \"It came in quickly.  My son and grandson put it together for me in about 3 or 4 hr.  Time out for dinner and couple of beers.  Back to putting it to finish and test it out.  TV hung perfectly.  Fit right in the same corner a much smaller stand was in Clean looks with the wires now.\", \"images\": [], \"asin\": \"B08C78SQPM\", \"parent_asin\": \"B0B2DLVCF3\", \"user_id\": \"AFE337D2J37YRU5U6MVTVKNDKWDA\", \"timestamp\": 1643011912524, \"helpful_vote\": 0, \"verified_purchase\": true}\n",
      "\n",
      "{\"rating\": 5.0, \"title\": \"Good choice\", \"text\": \"Just a normal cable, works great for my external monitor!\", \"images\": [], \"asin\": \"B014I8UQJY\", \"parent_asin\": \"B0199HAOAU\", \"user_id\": \"AGBFYI2DDIKXC5Y4FARTYDTQBMFQ\", \"timestamp\": 1597714311689, \"helpful_vote\": 0, \"verified_purchase\": true}\n",
      "\n",
      "{\"rating\": 5.0, \"title\": \"Good alarm clock\", \"text\": \"I love this alarm. Bright, nice tone. The system is a little confusing but the manual helps a lot. Once you get the hang of it you'll love it. It's a nice gentle way to wake up.\", \"images\": [], \"asin\": \"B0093162RM\", \"parent_asin\": \"B0093162RM\", \"user_id\": \"AGBFYI2DDIKXC5Y4FARTYDTQBMFQ\", \"timestamp\": 1578593798362, \"helpful_vote\": 0, \"verified_purchase\": true}\n",
      "\n",
      "{\"rating\": 5.0, \"title\": \"Works great!\", \"text\": \"Works great with my pixel 2, I can charge quickly while listening to music.\", \"images\": [], \"asin\": \"B07FCZY1ZB\", \"parent_asin\": \"B07FCZY1ZB\", \"user_id\": \"AGBFYI2DDIKXC5Y4FARTYDTQBMFQ\", \"timestamp\": 1544200044036, \"helpful_vote\": 0, \"verified_purchase\": true}\n",
      "\n",
      "{\"rating\": 5.0, \"title\": \"Great for music/podcasts and receiving calls\", \"text\": \"Works flawlessly! Great for music/podcasts and receiving calls. The microphone isn't set up that close to my face but still captures my voice clearly.\", \"images\": [], \"asin\": \"B00RH29CJO\", \"parent_asin\": \"B00RH29CJO\", \"user_id\": \"AGBFYI2DDIKXC5Y4FARTYDTQBMFQ\", \"timestamp\": 1535118501776, \"helpful_vote\": 0, \"verified_purchase\": true}\n",
      "\n",
      "{\"rating\": 5.0, \"title\": \"Nice lightweight sleeve\", \"text\": \"I am not sure how much protection this provides - certainly less than a camera bag - but it will protect against scratches and small bumps. It's fairly thin. It fits my Canon EOS Rebel T6i w/ kit lens very well - like a glove.\", \"images\": [], \"asin\": \"B01976K5B6\", \"parent_asin\": \"B08P3VMW76\", \"user_id\": \"AGBFYI2DDIKXC5Y4FARTYDTQBMFQ\", \"timestamp\": 1483327495000, \"helpful_vote\": 0, \"verified_purchase\": true}\n",
      "\n",
      "{\"rating\": 5.0, \"title\": \"better than I expected!\", \"text\": \"Awesome product, fits well on my mac. Would definitely recommend.\", \"images\": [], \"asin\": \"B013KPXNSW\", \"parent_asin\": \"B013KPXNSW\", \"user_id\": \"AGBFYI2DDIKXC5Y4FARTYDTQBMFQ\", \"timestamp\": 1453856042000, \"helpful_vote\": 0, \"verified_purchase\": false}\n",
      "\n",
      "{\"rating\": 4.0, \"title\": \"Did anyone use this for a recessed TV mount?\", \"text\": \"I believe the electrical boxes are made especially to fit in a recessed (in wall) TV mount fixture. That is perhaps why it is made narrower. In the comments I am not seeing anyone using it for this. I would love to hear if someone used it placed inside a recessed mount and how it worked.\", \"images\": [], \"asin\": \"B001PL3XJS\", \"parent_asin\": \"B0862W5BQ8\", \"user_id\": \"AEVWAM3YWN5URJVJIZZ6XPD2MKIA\", \"timestamp\": 1484481615000, \"helpful_vote\": 0, \"verified_purchase\": false}\n",
      "\n",
      "{\"rating\": 5.0, \"title\": \"Don't know why I didn't get one of these years ...\", \"text\": \"Don't know why I didn't get one of these years ago..it's saving me $9 a month rental fee i was paying Comcast\", \"images\": [], \"asin\": \"B004XC6GJ0\", \"parent_asin\": \"B004XC6GJ0\", \"user_id\": \"AEVWAM3YWN5URJVJIZZ6XPD2MKIA\", \"timestamp\": 1409848855000, \"helpful_vote\": 0, \"verified_purchase\": true}\n",
      "\n",
      "{\"rating\": 5.0, \"title\": \"Great portable monitor\", \"text\": \"Worked great for a vacation monitor. Had no issues with my MacBook. Good resolution, no dead pixels. Very easy to carry around\", \"images\": [], \"asin\": \"B07V1SQ966\", \"parent_asin\": \"B0BNX9QVXZ\", \"user_id\": \"AFTC6ZR5IKNRDG5JCPVNVMU3XV2Q\", \"timestamp\": 1638832601151, \"helpful_vote\": 0, \"verified_purchase\": true}\n",
      "\n",
      "{\"rating\": 5.0, \"title\": \"All rounder!\", \"text\": \"This has been a great headset for video conferencing all day. Comfort is great, mic quality is great and when I do play music it sounds great too.\", \"images\": [], \"asin\": \"B07Q9MJKBV\", \"parent_asin\": \"B0BN534JBB\", \"user_id\": \"AFTC6ZR5IKNRDG5JCPVNVMU3XV2Q\", \"timestamp\": 1603918014826, \"helpful_vote\": 0, \"verified_purchase\": true}\n",
      "\n",
      "{\"rating\": 5.0, \"title\": \"Great, simple, strong\", \"text\": \"Can easily hold 2 pairs of headphones and looks great!\", \"images\": [], \"asin\": \"B07PQ334GJ\", \"parent_asin\": \"B08X4R1T16\", \"user_id\": \"AFTC6ZR5IKNRDG5JCPVNVMU3XV2Q\", \"timestamp\": 1601660312073, \"helpful_vote\": 0, \"verified_purchase\": true}\n",
      "\n",
      "{\"rating\": 5.0, \"title\": \"A great device to make any headphone wireless\", \"text\": \"Sound quality of my dt 990 much improved compared to just hooking up to my phone. Would recommend to everyone. Small and easy to use\", \"images\": [], \"asin\": \"B07ZK3M6XK\", \"parent_asin\": \"B08932J7NC\", \"user_id\": \"AFTC6ZR5IKNRDG5JCPVNVMU3XV2Q\", \"timestamp\": 1599158339350, \"helpful_vote\": 0, \"verified_purchase\": true}\n",
      "\n",
      "{\"rating\": 5.0, \"title\": \"Big hit at lunch\", \"text\": \"These are incredible value for the money. All of the included parts have worked for a few months and are still in great quality. We use them at lunch for an hour each day with smash.\", \"images\": [], \"asin\": \"B078LLS33F\", \"parent_asin\": \"B078LLS33F\", \"user_id\": \"AFTC6ZR5IKNRDG5JCPVNVMU3XV2Q\", \"timestamp\": 1570934951031, \"helpful_vote\": 0, \"verified_purchase\": true}\n",
      "\n",
      "{\"rating\": 5.0, \"title\": \"Easy and plentiful\", \"text\": \"Stick great to my desk and provide ample spaces for all of my cords. The color coding is more useful than I thought originally. Since each one has two spots, I had enough for my desk and bed night stand.\", \"images\": [], \"asin\": \"B00V3KM73E\", \"parent_asin\": \"B00V3KLZSW\", \"user_id\": \"AFTC6ZR5IKNRDG5JCPVNVMU3XV2Q\", \"timestamp\": 1464791980000, \"helpful_vote\": 0, \"verified_purchase\": true}\n",
      "\n",
      "{\"rating\": 5.0, \"title\": \"Great RAM\", \"text\": \"This pair is fantastic for the price I paid(just over 50$) . There are a little long and tall which forced me to move my two fans around them, but that is more case design flaw than anything. I haven't had any issues with them and have used PNY for a long time.\", \"images\": [], \"asin\": \"B012ASFKOU\", \"parent_asin\": \"B012ASFKOU\", \"user_id\": \"AFTC6ZR5IKNRDG5JCPVNVMU3XV2Q\", \"timestamp\": 1464791683000, \"helpful_vote\": 0, \"verified_purchase\": true}\n",
      "\n",
      "{\"rating\": 4.0, \"title\": \"good and cheap\", \"text\": \"Had for about a month now. Still running strong and keeping my twc ultimate internet on all 8 of my houses devices. Goes through three rooms and I'll lose just a small fraction of speed (10mbps loss for a ranch style house).\", \"images\": [], \"asin\": \"B001FWYGJS\", \"parent_asin\": \"B001FWYGJS\", \"user_id\": \"AFTC6ZR5IKNRDG5JCPVNVMU3XV2Q\", \"timestamp\": 1427592277000, \"helpful_vote\": 0, \"verified_purchase\": true}\n",
      "\n",
      "{\"rating\": 5.0, \"title\": \"Does what it is meant to do\", \"text\": \"Very easy to configure, fits my 11.6&#34; Alienware very well. I can focus air on my Gpu and WASD keys to prevent from getting hot. Easy recommendation to anyone who needs a cooler for intense applications. My WASD keys barely get hot and my Gpu runs much more stable.\", \"images\": [], \"asin\": \"B00CPZJP7M\", \"parent_asin\": \"B08YP2F6VG\", \"user_id\": \"AFTC6ZR5IKNRDG5JCPVNVMU3XV2Q\", \"timestamp\": 1382629272000, \"helpful_vote\": 4, \"verified_purchase\": true}\n",
      "\n",
      "{\"rating\": 5.0, \"title\": \"Works great with my Samsung Galaxy Pro S5e\", \"text\": \"Everything works great on the hub with my Samsung Galaxy Pro S5e.\", \"images\": [], \"asin\": \"B07TVSLDND\", \"parent_asin\": \"B0C8HDXFXN\", \"user_id\": \"AEAUZK2OLWXD75AWJOCCGGCL3H2A\", \"timestamp\": 1593484216259, \"helpful_vote\": 0, \"verified_purchase\": true}\n",
      "\n",
      "{\"rating\": 5.0, \"title\": \"At first seemed DOA.\", \"text\": \"Must visually confirm that connector is fully extended by looking at slide groove.  Mine seemed DOA until I realized that  it wasn't making electrical connection.\", \"images\": [], \"asin\": \"B00RBGYGPG\", \"parent_asin\": \"B00RBGYGPG\", \"user_id\": \"AEAUZK2OLWXD75AWJOCCGGCL3H2A\", \"timestamp\": 1443274800000, \"helpful_vote\": 0, \"verified_purchase\": true}\n",
      "\n",
      "{\"rating\": 5.0, \"title\": \"Protects my power supply from small screws\", \"text\": \"Any small screw dropped in my computer case seemed to end up inside the bottom mounted power supply.  This filter will keep them out.\", \"images\": [{\"small_image_url\": \"https://images-na.ssl-images-amazon.com/images/I/6196JJXVPVL._SL256_.jpg\", \"medium_image_url\": \"https://images-na.ssl-images-amazon.com/images/I/6196JJXVPVL._SL800_.jpg\", \"large_image_url\": \"https://images-na.ssl-images-amazon.com/images/I/6196JJXVPVL._SL1600_.jpg\", \"attachment_type\": \"IMAGE\"}], \"asin\": \"B007EVDJV0\", \"parent_asin\": \"B007EVDJV0\", \"user_id\": \"AEAUZK2OLWXD75AWJOCCGGCL3H2A\", \"timestamp\": 1342554164000, \"helpful_vote\": 1, \"verified_purchase\": true}\n",
      "\n",
      "{\"rating\": 5.0, \"title\": \"5 stars but be careful that you get what you paid for\", \"text\": \"Bought four of these to use in a RAID.  All four of the boxes had PN: 98D648 - 550 on the box.  When I installed one of the drives it was smaller than the others.  PN on smaller drive's label was 98J146 - 308 and it was called a Barracuda 7200.10.  Larger drives were Barracuda 7200.11 9BX154 - 303 on the drive label.  Returned it and will check the replacement when it arrives.<br /><br />7/3/08 Received replacement drive and it was Barracuda 7200.11 9BX154 - 303.\", \"images\": [], \"asin\": \"B000EY5F5C\", \"parent_asin\": \"B00KLZLBCK\", \"user_id\": \"AEAUZK2OLWXD75AWJOCCGGCL3H2A\", \"timestamp\": 1214848351000, \"helpful_vote\": 1, \"verified_purchase\": true}\n",
      "\n",
      "{\"rating\": 5.0, \"title\": \"Cute for photos!\", \"text\": \"Thin material but perfect to hang for a photo backdrop. Very happy!\", \"images\": [], \"asin\": \"B07RJHQSGB\", \"parent_asin\": \"B09NHSGWPD\", \"user_id\": \"AE74DYR3QUGVPZJ3P7RFWBGIX7XQ\", \"timestamp\": 1635870179357, \"helpful_vote\": 0, \"verified_purchase\": true}\n",
      "\n",
      "{\"rating\": 1.0, \"title\": \"Arrived damaged\", \"text\": \"Arrived damaged\", \"images\": [], \"asin\": \"B095KHWNLK\", \"parent_asin\": \"B095KHWNLK\", \"user_id\": \"AFQLNQNQYFWQZPJQZS6V3NZU4QBQ\", \"timestamp\": 1658263333664, \"helpful_vote\": 0, \"verified_purchase\": true}\n",
      "\n",
      "{\"rating\": 5.0, \"title\": \"Great\", \"text\": \"Fast charging\", \"images\": [], \"asin\": \"B07PGRR6QN\", \"parent_asin\": \"B08BRJ98H3\", \"user_id\": \"AFQLNQNQYFWQZPJQZS6V3NZU4QBQ\", \"timestamp\": 1606084429795, \"helpful_vote\": 0, \"verified_purchase\": true}\n",
      "\n",
      "{\"rating\": 5.0, \"title\": \"As good as advertised\", \"text\": \"This product is as good as advertised. The cost is attractive; considering you will likely replace them again in the future. I\\u2019ve attached a pic of the old and newly installed pads for comparison.\", \"images\": [{\"small_image_url\": \"https://m.media-amazon.com/images/I/81Nug5NTwhL._SL256_.jpg\", \"medium_image_url\": \"https://m.media-amazon.com/images/I/81Nug5NTwhL._SL800_.jpg\", \"large_image_url\": \"https://m.media-amazon.com/images/I/81Nug5NTwhL._SL1600_.jpg\", \"attachment_type\": \"IMAGE\"}], \"asin\": \"B07TZJ1CMC\", \"parent_asin\": \"B08912RRG5\", \"user_id\": \"AHITBJSS7KYUBVZPX7M2WJCOIVKQ\", \"timestamp\": 1653252147409, \"helpful_vote\": 0, \"verified_purchase\": true}\n",
      "\n",
      "{\"rating\": 5.0, \"title\": \"Good cord\", \"text\": \"Good cord. 15ft is exactly what I wanted.\", \"images\": [], \"asin\": \"B00DI89SLS\", \"parent_asin\": \"B07GVWH35S\", \"user_id\": \"AHITBJSS7KYUBVZPX7M2WJCOIVKQ\", \"timestamp\": 1560028052317, \"helpful_vote\": 0, \"verified_purchase\": true}\n",
      "\n",
      "{\"rating\": 5.0, \"title\": \"Great cover and protection\", \"text\": \"Fits my MacBook Air perfectly! Has a soft touch. Great product.\", \"images\": [], \"asin\": \"B06VTQK7CB\", \"parent_asin\": \"B06VTQK7CB\", \"user_id\": \"AHITBJSS7KYUBVZPX7M2WJCOIVKQ\", \"timestamp\": 1560014186774, \"helpful_vote\": 0, \"verified_purchase\": true}\n",
      "\n",
      "{\"rating\": 1.0, \"title\": \"Don\\u2019t buy this product\", \"text\": \"DO NOT BUY THIS PRODUCT!! The first time I zipped the first pouch, the zipper broke. I tried another one, same thing,  zipper broke on the first try. HORRIBLE!!!\", \"images\": [], \"asin\": \"B0776DSP7Y\", \"parent_asin\": \"B0776DSP7Y\", \"user_id\": \"AHITBJSS7KYUBVZPX7M2WJCOIVKQ\", \"timestamp\": 1526085167886, \"helpful_vote\": 1, \"verified_purchase\": true}\n",
      "\n",
      "{\"rating\": 2.0, \"title\": \"Disappointed\", \"text\": \"Not very accurate in tracking steps taken.  Wrist band started coming off after 3 months of use.\", \"images\": [], \"asin\": \"B00N2BVOUE\", \"parent_asin\": \"B00NWXM5U0\", \"user_id\": \"AHITBJSS7KYUBVZPX7M2WJCOIVKQ\", \"timestamp\": 1432345739000, \"helpful_vote\": 0, \"verified_purchase\": true}\n",
      "\n",
      "{\"rating\": 5.0, \"title\": \"Five Stars\", \"text\": \"Works great. Easy to install.\", \"images\": [], \"asin\": \"B00EVVGAFI\", \"parent_asin\": \"B01DDIAX1Q\", \"user_id\": \"AHITBJSS7KYUBVZPX7M2WJCOIVKQ\", \"timestamp\": 1432345612000, \"helpful_vote\": 0, \"verified_purchase\": true}\n",
      "\n",
      "{\"rating\": 2.0, \"title\": \"Very Disappointing\", \"text\": \"Very very slow processor. Disappointing.\", \"images\": [], \"asin\": \"B00L49X8E6\", \"parent_asin\": \"B00L49X8E6\", \"user_id\": \"AHITBJSS7KYUBVZPX7M2WJCOIVKQ\", \"timestamp\": 1432345403000, \"helpful_vote\": 0, \"verified_purchase\": true}\n",
      "\n",
      "{\"rating\": 5.0, \"title\": \"Great headsets\", \"text\": \"Great headsets. Comfortable. Great sound quality.\", \"images\": [], \"asin\": \"B005HS5MKS\", \"parent_asin\": \"B09HDZ8FQY\", \"user_id\": \"AHITBJSS7KYUBVZPX7M2WJCOIVKQ\", \"timestamp\": 1432344106000, \"helpful_vote\": 0, \"verified_purchase\": true}\n",
      "\n",
      "{\"rating\": 5.0, \"title\": \"Great Case\", \"text\": \"Great case. Fits both the iPad Air & Air 2. Comes with a removable inner lining. When removed it fits the iPad Air. Looks good. Bought it in December 2014, still in great shape.\", \"images\": [], \"asin\": \"B00PQBDQPO\", \"parent_asin\": \"B00PQBDQPO\", \"user_id\": \"AHITBJSS7KYUBVZPX7M2WJCOIVKQ\", \"timestamp\": 1432344054000, \"helpful_vote\": 0, \"verified_purchase\": true}\n",
      "\n",
      "{\"rating\": 5.0, \"title\": \"Great Product\", \"text\": \"AWESOME sound!  Easy to install. The wireless subwoofer makes it easy to place any where in the room.\", \"images\": [], \"asin\": \"B00CRF9V2O\", \"parent_asin\": \"B00CRF9V2O\", \"user_id\": \"AHITBJSS7KYUBVZPX7M2WJCOIVKQ\", \"timestamp\": 1432342639000, \"helpful_vote\": 0, \"verified_purchase\": true}\n",
      "\n",
      "{\"rating\": 5.0, \"title\": \"Great Product\", \"text\": \"Excellent sound. Easy to install.\", \"images\": [], \"asin\": \"B00BHC7ZTE\", \"parent_asin\": \"B00BHC7ZTE\", \"user_id\": \"AHITBJSS7KYUBVZPX7M2WJCOIVKQ\", \"timestamp\": 1432342265000, \"helpful_vote\": 0, \"verified_purchase\": true}\n",
      "\n",
      "{\"rating\": 4.0, \"title\": \"Worthy Purchase!\", \"text\": \"Arrived sooner than the original really long estimated date.  Packaged well.  Remote wall bracket included.  No ceiling or wall mounting hardware included for the screen.  Very quiet operation. Moves very slowly up/down, but no big problem as the projector is usually getting up to temperature.  High vinyl odor, but that's fading, since installed 4 days ago. Does hide-away nicely and seems unobtrusive.  Worthy purchase.\", \"images\": [], \"asin\": \"B00852JEPW\", \"parent_asin\": \"B00852JEPW\", \"user_id\": \"AHITBJSS7KYUBVZPX7M2WJCOIVKQ\", \"timestamp\": 1419885573000, \"helpful_vote\": 0, \"verified_purchase\": true}\n",
      "\n",
      "{\"rating\": 2.0, \"title\": \"This thing has a mind of its own\\u2026..\", \"text\": \"This cameras seems to focus on what \\u201cit\\u201d wants. I will try to capture and watch an area by moving the cameras visual area using the app but it will quickly return to another area. Not even the same area as was before I decided to look elsewhere. It tends to bounce anywhere it\\u2019s little heart desires causing me frustration and non use.\", \"images\": [], \"asin\": \"B07YB8HZ8T\", \"parent_asin\": \"B09ZTXZ1MQ\", \"user_id\": \"AERGOXGAFZ2J3ZMHXVLZQGTW36RA\", \"timestamp\": 1650083467057, \"helpful_vote\": 0, \"verified_purchase\": true}\n",
      "\n",
      "{\"rating\": 5.0, \"title\": \"Easy connect\", \"text\": \"A little crackly at times but not that noticeable. Just turn the volume up. Easy connect. Use everyday\", \"images\": [], \"asin\": \"B06XJ1YZSH\", \"parent_asin\": \"B09MYGF318\", \"user_id\": \"AHNCL7NLOKEPI7UADY4TIXN3UTFA\", \"timestamp\": 1614333940793, \"helpful_vote\": 0, \"verified_purchase\": true}\n",
      "\n",
      "{\"rating\": 1.0, \"title\": \"Junk\", \"text\": \"To me, this was a waste of money. Not useful on a plane or really anywhere. Too short, once bent, leaving no surface space so phone wants to fall off. Don\\u2019t buy it. Save your money.\", \"images\": [], \"asin\": \"B072MBPWMV\", \"parent_asin\": \"B07VV6TT69\", \"user_id\": \"AFEAJQIVVIZCTKQNNHD73H7VQSPQ\", \"timestamp\": 1588171605329, \"helpful_vote\": 0, \"verified_purchase\": true}\n",
      "\n",
      "{\"rating\": 5.0, \"title\": \"Good purchase\", \"text\": \"Works great. Son uses it to hold Beats and Jaybirds. Traveled well and protected items.\", \"images\": [], \"asin\": \"B01EMYUOLE\", \"parent_asin\": \"B07BRHB8C1\", \"user_id\": \"AFVNEEPDEIH5SPUN5BWC6NKL3WNQ\", \"timestamp\": 1580471673218, \"helpful_vote\": 0, \"verified_purchase\": true}\n",
      "\n",
      "{\"rating\": 5.0, \"title\": \"Happy with purchase\", \"text\": \"Works great. No complaints!\", \"images\": [], \"asin\": \"B0714NB5TL\", \"parent_asin\": \"B07Z6BPJXQ\", \"user_id\": \"AFVNEEPDEIH5SPUN5BWC6NKL3WNQ\", \"timestamp\": 1546821300925, \"helpful_vote\": 0, \"verified_purchase\": true}\n",
      "\n",
      "{\"rating\": 4.0, \"title\": \"Big,sturdy and easy zippers\", \"text\": \"My son likes it,holding up well considering how much weight he puts in it.So far so good!\", \"images\": [], \"asin\": \"B071ZYHCM6\", \"parent_asin\": \"B083YHS7SV\", \"user_id\": \"AFDERBL3G23J5U6HHQBAZLTREKOA\", \"timestamp\": 1647795494239, \"helpful_vote\": 0, \"verified_purchase\": true}\n",
      "\n",
      "{\"rating\": 5.0, \"title\": \"Five Stars\", \"text\": \"love them so much thank you\", \"images\": [], \"asin\": \"B002MAPSC6\", \"parent_asin\": \"B0046EDOWW\", \"user_id\": \"AHXSBZT52TCPZUBVCBRICTHWUCBA\", \"timestamp\": 1424355917000, \"helpful_vote\": 0, \"verified_purchase\": true}\n",
      "\n",
      "{\"rating\": 5.0, \"title\": \"Five Stars\", \"text\": \"awesome\", \"images\": [], \"asin\": \"B0045DT3A6\", \"parent_asin\": \"B0045DT3A6\", \"user_id\": \"AHXSBZT52TCPZUBVCBRICTHWUCBA\", \"timestamp\": 1424355889000, \"helpful_vote\": 0, \"verified_purchase\": true}\n",
      "\n",
      "{\"rating\": 5.0, \"title\": \"Great quality and fit!\", \"text\": \"Very sturdy and well made. My AirPods fit snugly into the case and the cases latching button is magnetic and closes easily and is very secure. The charging light is visible as there is an opening for it built into the case so you can see when it is light up red or green and the charging port is accessible so you don\\u2019t have to remove them to charge them. They clasp onto my purse sturdily and I have no worries about them becoming dislodged from my purse and getting lost. If you want to use a different clasp it\\u2019s interchangeable with one of your choosing of the same size. Great quality for a great price. HIGHLY RECOMMEND!!\", \"images\": [{\"small_image_url\": \"https://images-na.ssl-images-amazon.com/images/I/B1CQrIrEEVS._SL256_.jpg\", \"medium_image_url\": \"https://images-na.ssl-images-amazon.com/images/I/B1CQrIrEEVS._SL800_.jpg\", \"large_image_url\": \"https://images-na.ssl-images-amazon.com/images/I/B1CQrIrEEVS._SL1600_.jpg\", \"attachment_type\": \"IMAGE\"}, {\"small_image_url\": \"https://images-na.ssl-images-amazon.com/images/I/B1N782roHJS._SL256_.jpg\", \"medium_image_url\": \"https://images-na.ssl-images-amazon.com/images/I/B1N782roHJS._SL800_.jpg\", \"large_image_url\": \"https://images-na.ssl-images-amazon.com/images/I/B1N782roHJS._SL1600_.jpg\", \"attachment_type\": \"IMAGE\"}, {\"small_image_url\": \"https://images-na.ssl-images-amazon.com/images/I/C1IjjjNZs4S._SL256_.jpg\", \"medium_image_url\": \"https://images-na.ssl-images-amazon.com/images/I/C1IjjjNZs4S._SL800_.jpg\", \"large_image_url\": \"https://images-na.ssl-images-amazon.com/images/I/C1IjjjNZs4S._SL1600_.jpg\", \"attachment_type\": \"IMAGE\"}, {\"small_image_url\": \"https://images-na.ssl-images-amazon.com/images/I/C1Vr2t8auTS._SL256_.jpg\", \"medium_image_url\": \"https://images-na.ssl-images-amazon.com/images/I/C1Vr2t8auTS._SL800_.jpg\", \"large_image_url\": \"https://images-na.ssl-images-amazon.com/images/I/C1Vr2t8auTS._SL1600_.jpg\", \"attachment_type\": \"IMAGE\"}], \"asin\": \"B08215Z1M5\", \"parent_asin\": \"B09DSSQ52Q\", \"user_id\": \"AFEIN7QWSQ6EFW45LKD7ZOCSMLGQ\", \"timestamp\": 1619198055317, \"helpful_vote\": 7, \"verified_purchase\": true}\n",
      "\n",
      "{\"rating\": 3.0, \"title\": \"Decent, but the design is flawed.\", \"text\": \"Somewhat disappointed. Works as advertised except this desk is not wide enough and therefore your computer is not centered for typing. I\\u2019m order to do my homework I have to set it up as shown in my photo (move computer to center of desk instead of where it\\u2019s supposed to sit) which leaves little room for my mouse to be used. This is the only flaw I am seeing so far.\", \"images\": [{\"small_image_url\": \"https://images-na.ssl-images-amazon.com/images/I/71q+aIZ2OVL._SL256_.jpg\", \"medium_image_url\": \"https://images-na.ssl-images-amazon.com/images/I/71q+aIZ2OVL._SL800_.jpg\", \"large_image_url\": \"https://images-na.ssl-images-amazon.com/images/I/71q+aIZ2OVL._SL1600_.jpg\", \"attachment_type\": \"IMAGE\"}], \"asin\": \"B07H3PN7K3\", \"parent_asin\": \"B07H3PN7K3\", \"user_id\": \"AFEIN7QWSQ6EFW45LKD7ZOCSMLGQ\", \"timestamp\": 1597959924239, \"helpful_vote\": 0, \"verified_purchase\": true}\n",
      "\n",
      "{\"rating\": 5.0, \"title\": \"Five Stars\", \"text\": \"Gift\", \"images\": [], \"asin\": \"B0733GXPYZ\", \"parent_asin\": \"B0733GXPYZ\", \"user_id\": \"AHBHMMUTJ5W3SZUHVKUP35ZYKUHA\", \"timestamp\": 1523660960862, \"helpful_vote\": 0, \"verified_purchase\": true}\n",
      "\n",
      "{\"rating\": 2.0, \"title\": \"Flimsy stamd\", \"text\": \"The projection screen itself is not wrinkle free and the stand is super flimsy. I'm just going to end up using some heavy duty velcro strips to hang the screen without the stand.\", \"images\": [], \"asin\": \"B07TPLH5YK\", \"parent_asin\": \"B07TPLH5YK\", \"user_id\": \"AFJTRBXMURLHS5EGNXLUHDHIZRFQ\", \"timestamp\": 1622018763645, \"helpful_vote\": 0, \"verified_purchase\": true}\n",
      "\n",
      "{\"rating\": 2.0, \"title\": \"Manufacturers defect and terrible customer support.\", \"text\": \"Just brought this TV in March and the panel is screwed. Turns out it's a manufacturers defect. Trying to get this TV replaced or repaired has been HELL!  I had been calling support since March and finally got through at the end of July. I've been transferred to 3 different departments just to get the exchange finalized. No one has made any effort to contact me about when or how this exchange will take place. Terrible!\", \"images\": [], \"asin\": \"B07FPQ343D\", \"parent_asin\": \"B07FPQ343D\", \"user_id\": \"AFJTRBXMURLHS5EGNXLUHDHIZRFQ\", \"timestamp\": 1597775270949, \"helpful_vote\": 0, \"verified_purchase\": true}\n",
      "\n",
      "{\"rating\": 5.0, \"title\": \"Very nice! I love my new larger screen Kindle\", \"text\": \"Very nice!  I love my new larger screen Kindle.\", \"images\": [], \"asin\": \"B00VKIY9RG\", \"parent_asin\": \"B00VKIY9RG\", \"user_id\": \"AHSPLDNW5OOUK2PLH7GXLACFBZNQ\", \"timestamp\": 1449000623000, \"helpful_vote\": 2, \"verified_purchase\": true}\n",
      "\n",
      "{\"rating\": 5.0, \"title\": \"Love it! It fits my Chromebook perfectly\", \"text\": \"Love it!  It fits my Chromebook perfectly.\", \"images\": [], \"asin\": \"B00J39BYSG\", \"parent_asin\": \"B07BJ8KD6X\", \"user_id\": \"AHSPLDNW5OOUK2PLH7GXLACFBZNQ\", \"timestamp\": 1435699671000, \"helpful_vote\": 0, \"verified_purchase\": true}\n",
      "\n",
      "{\"rating\": 1.0, \"title\": \"Horrible. It did not amplify anything\", \"text\": \"Horrible.  It did not amplify anything.  All I heard was a buzzing sound.  I'm so disappointed.\", \"images\": [], \"asin\": \"B0061F6QUG\", \"parent_asin\": \"B0061F6QUG\", \"user_id\": \"AHSPLDNW5OOUK2PLH7GXLACFBZNQ\", \"timestamp\": 1421083734000, \"helpful_vote\": 0, \"verified_purchase\": false}\n",
      "\n",
      "{\"rating\": 5.0, \"title\": \"Great quality and more stations than bunny ears\", \"text\": \"I purchased this for my Nana who is 94 yrs old and doesn\\u2019t have cable. It was simple to set up (follow instructions on TV settings to setup) and my nana now has more stations and way better quality visually as well as for listening because the stations no longer go in and out! Definitely worth the money.\", \"images\": [], \"asin\": \"B09DRXBKVG\", \"parent_asin\": \"B09DRXBKVG\", \"user_id\": \"AHTTU2FL6FCNBBAESCJHOHHSSW7A\", \"timestamp\": 1633370907342, \"helpful_vote\": 4, \"verified_purchase\": true}\n",
      "\n",
      "{\"rating\": 5.0, \"title\": \"Excited to swim with these!!!\", \"text\": \"Pretty cool design...still figuring out how to get the mp3s added for swimming!\", \"images\": [], \"asin\": \"B09TB71VLY\", \"parent_asin\": \"B09TB71VLY\", \"user_id\": \"AGBUJDDLRJIUJFTKPABJT6CJTHRQ\", \"timestamp\": 1667533229459, \"helpful_vote\": 0, \"verified_purchase\": true}\n",
      "\n",
      "{\"rating\": 5.0, \"title\": \"Easy to install\", \"text\": \"I needed this for work and it was easy to install, I use it daily.  Have only had it a few weeks but so far, so good.  It comes with a long cord too which is a good feature.\", \"images\": [], \"asin\": \"B002N3MM6W\", \"parent_asin\": \"B002N3MM6W\", \"user_id\": \"AGXFEGMNVCSTSYYA5UWXDV7AFSXA\", \"timestamp\": 1589664572977, \"helpful_vote\": 0, \"verified_purchase\": true}\n",
      "\n",
      "{\"rating\": 5.0, \"title\": \"Recommended\", \"text\": \"Super happy and got it on promo! Would recommend\", \"images\": [], \"asin\": \"B01MZEEFNX\", \"parent_asin\": \"B07KTYJ769\", \"user_id\": \"AHZIJGKEWRTAEOZ673G5B3SNXEGQ\", \"timestamp\": 1602938037276, \"helpful_vote\": 0, \"verified_purchase\": true}\n",
      "\n",
      "{\"rating\": 5.0, \"title\": \"Dot\", \"text\": \"Love it\", \"images\": [], \"asin\": \"B07PGL2N7J\", \"parent_asin\": \"B07PGL2N7J\", \"user_id\": \"AHZIJGKEWRTAEOZ673G5B3SNXEGQ\", \"timestamp\": 1577750248406, \"helpful_vote\": 0, \"verified_purchase\": true}\n",
      "\n",
      "{\"rating\": 5.0, \"title\": \"Double Din Car Stereo Android 9.0 Quad Core 7 Inch HD\", \"text\": \"came as advertised; delivered before date-of-delivery; good value for money<br />radio standard, depending on your car, may need install kit for your car;<br />I needed kit for my 2013 Toyota . . .<br />suggest you measure area opening of dash where radio is to be mounted\", \"images\": [], \"asin\": \"B07J2GSF3S\", \"parent_asin\": \"B07J2GSF3S\", \"user_id\": \"AEFKF6R2GUSK2AWPSWRR4ZO36JVQ\", \"timestamp\": 1652912051169, \"helpful_vote\": 0, \"verified_purchase\": true}\n",
      "\n",
      "{\"rating\": 3.0, \"title\": \"Carxtc Double Din Install Car Stereo Dash Kit for a Aftermarket Radio\", \"text\": \"says \\\"it fits Aftermarket Radio Fits 2009-2013 Toyota Corolla\\\": my car is a 2013 Toyota Corolla, but it didn't work for me: side pieces did not bolt to my radio: I think it is because my radio mounting holes are not the same as the kit: my radio is one that the kit does not work with. . .<br />nice kit tho. . .\", \"images\": [], \"asin\": \"B07Z9QXZMW\", \"parent_asin\": \"B07Z9QXZMW\", \"user_id\": \"AEFKF6R2GUSK2AWPSWRR4ZO36JVQ\", \"timestamp\": 1609829129344, \"helpful_vote\": 1, \"verified_purchase\": true}\n",
      "\n",
      "{\"rating\": 4.0, \"title\": \"ASURION 3 Year Portable Electronic Accident Protection Plan with Tech Support  $20-29.99\", \"text\": \"nice to have an accident plan just in case of the unexpected . . .\", \"images\": [], \"asin\": \"B07Q585X37\", \"parent_asin\": \"B07Q585X37\", \"user_id\": \"AEFKF6R2GUSK2AWPSWRR4ZO36JVQ\", \"timestamp\": 1606976384165, \"helpful_vote\": 0, \"verified_purchase\": true}\n",
      "\n",
      "{\"rating\": 4.0, \"title\": \"ASURION 2 Year Portable Electronic Accident Protection Plan with Tech Support $150-174.99\", \"text\": \"good to have security just in case: not expecting any trouble tho. . .\", \"images\": [], \"asin\": \"B07P97SHQP\", \"parent_asin\": \"B07P97SHQP\", \"user_id\": \"AEFKF6R2GUSK2AWPSWRR4ZO36JVQ\", \"timestamp\": 1606976242921, \"helpful_vote\": 0, \"verified_purchase\": true}\n",
      "\n",
      "{\"rating\": 5.0, \"title\": \"TOTO A6 Double Din Android Car Navigation Stereo with Dual Bluetooth - Standard A6Y2710SB\", \"text\": \"excellent radio: even tho I worked at an auto repair shop, installation was easy even for a novice user:<br />customer service is awesome: I had not registered my radio yet and they replied to my question within a<br />week or so . . . .<br />sorry no picture, because I'm waiting on a radio dash install kit for aftermarket radio: right now there is a gap on the sides, but that does not bother me nor does it affect the operation of the unit. . .<br />there are several models of the A6; depending on what options you're looking for, one of the A6s will have it<br />I recommend purchasing this radio . . .\", \"images\": [], \"asin\": \"B07B3TX6MF\", \"parent_asin\": \"B07B3TX6MF\", \"user_id\": \"AEFKF6R2GUSK2AWPSWRR4ZO36JVQ\", \"timestamp\": 1606976120998, \"helpful_vote\": 1, \"verified_purchase\": true}\n",
      "\n",
      "{\"rating\": 4.0, \"title\": \"Double Din Car Stereo GPS Navigation for Car 6.2 Inch Touch Screen\", \"text\": \"this item was gift; friend likes it so far; still testing. . . . .likes the knob controls . . . .\", \"images\": [], \"asin\": \"B07WPY2W4Y\", \"parent_asin\": \"B07WPY2W4Y\", \"user_id\": \"AEFKF6R2GUSK2AWPSWRR4ZO36JVQ\", \"timestamp\": 1602739379388, \"helpful_vote\": 0, \"verified_purchase\": true}\n",
      "\n",
      "{\"rating\": 4.0, \"title\": \"Dual Electronics XDVD276BT 6.2\\\" LCD Touch Screen Double Din\", \"text\": \"easy install. . . . all options worked. . . .<br />just screen is a little dark. . . even more when lights are turned on . . . . .<br /><br />I would recommend buying this unit\", \"images\": [], \"asin\": \"B083Z3QCY6\", \"parent_asin\": \"B083Z3QCY6\", \"user_id\": \"AEFKF6R2GUSK2AWPSWRR4ZO36JVQ\", \"timestamp\": 1601415558295, \"helpful_vote\": 2, \"verified_purchase\": true}\n",
      "\n",
      "{\"rating\": 4.0, \"title\": \"good product at a decent price\", \"text\": \"a nice set of assortment screws for computer . . .\", \"images\": [], \"asin\": \"B07F71KFMQ\", \"parent_asin\": \"B07F71KFMQ\", \"user_id\": \"AEFKF6R2GUSK2AWPSWRR4ZO36JVQ\", \"timestamp\": 1571208636737, \"helpful_vote\": 0, \"verified_purchase\": true}\n",
      "\n",
      "{\"rating\": 4.0, \"title\": \"assemble as instructed\", \"text\": \"this was a gift / my friend says he liked it / it was what he thought it was / he likes the idea of open computer . . .\", \"images\": [], \"asin\": \"B07547WSQQ\", \"parent_asin\": \"B07547WSQQ\", \"user_id\": \"AEFKF6R2GUSK2AWPSWRR4ZO36JVQ\", \"timestamp\": 1571208521372, \"helpful_vote\": 0, \"verified_purchase\": true}\n",
      "\n",
      "{\"rating\": 4.0, \"title\": \"use as intended\", \"text\": \"looks like original / wouldn't tell the difference if it didn't say replacement . . .\", \"images\": [], \"asin\": \"B07P7KG4TJ\", \"parent_asin\": \"B07P7KG4TJ\", \"user_id\": \"AEFKF6R2GUSK2AWPSWRR4ZO36JVQ\", \"timestamp\": 1571208205557, \"helpful_vote\": 0, \"verified_purchase\": true}\n",
      "\n",
      "{\"rating\": 4.0, \"title\": \"good product at a decent price\", \"text\": \"haven't used any yet. . . .needed some extra cables when I'm ready to install more SSD's. . .\", \"images\": [], \"asin\": \"B01LYC6A8M\", \"parent_asin\": \"B01LYC6A8M\", \"user_id\": \"AEFKF6R2GUSK2AWPSWRR4ZO36JVQ\", \"timestamp\": 1560379116204, \"helpful_vote\": 0, \"verified_purchase\": true}\n",
      "\n",
      "{\"rating\": 5.0, \"title\": \"good product at a decent price\", \"text\": \"perfect fit in 3.5 slot. . .the dual holder allows to install extra SSD any time. . . or you can go with a HDD for more storage space\", \"images\": [], \"asin\": \"B016498CK0\", \"parent_asin\": \"B0B2Y5WYRG\", \"user_id\": \"AEFKF6R2GUSK2AWPSWRR4ZO36JVQ\", \"timestamp\": 1560378947332, \"helpful_vote\": 0, \"verified_purchase\": true}\n",
      "\n",
      "{\"rating\": 5.0, \"title\": \"good product at a decent price\", \"text\": \"easy install in my HP computer, perfect fit/ no problems with clean install win 10/very satisfied. . .\", \"images\": [], \"asin\": \"B0781Z7Y3S\", \"parent_asin\": \"B08KG14KCT\", \"user_id\": \"AEFKF6R2GUSK2AWPSWRR4ZO36JVQ\", \"timestamp\": 1560378722775, \"helpful_vote\": 0, \"verified_purchase\": true}\n",
      "\n",
      "{\"rating\": 5.0, \"title\": \"good product at a decent price\", \"text\": \"using this addlink in a desktop and my laptop / easy install. . . perfect fits. . .did help increase speed of my computers. . .\", \"images\": [], \"asin\": \"B0791DC3PW\", \"parent_asin\": \"B09FF1RNDT\", \"user_id\": \"AEFKF6R2GUSK2AWPSWRR4ZO36JVQ\", \"timestamp\": 1560378510311, \"helpful_vote\": 0, \"verified_purchase\": true}\n",
      "\n",
      "{\"rating\": 3.0, \"title\": \"supernight bluetooth keyboard\", \"text\": \"this was a gift. . . he said he liked it. . . . .that's all the info I have on this item. . :(\", \"images\": [], \"asin\": \"B00FGI4C14\", \"parent_asin\": \"B00FGI4C14\", \"user_id\": \"AEFKF6R2GUSK2AWPSWRR4ZO36JVQ\", \"timestamp\": 1556496563960, \"helpful_vote\": 0, \"verified_purchase\": true}\n",
      "\n",
      "{\"rating\": 3.0, \"title\": \"Dual dash cam\", \"text\": \"wife wasn't satisfied with overall operation. . . .I liked it tho, but had to put it back in the box\", \"images\": [], \"asin\": \"B07B4BF3KT\", \"parent_asin\": \"B07B4BF3KT\", \"user_id\": \"AEFKF6R2GUSK2AWPSWRR4ZO36JVQ\", \"timestamp\": 1556496350059, \"helpful_vote\": 0, \"verified_purchase\": true}\n",
      "\n",
      "{\"rating\": 5.0, \"title\": \"Wavlink\", \"text\": \"used once to test it out. . . . .worked great. . . I liked it. . .\", \"images\": [], \"asin\": \"B07C9RSZFM\", \"parent_asin\": \"B08XBLP2V8\", \"user_id\": \"AEFKF6R2GUSK2AWPSWRR4ZO36JVQ\", \"timestamp\": 1556495697617, \"helpful_vote\": 0, \"verified_purchase\": true}\n",
      "\n",
      "{\"rating\": 5.0, \"title\": \"16g cork usb\", \"text\": \"it worked fine / great conversation piece too!\", \"images\": [], \"asin\": \"B018S7DPU8\", \"parent_asin\": \"B018S7DPU8\", \"user_id\": \"AEFKF6R2GUSK2AWPSWRR4ZO36JVQ\", \"timestamp\": 1538613893334, \"helpful_vote\": 0, \"verified_purchase\": true}\n",
      "\n",
      "{\"rating\": 5.0, \"title\": \"Five Stars\", \"text\": \"perfect item for a novices user as I am. . .\", \"images\": [], \"asin\": \"B00MYU0E0K\", \"parent_asin\": \"B00MYU0E0K\", \"user_id\": \"AEFKF6R2GUSK2AWPSWRR4ZO36JVQ\", \"timestamp\": 1533024545470, \"helpful_vote\": 0, \"verified_purchase\": true}\n",
      "\n",
      "{\"rating\": 5.0, \"title\": \"Five Stars\", \"text\": \"Great hard drive for the price! Installed with no issues in wife's Dell computer: She's very satisfied:\", \"images\": [], \"asin\": \"B000Q85WOK\", \"parent_asin\": \"B000Q85WOK\", \"user_id\": \"AEFKF6R2GUSK2AWPSWRR4ZO36JVQ\", \"timestamp\": 1532072088895, \"helpful_vote\": 0, \"verified_purchase\": true}\n",
      "\n",
      "{\"rating\": 5.0, \"title\": \"Five Stars\", \"text\": \"Great little device!\", \"images\": [], \"asin\": \"B01KWY71BO\", \"parent_asin\": \"B01KWY71BO\", \"user_id\": \"AEFKF6R2GUSK2AWPSWRR4ZO36JVQ\", \"timestamp\": 1532071758130, \"helpful_vote\": 0, \"verified_purchase\": true}\n",
      "\n",
      "{\"rating\": 4.0, \"title\": \"Four Stars\", \"text\": \"Good warranty!\", \"images\": [], \"asin\": \"B008I64LC6\", \"parent_asin\": \"B008I64LC6\", \"user_id\": \"AEFKF6R2GUSK2AWPSWRR4ZO36JVQ\", \"timestamp\": 1532071574087, \"helpful_vote\": 0, \"verified_purchase\": true}\n",
      "\n",
      "{\"rating\": 5.0, \"title\": \"Glad I browsed through Amazon and found it\", \"text\": \"Works perfectly: Glad I browsed through Amazon and found it:\", \"images\": [], \"asin\": \"B079Y46M3N\", \"parent_asin\": \"B079Y46M3N\", \"user_id\": \"AEFKF6R2GUSK2AWPSWRR4ZO36JVQ\", \"timestamp\": 1532071498050, \"helpful_vote\": 0, \"verified_purchase\": true}\n",
      "\n",
      "{\"rating\": 3.0, \"title\": \"Three Stars\", \"text\": \"It looked okay, but the camera was faulty: had to return item :(\", \"images\": [], \"asin\": \"B01MZ45YUU\", \"parent_asin\": \"B01MZ45YUU\", \"user_id\": \"AEFKF6R2GUSK2AWPSWRR4ZO36JVQ\", \"timestamp\": 1532071361162, \"helpful_vote\": 0, \"verified_purchase\": true}\n",
      "\n",
      "{\"rating\": 5.0, \"title\": \"Five Stars\", \"text\": \"Great camera! i am really pleased: Just what I was looking for. . .\", \"images\": [], \"asin\": \"B074V4CWFD\", \"parent_asin\": \"B074V4CWFD\", \"user_id\": \"AEFKF6R2GUSK2AWPSWRR4ZO36JVQ\", \"timestamp\": 1532071264670, \"helpful_vote\": 0, \"verified_purchase\": true}\n",
      "\n",
      "{\"rating\": 3.0, \"title\": \"Three Stars\", \"text\": \"good to know I have if needed. . .\", \"images\": [], \"asin\": \"B0083J8DFY\", \"parent_asin\": \"B0083J8DFY\", \"user_id\": \"AEFKF6R2GUSK2AWPSWRR4ZO36JVQ\", \"timestamp\": 1474373146000, \"helpful_vote\": 0, \"verified_purchase\": true}\n",
      "\n",
      "{\"rating\": 5.0, \"title\": \"Five Stars\", \"text\": \"good wiring kit; everything we needed to install amp and subs\", \"images\": [], \"asin\": \"B000FKP7TY\", \"parent_asin\": \"B09N7SXX1X\", \"user_id\": \"AEFKF6R2GUSK2AWPSWRR4ZO36JVQ\", \"timestamp\": 1474373024000, \"helpful_vote\": 0, \"verified_purchase\": true}\n",
      "\n",
      "{\"rating\": 5.0, \"title\": \"Five Stars\", \"text\": \"perfect fit. . . this shade of blue matches the lavender tablet\", \"images\": [], \"asin\": \"B00X4XEBTQ\", \"parent_asin\": \"B00X4XEBTQ\", \"user_id\": \"AEFKF6R2GUSK2AWPSWRR4ZO36JVQ\", \"timestamp\": 1474372166000, \"helpful_vote\": 0, \"verified_purchase\": false}\n",
      "\n",
      "{\"rating\": 4.0, \"title\": \"GOOD ITEM.\", \"text\": \"WORKS AS PROMISED. . .GOOD ITEM. . .\", \"images\": [], \"asin\": \"B001CJOLBW\", \"parent_asin\": \"B001CJOLBW\", \"user_id\": \"AEFKF6R2GUSK2AWPSWRR4ZO36JVQ\", \"timestamp\": 1414899483000, \"helpful_vote\": 0, \"verified_purchase\": true}{\"rating\": 5.0, \"title\": \"Good product\", \"text\": \"Works well\", \"images\": [], \"asin\": \"B07CZFGLXK\", \"parent_asin\": \"B07CZFGLXK\", \"user_id\": \"AGT4J3BRD7TNN4XP5ELL3SQAY5EQ\", \"timestamp\": 1562702397040, \"helpful_vote\": 0, \"verified_purchase\": true}\n"
     ]
    },
    {
     "ename": "JSONDecodeError",
     "evalue": "Extra data: line 1 column 269 (char 268)",
     "output_type": "error",
     "traceback": [
      "\u001B[0;31m---------------------------------------------------------------------------\u001B[0m",
      "\u001B[0;31mJSONDecodeError\u001B[0m                           Traceback (most recent call last)",
      "Cell \u001B[0;32mIn[16], line 5\u001B[0m\n\u001B[1;32m      3\u001B[0m \u001B[38;5;28;01mfor\u001B[39;00m line \u001B[38;5;129;01min\u001B[39;00m f:\n\u001B[1;32m      4\u001B[0m     \u001B[38;5;28mprint\u001B[39m(line)\n\u001B[0;32m----> 5\u001B[0m     data\u001B[38;5;241m.\u001B[39mappend(\u001B[43mjson\u001B[49m\u001B[38;5;241;43m.\u001B[39;49m\u001B[43mloads\u001B[49m\u001B[43m(\u001B[49m\u001B[43mline\u001B[49m\u001B[43m)\u001B[49m)\n",
      "File \u001B[0;32m/Library/Frameworks/Python.framework/Versions/3.12/lib/python3.12/json/__init__.py:346\u001B[0m, in \u001B[0;36mloads\u001B[0;34m(s, cls, object_hook, parse_float, parse_int, parse_constant, object_pairs_hook, **kw)\u001B[0m\n\u001B[1;32m    341\u001B[0m     s \u001B[38;5;241m=\u001B[39m s\u001B[38;5;241m.\u001B[39mdecode(detect_encoding(s), \u001B[38;5;124m'\u001B[39m\u001B[38;5;124msurrogatepass\u001B[39m\u001B[38;5;124m'\u001B[39m)\n\u001B[1;32m    343\u001B[0m \u001B[38;5;28;01mif\u001B[39;00m (\u001B[38;5;28mcls\u001B[39m \u001B[38;5;129;01mis\u001B[39;00m \u001B[38;5;28;01mNone\u001B[39;00m \u001B[38;5;129;01mand\u001B[39;00m object_hook \u001B[38;5;129;01mis\u001B[39;00m \u001B[38;5;28;01mNone\u001B[39;00m \u001B[38;5;129;01mand\u001B[39;00m\n\u001B[1;32m    344\u001B[0m         parse_int \u001B[38;5;129;01mis\u001B[39;00m \u001B[38;5;28;01mNone\u001B[39;00m \u001B[38;5;129;01mand\u001B[39;00m parse_float \u001B[38;5;129;01mis\u001B[39;00m \u001B[38;5;28;01mNone\u001B[39;00m \u001B[38;5;129;01mand\u001B[39;00m\n\u001B[1;32m    345\u001B[0m         parse_constant \u001B[38;5;129;01mis\u001B[39;00m \u001B[38;5;28;01mNone\u001B[39;00m \u001B[38;5;129;01mand\u001B[39;00m object_pairs_hook \u001B[38;5;129;01mis\u001B[39;00m \u001B[38;5;28;01mNone\u001B[39;00m \u001B[38;5;129;01mand\u001B[39;00m \u001B[38;5;129;01mnot\u001B[39;00m kw):\n\u001B[0;32m--> 346\u001B[0m     \u001B[38;5;28;01mreturn\u001B[39;00m \u001B[43m_default_decoder\u001B[49m\u001B[38;5;241;43m.\u001B[39;49m\u001B[43mdecode\u001B[49m\u001B[43m(\u001B[49m\u001B[43ms\u001B[49m\u001B[43m)\u001B[49m\n\u001B[1;32m    347\u001B[0m \u001B[38;5;28;01mif\u001B[39;00m \u001B[38;5;28mcls\u001B[39m \u001B[38;5;129;01mis\u001B[39;00m \u001B[38;5;28;01mNone\u001B[39;00m:\n\u001B[1;32m    348\u001B[0m     \u001B[38;5;28mcls\u001B[39m \u001B[38;5;241m=\u001B[39m JSONDecoder\n",
      "File \u001B[0;32m/Library/Frameworks/Python.framework/Versions/3.12/lib/python3.12/json/decoder.py:340\u001B[0m, in \u001B[0;36mJSONDecoder.decode\u001B[0;34m(self, s, _w)\u001B[0m\n\u001B[1;32m    338\u001B[0m end \u001B[38;5;241m=\u001B[39m _w(s, end)\u001B[38;5;241m.\u001B[39mend()\n\u001B[1;32m    339\u001B[0m \u001B[38;5;28;01mif\u001B[39;00m end \u001B[38;5;241m!=\u001B[39m \u001B[38;5;28mlen\u001B[39m(s):\n\u001B[0;32m--> 340\u001B[0m     \u001B[38;5;28;01mraise\u001B[39;00m JSONDecodeError(\u001B[38;5;124m\"\u001B[39m\u001B[38;5;124mExtra data\u001B[39m\u001B[38;5;124m\"\u001B[39m, s, end)\n\u001B[1;32m    341\u001B[0m \u001B[38;5;28;01mreturn\u001B[39;00m obj\n",
      "\u001B[0;31mJSONDecodeError\u001B[0m: Extra data: line 1 column 269 (char 268)"
     ]
    }
   ],
   "source": [
    "data = []\n",
    "with open('/Users/sanamoin/Documents/sites/gadgets/recommendation_engine/data/raw/amazon_2023/Electronics2.jsonl', 'r') as f:\n",
    "    for line in f:\n",
    "        print(line)\n",
    "        data.append(json.loads(line))"
   ],
   "metadata": {
    "collapsed": false,
    "ExecuteTime": {
     "end_time": "2025-04-01T15:09:25.239340Z",
     "start_time": "2025-04-01T15:09:25.222749Z"
    }
   },
   "id": "e6edf82387cff487"
  },
  {
   "cell_type": "code",
   "execution_count": 18,
   "outputs": [
    {
     "data": {
      "text/plain": "106"
     },
     "execution_count": 18,
     "metadata": {},
     "output_type": "execute_result"
    }
   ],
   "source": [
    "len(data)"
   ],
   "metadata": {
    "collapsed": false,
    "ExecuteTime": {
     "end_time": "2025-04-01T15:09:38.944202Z",
     "start_time": "2025-04-01T15:09:38.938607Z"
    }
   },
   "id": "6d0e02650d629eec"
  },
  {
   "cell_type": "code",
   "execution_count": 20,
   "outputs": [
    {
     "data": {
      "text/plain": "   rating                                        title  \\\n0     3.0            Smells like gasoline! Going back!   \n1     1.0      Didn’t work at all lenses loose/broken.   \n2     5.0                                   Excellent!   \n3     5.0                       Great laptop backpack!   \n4     5.0  Best Headphones in the Fifties price range!   \n\n                                                text  \\\n0  First & most offensive: they reek of gasoline ...   \n1  These didn’t work. Idk if they were damaged in...   \n2  I love these. They even come with a carry case...   \n3  I was searching for a sturdy backpack for scho...   \n4  I've bought these headphones three times becau...   \n\n                                              images        asin parent_asin  \\\n0  [{'small_image_url': 'https://m.media-amazon.c...  B083NRGZMM  B083NRGZMM   \n1                                                 []  B07N69T6TM  B07N69T6TM   \n2                                                 []  B01G8JO5F2  B01G8JO5F2   \n3                                                 []  B001OC5JKY  B001OC5JKY   \n4                                                 []  B013J7WUGC  B07CJYMRWM   \n\n                        user_id      timestamp  helpful_vote  \\\n0  AFKZENTNBQ7A7V7UXW5JJI6UGRYQ  1658185117948             0   \n1  AFKZENTNBQ7A7V7UXW5JJI6UGRYQ  1592678549731             0   \n2  AFKZENTNBQ7A7V7UXW5JJI6UGRYQ  1523093017534             0   \n3  AGGZ357AO26RQZVRLGU4D4N52DZQ  1290278495000            18   \n4  AG2L7H23R5LLKDKLBEF2Q3L2MVDA  1676601581238             0   \n\n   verified_purchase  \n0               True  \n1               True  \n2               True  \n3               True  \n4               True  ",
      "text/html": "<div>\n<style scoped>\n    .dataframe tbody tr th:only-of-type {\n        vertical-align: middle;\n    }\n\n    .dataframe tbody tr th {\n        vertical-align: top;\n    }\n\n    .dataframe thead th {\n        text-align: right;\n    }\n</style>\n<table border=\"1\" class=\"dataframe\">\n  <thead>\n    <tr style=\"text-align: right;\">\n      <th></th>\n      <th>rating</th>\n      <th>title</th>\n      <th>text</th>\n      <th>images</th>\n      <th>asin</th>\n      <th>parent_asin</th>\n      <th>user_id</th>\n      <th>timestamp</th>\n      <th>helpful_vote</th>\n      <th>verified_purchase</th>\n    </tr>\n  </thead>\n  <tbody>\n    <tr>\n      <th>0</th>\n      <td>3.0</td>\n      <td>Smells like gasoline! Going back!</td>\n      <td>First &amp; most offensive: they reek of gasoline ...</td>\n      <td>[{'small_image_url': 'https://m.media-amazon.c...</td>\n      <td>B083NRGZMM</td>\n      <td>B083NRGZMM</td>\n      <td>AFKZENTNBQ7A7V7UXW5JJI6UGRYQ</td>\n      <td>1658185117948</td>\n      <td>0</td>\n      <td>True</td>\n    </tr>\n    <tr>\n      <th>1</th>\n      <td>1.0</td>\n      <td>Didn’t work at all lenses loose/broken.</td>\n      <td>These didn’t work. Idk if they were damaged in...</td>\n      <td>[]</td>\n      <td>B07N69T6TM</td>\n      <td>B07N69T6TM</td>\n      <td>AFKZENTNBQ7A7V7UXW5JJI6UGRYQ</td>\n      <td>1592678549731</td>\n      <td>0</td>\n      <td>True</td>\n    </tr>\n    <tr>\n      <th>2</th>\n      <td>5.0</td>\n      <td>Excellent!</td>\n      <td>I love these. They even come with a carry case...</td>\n      <td>[]</td>\n      <td>B01G8JO5F2</td>\n      <td>B01G8JO5F2</td>\n      <td>AFKZENTNBQ7A7V7UXW5JJI6UGRYQ</td>\n      <td>1523093017534</td>\n      <td>0</td>\n      <td>True</td>\n    </tr>\n    <tr>\n      <th>3</th>\n      <td>5.0</td>\n      <td>Great laptop backpack!</td>\n      <td>I was searching for a sturdy backpack for scho...</td>\n      <td>[]</td>\n      <td>B001OC5JKY</td>\n      <td>B001OC5JKY</td>\n      <td>AGGZ357AO26RQZVRLGU4D4N52DZQ</td>\n      <td>1290278495000</td>\n      <td>18</td>\n      <td>True</td>\n    </tr>\n    <tr>\n      <th>4</th>\n      <td>5.0</td>\n      <td>Best Headphones in the Fifties price range!</td>\n      <td>I've bought these headphones three times becau...</td>\n      <td>[]</td>\n      <td>B013J7WUGC</td>\n      <td>B07CJYMRWM</td>\n      <td>AG2L7H23R5LLKDKLBEF2Q3L2MVDA</td>\n      <td>1676601581238</td>\n      <td>0</td>\n      <td>True</td>\n    </tr>\n  </tbody>\n</table>\n</div>"
     },
     "execution_count": 20,
     "metadata": {},
     "output_type": "execute_result"
    }
   ],
   "source": [
    "df_elec_raw = pd.DataFrame(data)\n",
    "df_elec_raw.head()"
   ],
   "metadata": {
    "collapsed": false,
    "ExecuteTime": {
     "end_time": "2025-04-01T15:10:08.962145Z",
     "start_time": "2025-04-01T15:10:08.941785Z"
    }
   },
   "id": "2234cd451da419f7"
  },
  {
   "cell_type": "code",
   "execution_count": 25,
   "outputs": [],
   "source": [
    "df_elec_raw['title_len'] = df_elec_raw['title'].apply(len)\n",
    "df_elec_raw['text_len'] = df_elec_raw['text'].apply(len)"
   ],
   "metadata": {
    "collapsed": false,
    "ExecuteTime": {
     "end_time": "2025-04-01T15:14:55.187064Z",
     "start_time": "2025-04-01T15:14:55.180307Z"
    }
   },
   "id": "969628f69b8bd687"
  },
  {
   "cell_type": "code",
   "execution_count": 26,
   "outputs": [
    {
     "data": {
      "text/plain": "           rating     timestamp  helpful_vote   title_len     text_len\ncount  106.000000  1.060000e+02    106.000000  106.000000   106.000000\nmean     4.330189  1.528875e+12      0.490566   25.726415   171.603774\nstd      1.168815  8.921128e+10      2.125784   19.478209   215.974940\nmin      1.000000  1.214848e+12      0.000000    3.000000     4.000000\n25%      4.000000  1.456772e+12      0.000000   11.000000    57.750000\n50%      5.000000  1.542778e+12      0.000000   19.500000   101.000000\n75%      5.000000  1.598859e+12      0.000000   33.000000   201.250000\nmax      5.000000  1.676602e+12     18.000000   89.000000  1433.000000",
      "text/html": "<div>\n<style scoped>\n    .dataframe tbody tr th:only-of-type {\n        vertical-align: middle;\n    }\n\n    .dataframe tbody tr th {\n        vertical-align: top;\n    }\n\n    .dataframe thead th {\n        text-align: right;\n    }\n</style>\n<table border=\"1\" class=\"dataframe\">\n  <thead>\n    <tr style=\"text-align: right;\">\n      <th></th>\n      <th>rating</th>\n      <th>timestamp</th>\n      <th>helpful_vote</th>\n      <th>title_len</th>\n      <th>text_len</th>\n    </tr>\n  </thead>\n  <tbody>\n    <tr>\n      <th>count</th>\n      <td>106.000000</td>\n      <td>1.060000e+02</td>\n      <td>106.000000</td>\n      <td>106.000000</td>\n      <td>106.000000</td>\n    </tr>\n    <tr>\n      <th>mean</th>\n      <td>4.330189</td>\n      <td>1.528875e+12</td>\n      <td>0.490566</td>\n      <td>25.726415</td>\n      <td>171.603774</td>\n    </tr>\n    <tr>\n      <th>std</th>\n      <td>1.168815</td>\n      <td>8.921128e+10</td>\n      <td>2.125784</td>\n      <td>19.478209</td>\n      <td>215.974940</td>\n    </tr>\n    <tr>\n      <th>min</th>\n      <td>1.000000</td>\n      <td>1.214848e+12</td>\n      <td>0.000000</td>\n      <td>3.000000</td>\n      <td>4.000000</td>\n    </tr>\n    <tr>\n      <th>25%</th>\n      <td>4.000000</td>\n      <td>1.456772e+12</td>\n      <td>0.000000</td>\n      <td>11.000000</td>\n      <td>57.750000</td>\n    </tr>\n    <tr>\n      <th>50%</th>\n      <td>5.000000</td>\n      <td>1.542778e+12</td>\n      <td>0.000000</td>\n      <td>19.500000</td>\n      <td>101.000000</td>\n    </tr>\n    <tr>\n      <th>75%</th>\n      <td>5.000000</td>\n      <td>1.598859e+12</td>\n      <td>0.000000</td>\n      <td>33.000000</td>\n      <td>201.250000</td>\n    </tr>\n    <tr>\n      <th>max</th>\n      <td>5.000000</td>\n      <td>1.676602e+12</td>\n      <td>18.000000</td>\n      <td>89.000000</td>\n      <td>1433.000000</td>\n    </tr>\n  </tbody>\n</table>\n</div>"
     },
     "execution_count": 26,
     "metadata": {},
     "output_type": "execute_result"
    }
   ],
   "source": [
    "df_elec_raw.describe()"
   ],
   "metadata": {
    "collapsed": false,
    "ExecuteTime": {
     "end_time": "2025-04-01T15:14:55.331070Z",
     "start_time": "2025-04-01T15:14:55.323224Z"
    }
   },
   "id": "77451181ef685a22"
  },
  {
   "cell_type": "code",
   "execution_count": 27,
   "outputs": [],
   "source": [
    "df_elec_raw['title_word_len'] = df_elec_raw['title'].apply(lambda x: len(x.split()))\n",
    "df_elec_raw['text_word_len'] = df_elec_raw['text'].apply(lambda x: len(x.split()))"
   ],
   "metadata": {
    "collapsed": false,
    "ExecuteTime": {
     "end_time": "2025-04-01T15:14:55.522604Z",
     "start_time": "2025-04-01T15:14:55.518029Z"
    }
   },
   "id": "e8f05667bd1c756b"
  },
  {
   "cell_type": "code",
   "execution_count": 28,
   "outputs": [
    {
     "data": {
      "text/plain": "           rating     timestamp  helpful_vote   title_len     text_len  \\\ncount  106.000000  1.060000e+02    106.000000  106.000000   106.000000   \nmean     4.330189  1.528875e+12      0.490566   25.726415   171.603774   \nstd      1.168815  8.921128e+10      2.125784   19.478209   215.974940   \nmin      1.000000  1.214848e+12      0.000000    3.000000     4.000000   \n25%      4.000000  1.456772e+12      0.000000   11.000000    57.750000   \n50%      5.000000  1.542778e+12      0.000000   19.500000   101.000000   \n75%      5.000000  1.598859e+12      0.000000   33.000000   201.250000   \nmax      5.000000  1.676602e+12     18.000000   89.000000  1433.000000   \n\n       title_word_len  text_word_len  \ncount      106.000000     106.000000  \nmean         4.537736      32.509434  \nstd          3.386738      41.189746  \nmin          1.000000       1.000000  \n25%          2.000000      10.250000  \n50%          3.000000      20.000000  \n75%          6.000000      38.750000  \nmax         16.000000     275.000000  ",
      "text/html": "<div>\n<style scoped>\n    .dataframe tbody tr th:only-of-type {\n        vertical-align: middle;\n    }\n\n    .dataframe tbody tr th {\n        vertical-align: top;\n    }\n\n    .dataframe thead th {\n        text-align: right;\n    }\n</style>\n<table border=\"1\" class=\"dataframe\">\n  <thead>\n    <tr style=\"text-align: right;\">\n      <th></th>\n      <th>rating</th>\n      <th>timestamp</th>\n      <th>helpful_vote</th>\n      <th>title_len</th>\n      <th>text_len</th>\n      <th>title_word_len</th>\n      <th>text_word_len</th>\n    </tr>\n  </thead>\n  <tbody>\n    <tr>\n      <th>count</th>\n      <td>106.000000</td>\n      <td>1.060000e+02</td>\n      <td>106.000000</td>\n      <td>106.000000</td>\n      <td>106.000000</td>\n      <td>106.000000</td>\n      <td>106.000000</td>\n    </tr>\n    <tr>\n      <th>mean</th>\n      <td>4.330189</td>\n      <td>1.528875e+12</td>\n      <td>0.490566</td>\n      <td>25.726415</td>\n      <td>171.603774</td>\n      <td>4.537736</td>\n      <td>32.509434</td>\n    </tr>\n    <tr>\n      <th>std</th>\n      <td>1.168815</td>\n      <td>8.921128e+10</td>\n      <td>2.125784</td>\n      <td>19.478209</td>\n      <td>215.974940</td>\n      <td>3.386738</td>\n      <td>41.189746</td>\n    </tr>\n    <tr>\n      <th>min</th>\n      <td>1.000000</td>\n      <td>1.214848e+12</td>\n      <td>0.000000</td>\n      <td>3.000000</td>\n      <td>4.000000</td>\n      <td>1.000000</td>\n      <td>1.000000</td>\n    </tr>\n    <tr>\n      <th>25%</th>\n      <td>4.000000</td>\n      <td>1.456772e+12</td>\n      <td>0.000000</td>\n      <td>11.000000</td>\n      <td>57.750000</td>\n      <td>2.000000</td>\n      <td>10.250000</td>\n    </tr>\n    <tr>\n      <th>50%</th>\n      <td>5.000000</td>\n      <td>1.542778e+12</td>\n      <td>0.000000</td>\n      <td>19.500000</td>\n      <td>101.000000</td>\n      <td>3.000000</td>\n      <td>20.000000</td>\n    </tr>\n    <tr>\n      <th>75%</th>\n      <td>5.000000</td>\n      <td>1.598859e+12</td>\n      <td>0.000000</td>\n      <td>33.000000</td>\n      <td>201.250000</td>\n      <td>6.000000</td>\n      <td>38.750000</td>\n    </tr>\n    <tr>\n      <th>max</th>\n      <td>5.000000</td>\n      <td>1.676602e+12</td>\n      <td>18.000000</td>\n      <td>89.000000</td>\n      <td>1433.000000</td>\n      <td>16.000000</td>\n      <td>275.000000</td>\n    </tr>\n  </tbody>\n</table>\n</div>"
     },
     "execution_count": 28,
     "metadata": {},
     "output_type": "execute_result"
    }
   ],
   "source": [
    "df_elec_raw.describe()"
   ],
   "metadata": {
    "collapsed": false,
    "ExecuteTime": {
     "end_time": "2025-04-01T15:15:01.294942Z",
     "start_time": "2025-04-01T15:15:01.288416Z"
    }
   },
   "id": "a18e37395ba95bce"
  },
  {
   "cell_type": "code",
   "execution_count": 30,
   "outputs": [
    {
     "data": {
      "text/plain": "81"
     },
     "execution_count": 30,
     "metadata": {},
     "output_type": "execute_result"
    }
   ],
   "source": [
    "unique_chars = set(''.join(df_elec_raw['text']))\n",
    "len(unique_chars)"
   ],
   "metadata": {
    "collapsed": false,
    "ExecuteTime": {
     "end_time": "2025-04-01T15:16:00.540943Z",
     "start_time": "2025-04-01T15:16:00.535437Z"
    }
   },
   "id": "f5521346a3ef1fc9"
  },
  {
   "cell_type": "code",
   "execution_count": 31,
   "outputs": [
    {
     "data": {
      "text/plain": "{' ',\n '!',\n '\"',\n '#',\n '$',\n '%',\n '&',\n \"'\",\n '(',\n ')',\n ',',\n '-',\n '.',\n '/',\n '0',\n '1',\n '2',\n '3',\n '4',\n '5',\n '6',\n '7',\n '8',\n '9',\n ':',\n ';',\n '<',\n '>',\n 'A',\n 'B',\n 'C',\n 'D',\n 'E',\n 'F',\n 'G',\n 'H',\n 'I',\n 'J',\n 'K',\n 'L',\n 'M',\n 'N',\n 'O',\n 'P',\n 'R',\n 'S',\n 'T',\n 'U',\n 'V',\n 'W',\n 'X',\n 'Y',\n 'a',\n 'b',\n 'c',\n 'd',\n 'e',\n 'f',\n 'g',\n 'h',\n 'i',\n 'j',\n 'k',\n 'l',\n 'm',\n 'n',\n 'o',\n 'p',\n 'q',\n 'r',\n 's',\n 't',\n 'u',\n 'v',\n 'w',\n 'x',\n 'y',\n 'z',\n '’',\n '“',\n '”'}"
     },
     "execution_count": 31,
     "metadata": {},
     "output_type": "execute_result"
    }
   ],
   "source": [
    "unique_chars"
   ],
   "metadata": {
    "collapsed": false,
    "ExecuteTime": {
     "end_time": "2025-04-01T15:16:07.719658Z",
     "start_time": "2025-04-01T15:16:07.713849Z"
    }
   },
   "id": "d65eb939d757e265"
  },
  {
   "cell_type": "code",
   "execution_count": 54,
   "outputs": [
    {
     "data": {
      "text/plain": "['good and cheap',\n 'TOTO A6 Double Din Android Car Navigation Stereo with Dual Bluetooth - Standard A6Y2710SB',\n 'Excellent!',\n 'Love it! It fits my Chromebook perfectly',\n 'Great headsets',\n 'Easy to install',\n 'use as intended',\n 'Very nice! I love my new larger screen Kindle',\n 'BUY THIS THANG',\n 'Five Stars',\n '... stronger WIFI to my upstairs level & it works great! Great value for the price',\n 'Protects my power supply from small screws',\n 'Excited to swim with these!!!',\n 'Did anyone use this for a recessed TV mount?',\n 'This thing has a mind of its own…..',\n 'Three Stars',\n 'Does what it is meant to do',\n 'All rounder!',\n 'ASURION 3 Year Portable Electronic Accident Protection Plan with Tech Support  $20-29.99',\n 'Flimsy stamd',\n 'Five Stars',\n 'Good alarm clock',\n 'Five Stars',\n 'solid sound for the price',\n 'Best Headphones in the Fifties price range!',\n 'Don’t buy this product',\n 'Horrible. It did not amplify anything',\n 'Not sure why this has good reviews. My devices had a hard time connecting',\n 'Disappointed',\n 'Works great!',\n 'Five Stars',\n 'Five Stars',\n 'good product at a decent price',\n 'Great Product',\n 'Great quality and fit!',\n 'Wavlink',\n 'supernight bluetooth keyboard',\n 'Happy with purchase',\n 'Easy connect',\n 'Double Din Car Stereo Android 9.0 Quad Core 7 Inch HD',\n \"Don't know why I didn't get one of these years ...\",\n 'good product at a decent price',\n 'ASURION 2 Year Portable Electronic Accident Protection Plan with Tech Support $150-174.99',\n 'Dual dash cam',\n 'good product at a decent price',\n 'Manufacturers defect and terrible customer support.',\n 'Great cover and protection',\n 'Five Stars',\n 'Double Din Car Stereo GPS Navigation for Car 6.2 Inch Touch Screen',\n 'Cute for photos!']"
     },
     "execution_count": 54,
     "metadata": {},
     "output_type": "execute_result"
    }
   ],
   "source": [
    "sample_titles = df_elec_raw[\"title\"].dropna().sample(50).tolist()\n",
    "sample_titles\n"
   ],
   "metadata": {
    "collapsed": false,
    "ExecuteTime": {
     "end_time": "2025-04-01T20:16:08.413836Z",
     "start_time": "2025-04-01T20:16:08.405354Z"
    }
   },
   "id": "a003e020757e4c3f"
  },
  {
   "cell_type": "code",
   "execution_count": 52,
   "outputs": [
    {
     "data": {
      "text/plain": "['This product is as good as advertised. The cost is attractive; considering you will likely replace them again in the future. I’ve attached a pic of the old and newly installed pads for comparison.',\n 'Good cord. 15ft is exactly what I wanted.',\n \"this was a gift. . . he said he liked it. . . . .that's all the info I have on this item. . :(\",\n 'Just a normal cable, works great for my external monitor!',\n \"haven't used any yet. . . .needed some extra cables when I'm ready to install more SSD's. . .\",\n 'Gift',\n 'Everything works great on the hub with my Samsung Galaxy Pro S5e.',\n 'Very very slow processor. Disappointing.',\n \"Horrible.  It did not amplify anything.  All I heard was a buzzing sound.  I'm so disappointed.\",\n 'AWESOME sound!  Easy to install. The wireless subwoofer makes it easy to place any where in the room.',\n 'Super happy and got it on promo! Would recommend',\n 'Worked great for a vacation monitor. Had no issues with my MacBook. Good resolution, no dead pixels. Very easy to carry around',\n \"Great hard drive for the price! Installed with no issues in wife's Dell computer: She's very satisfied:\",\n \"This devices brought my wifi network to its knees. Not sure why this has good reviews. My devices had a hard time connecting. And even if my devices weren't connected it would hog a bunch of bandwidth and slow the whole network. I personally would just buy an AirPort Extreme. That solved range problems for me.\",\n 'Great case. Fits both the iPad Air & Air 2. Comes with a removable inner lining. When removed it fits the iPad Air. Looks good. Bought it in December 2014, still in great shape.',\n \"Had for about a month now. Still running strong and keeping my twc ultimate internet on all 8 of my houses devices. Goes through three rooms and I'll lose just a small fraction of speed (10mbps loss for a ranch style house).\",\n 'A little crackly at times but not that noticeable. Just turn the volume up. Easy connect. Use everyday',\n 'this item was gift; friend likes it so far; still testing. . . . .likes the knob controls . . . .',\n 'Any small screw dropped in my computer case seemed to end up inside the bottom mounted power supply.  This filter will keep them out.',\n 'Pretty cool design...still figuring out how to get the mp3s added for swimming!',\n \"excellent radio: even tho I worked at an auto repair shop, installation was easy even for a novice user:<br />customer service is awesome: I had not registered my radio yet and they replied to my question within a<br />week or so . . . .<br />sorry no picture, because I'm waiting on a radio dash install kit for aftermarket radio: right now there is a gap on the sides, but that does not bother me nor does it affect the operation of the unit. . .<br />there are several models of the A6; depending on what options you're looking for, one of the A6s will have it<br />I recommend purchasing this radio . . .\",\n \"Works flawlessly! Great for music/podcasts and receiving calls. The microphone isn't set up that close to my face but still captures my voice clearly.\",\n 'Love it!  It fits my Chromebook perfectly.',\n 'Excellent sound. Easy to install.',\n \"I am not sure how much protection this provides - certainly less than a camera bag - but it will protect against scratches and small bumps. It's fairly thin. It fits my Canon EOS Rebel T6i w/ kit lens very well - like a glove.\",\n 'First & most offensive: they reek of gasoline so if you are sensitive/allergic to petroleum products like I am you will want to pass on these.  Second: the phone adapter is useless as-is. Mine was not drilled far enough to be able to tighten it into place for my iPhone 12 max. It just slipped & slid all over. Stupid me putting the adapter together first without picking up the binoculars to smell them bc I wasted 15 minutes trying to figure out how to put the adapter together bc it does not come with instructions!  I had to come back here to the website which was a total pain. Third: the tripod is also useless. I would not trust the iOS to hold my $1600 phone nor even a Mattel Barbie for that matter. It’s just inefficient for the job imo.  Third: in order to try to give an honest review I did don gloves & eyewear to check the binoculars out.  They seemed average except for mine seemed to be missing about 10% of the film costing in the lower edge of one of the lenses which would have ruined every video & photograph unplanned to take so for me these are a very huge hard pass.  I expect the accessories that come with the main product to be as good or better than the product I’m buying. Otherwise I would just buy the product as a stand alone.  Sadly, I found a decent pair of binoculars last year with a much better quality phone adapter & tripod, but they had a defect too.  Guess I’m going to have to pay more.  Ugh.',\n 'Can easily hold 2 pairs of headphones and looks great!',\n 'Very sturdy and well made. My AirPods fit snugly into the case and the cases latching button is magnetic and closes easily and is very secure. The charging light is visible as there is an opening for it built into the case so you can see when it is light up red or green and the charging port is accessible so you don’t have to remove them to charge them. They clasp onto my purse sturdily and I have no worries about them becoming dislodged from my purse and getting lost. If you want to use a different clasp it’s interchangeable with one of your choosing of the same size. Great quality for a great price. HIGHLY RECOMMEND!!',\n 'pretty good for the price.',\n 'used once to test it out. . . . .worked great. . . I liked it. . .',\n \"wife wasn't satisfied with overall operation. . . .I liked it tho, but had to put it back in the box\",\n 'this was a gift / my friend says he liked it / it was what he thought it was / he likes the idea of open computer . . .',\n \"Must visually confirm that connector is fully extended by looking at slide groove.  Mine seemed DOA until I realized that  it wasn't making electrical connection.\",\n 'awesome',\n 'It came in quickly.  My son and grandson put it together for me in about 3 or 4 hr.  Time out for dinner and couple of beers.  Back to putting it to finish and test it out.  TV hung perfectly.  Fit right in the same corner a much smaller stand was in Clean looks with the wires now.',\n 'Works perfectly: Glad I browsed through Amazon and found it:',\n 'came as advertised; delivered before date-of-delivery; good value for money<br />radio standard, depending on your car, may need install kit for your car;<br />I needed kit for my 2013 Toyota . . .<br />suggest you measure area opening of dash where radio is to be mounted',\n 'good wiring kit; everything we needed to install amp and subs',\n 'Good warranty!',\n 'good to have security just in case: not expecting any trouble tho. . .',\n 'easy install. . . . all options worked. . . .<br />just screen is a little dark. . . even more when lights are turned on . . . . .<br /><br />I would recommend buying this unit',\n 'easy install in my HP computer, perfect fit/ no problems with clean install win 10/very satisfied. . .',\n 'Great little device!',\n \"I was searching for a sturdy backpack for school that would allow me to carry my laptop as well as schoolbooks. After reading many of the reviews of this bag, I placed my order and crossed my fingers. I shouldn't have worried; it's a great bag! Solidly built and traveler-friendly with a ton of compartments for every little thing one might need to stow away. While this backpack is slightly larger than your average backpack, it is comfortable to wear trekking cross campus. Also, another aspect of this bag that I love is that it stands upright. I know that sounds kinda crazy, but I find it annoying when your backpack flops over next to your desk and stuff kind of just falls out, or if you need to grab something quickly out of the bag you have to awkwardly curl your body around the side of your chair and then on the way up, smash your head against the desk. So yeah, lazy girl (points to self) loves the convenience of a bag that stands upright for easy grabbage. I plan to travel with this backpack when I fly home this Christmas instead of bringing a bulky tote bag on the plane.\",\n 'It looked okay, but the camera was faulty: had to return item :(',\n \"Bought four of these to use in a RAID.  All four of the boxes had PN: 98D648 - 550 on the box.  When I installed one of the drives it was smaller than the others.  PN on smaller drive's label was 98J146 - 308 and it was called a Barracuda 7200.10.  Larger drives were Barracuda 7200.11 9BX154 - 303 on the drive label.  Returned it and will check the replacement when it arrives.<br /><br />7/3/08 Received replacement drive and it was Barracuda 7200.11 9BX154 - 303.\",\n 'These didn’t work. Idk if they were damaged in shipping or what, but the lenses were loose or something. I could see half a lens with its edge in the frame and the rest was missing. It looked like it came loose or was broken.',\n 'love them so much thank you',\n \"looks like original / wouldn't tell the difference if it didn't say replacement . . .\",\n 'it worked fine / great conversation piece too!']"
     },
     "execution_count": 52,
     "metadata": {},
     "output_type": "execute_result"
    }
   ],
   "source": [
    "sample_description = df_elec_raw[\"text\"].dropna().sample(50).tolist()\n",
    "sample_description\n"
   ],
   "metadata": {
    "collapsed": false,
    "ExecuteTime": {
     "end_time": "2025-04-01T20:15:34.806332Z",
     "start_time": "2025-04-01T20:15:34.796068Z"
    }
   },
   "id": "bdf05e9ce22f42d5"
  },
  {
   "cell_type": "code",
   "execution_count": 47,
   "outputs": [],
   "source": [
    "import re\n",
    "import html"
   ],
   "metadata": {
    "collapsed": false,
    "ExecuteTime": {
     "end_time": "2025-04-01T20:14:08.814713Z",
     "start_time": "2025-04-01T20:14:08.806562Z"
    }
   },
   "id": "c48a0110ad203225"
  },
  {
   "cell_type": "code",
   "execution_count": 50,
   "outputs": [],
   "source": [
    "def clean_text(text_to_clean):\n",
    "    cleaned_text = html.unescape(text_to_clean)\n",
    "\n",
    "    # Remove HTML tags\n",
    "    cleaned_text = re.sub(r'<[^>]+>', ' ', cleaned_text) # html\n",
    "\n",
    "    # Remove newlines\n",
    "    cleaned_text = re.sub(r'[\\n\\r]+', ' ', cleaned_text) #newlines\n",
    "\n",
    "    # Collapse multiple dots\n",
    "    cleaned_text = re.sub(r'(\\.\\s*){2,}', '. ', cleaned_text) #multiple dots\n",
    "\n",
    "    # Remove extra quotes\n",
    "    cleaned_text = re.sub(r'[\"]+', '', cleaned_text) #extra quotes\n",
    "\n",
    "    # punc spacing\n",
    "    cleaned_text = re.sub(r'\\s+([?.!,])', r'\\1', cleaned_text)\n",
    "    cleaned_text = re.sub(r'([?.!,])([^\\s])', r'\\1 \\2', cleaned_text)\n",
    "\n",
    "    cleaned_text = re.sub(r'\\s{2,}', ' ', cleaned_text) # double spaces\n",
    "\n",
    "    cleaned_text = cleaned_text.strip()\n",
    "\n",
    "    # Ensure ends with period\n",
    "    if not cleaned_text.endswith('.'):\n",
    "        cleaned_text += '.'\n",
    "    return cleaned_text"
   ],
   "metadata": {
    "collapsed": false,
    "ExecuteTime": {
     "end_time": "2025-04-01T20:15:01.269253Z",
     "start_time": "2025-04-01T20:15:01.221003Z"
    }
   },
   "id": "fa68efd3e100df96"
  },
  {
   "cell_type": "code",
   "execution_count": 53,
   "outputs": [
    {
     "data": {
      "text/plain": "\"This product is as good as advertised. The cost is attractive; considering you will likely replace them again in the future. I’ve attached a pic of the old and newly installed pads for comparison. Good cord. 15ft is exactly what I wanted. this was a gift. he said he liked it. that's all the info I have on this item. :( Just a normal cable, works great for my external monitor! haven't used any yet. needed some extra cables when I'm ready to install more SSD's. Gift Everything works great on the hub with my Samsung Galaxy Pro S5e. Very very slow processor. Disappointing. Horrible. It did not amplify anything. All I heard was a buzzing sound. I'm so disappointed. AWESOME sound! Easy to install. The wireless subwoofer makes it easy to place any where in the room. Super happy and got it on promo! Would recommend Worked great for a vacation monitor. Had no issues with my MacBook. Good resolution, no dead pixels. Very easy to carry around Great hard drive for the price! Installed with no issues in wife's Dell computer: She's very satisfied: This devices brought my wifi network to its knees. Not sure why this has good reviews. My devices had a hard time connecting. And even if my devices weren't connected it would hog a bunch of bandwidth and slow the whole network. I personally would just buy an AirPort Extreme. That solved range problems for me. Great case. Fits both the iPad Air & Air 2. Comes with a removable inner lining. When removed it fits the iPad Air. Looks good. Bought it in December 2014, still in great shape. Had for about a month now. Still running strong and keeping my twc ultimate internet on all 8 of my houses devices. Goes through three rooms and I'll lose just a small fraction of speed (10mbps loss for a ranch style house). A little crackly at times but not that noticeable. Just turn the volume up. Easy connect. Use everyday this item was gift; friend likes it so far; still testing. likes the knob controls. Any small screw dropped in my computer case seemed to end up inside the bottom mounted power supply. This filter will keep them out. Pretty cool design. still figuring out how to get the mp3s added for swimming! excellent radio: even tho I worked at an auto repair shop, installation was easy even for a novice user: customer service is awesome: I had not registered my radio yet and they replied to my question within a week or so. sorry no picture, because I'm waiting on a radio dash install kit for aftermarket radio: right now there is a gap on the sides, but that does not bother me nor does it affect the operation of the unit. there are several models of the A6; depending on what options you're looking for, one of the A6s will have it I recommend purchasing this radio. Works flawlessly! Great for music/podcasts and receiving calls. The microphone isn't set up that close to my face but still captures my voice clearly. Love it! It fits my Chromebook perfectly. Excellent sound. Easy to install. I am not sure how much protection this provides - certainly less than a camera bag - but it will protect against scratches and small bumps. It's fairly thin. It fits my Canon EOS Rebel T6i w/ kit lens very well - like a glove. First & most offensive: they reek of gasoline so if you are sensitive/allergic to petroleum products like I am you will want to pass on these. Second: the phone adapter is useless as-is. Mine was not drilled far enough to be able to tighten it into place for my iPhone 12 max. It just slipped & slid all over. Stupid me putting the adapter together first without picking up the binoculars to smell them bc I wasted 15 minutes trying to figure out how to put the adapter together bc it does not come with instructions! I had to come back here to the website which was a total pain. Third: the tripod is also useless. I would not trust the iOS to hold my $1600 phone nor even a Mattel Barbie for that matter. It’s just inefficient for the job imo. Third: in order to try to give an honest review I did don gloves & eyewear to check the binoculars out. They seemed average except for mine seemed to be missing about 10% of the film costing in the lower edge of one of the lenses which would have ruined every video & photograph unplanned to take so for me these are a very huge hard pass. I expect the accessories that come with the main product to be as good or better than the product I’m buying. Otherwise I would just buy the product as a stand alone. Sadly, I found a decent pair of binoculars last year with a much better quality phone adapter & tripod, but they had a defect too. Guess I’m going to have to pay more. Ugh. Can easily hold 2 pairs of headphones and looks great! Very sturdy and well made. My AirPods fit snugly into the case and the cases latching button is magnetic and closes easily and is very secure. The charging light is visible as there is an opening for it built into the case so you can see when it is light up red or green and the charging port is accessible so you don’t have to remove them to charge them. They clasp onto my purse sturdily and I have no worries about them becoming dislodged from my purse and getting lost. If you want to use a different clasp it’s interchangeable with one of your choosing of the same size. Great quality for a great price. HIGHLY RECOMMEND! ! pretty good for the price. used once to test it out. worked great. I liked it. wife wasn't satisfied with overall operation. I liked it tho, but had to put it back in the box this was a gift / my friend says he liked it / it was what he thought it was / he likes the idea of open computer. Must visually confirm that connector is fully extended by looking at slide groove. Mine seemed DOA until I realized that it wasn't making electrical connection. awesome It came in quickly. My son and grandson put it together for me in about 3 or 4 hr. Time out for dinner and couple of beers. Back to putting it to finish and test it out. TV hung perfectly. Fit right in the same corner a much smaller stand was in Clean looks with the wires now. Works perfectly: Glad I browsed through Amazon and found it: came as advertised; delivered before date-of-delivery; good value for money radio standard, depending on your car, may need install kit for your car; I needed kit for my 2013 Toyota. suggest you measure area opening of dash where radio is to be mounted good wiring kit; everything we needed to install amp and subs Good warranty! good to have security just in case: not expecting any trouble tho. easy install. all options worked. just screen is a little dark. even more when lights are turned on. I would recommend buying this unit easy install in my HP computer, perfect fit/ no problems with clean install win 10/very satisfied. Great little device! I was searching for a sturdy backpack for school that would allow me to carry my laptop as well as schoolbooks. After reading many of the reviews of this bag, I placed my order and crossed my fingers. I shouldn't have worried; it's a great bag! Solidly built and traveler-friendly with a ton of compartments for every little thing one might need to stow away. While this backpack is slightly larger than your average backpack, it is comfortable to wear trekking cross campus. Also, another aspect of this bag that I love is that it stands upright. I know that sounds kinda crazy, but I find it annoying when your backpack flops over next to your desk and stuff kind of just falls out, or if you need to grab something quickly out of the bag you have to awkwardly curl your body around the side of your chair and then on the way up, smash your head against the desk. So yeah, lazy girl (points to self) loves the convenience of a bag that stands upright for easy grabbage. I plan to travel with this backpack when I fly home this Christmas instead of bringing a bulky tote bag on the plane. It looked okay, but the camera was faulty: had to return item :( Bought four of these to use in a RAID. All four of the boxes had PN: 98D648 - 550 on the box. When I installed one of the drives it was smaller than the others. PN on smaller drive's label was 98J146 - 308 and it was called a Barracuda 7200. 10. Larger drives were Barracuda 7200. 11 9BX154 - 303 on the drive label. Returned it and will check the replacement when it arrives. 7/3/08 Received replacement drive and it was Barracuda 7200. 11 9BX154 - 303. These didn’t work. Idk if they were damaged in shipping or what, but the lenses were loose or something. I could see half a lens with its edge in the frame and the rest was missing. It looked like it came loose or was broken. love them so much thank you looks like original / wouldn't tell the difference if it didn't say replacement. it worked fine / great conversation piece too!.\""
     },
     "execution_count": 53,
     "metadata": {},
     "output_type": "execute_result"
    }
   ],
   "source": [
    "clean_text(' '.join(sample_description))"
   ],
   "metadata": {
    "collapsed": false,
    "ExecuteTime": {
     "end_time": "2025-04-01T20:15:41.793215Z",
     "start_time": "2025-04-01T20:15:41.783703Z"
    }
   },
   "id": "5155df08ba36aa61"
  },
  {
   "cell_type": "code",
   "execution_count": 55,
   "outputs": [
    {
     "data": {
      "text/plain": "\"good and cheap TOTO A6 Double Din Android Car Navigation Stereo with Dual Bluetooth - Standard A6Y2710SB Excellent! Love it! It fits my Chromebook perfectly Great headsets Easy to install use as intended Very nice! I love my new larger screen Kindle BUY THIS THANG Five Stars. stronger WIFI to my upstairs level & it works great! Great value for the price Protects my power supply from small screws Excited to swim with these! !! Did anyone use this for a recessed TV mount? This thing has a mind of its own…. Three Stars Does what it is meant to do All rounder! ASURION 3 Year Portable Electronic Accident Protection Plan with Tech Support $20-29. 99 Flimsy stamd Five Stars Good alarm clock Five Stars solid sound for the price Best Headphones in the Fifties price range! Don’t buy this product Horrible. It did not amplify anything Not sure why this has good reviews. My devices had a hard time connecting Disappointed Works great! Five Stars Five Stars good product at a decent price Great Product Great quality and fit! Wavlink supernight bluetooth keyboard Happy with purchase Easy connect Double Din Car Stereo Android 9. 0 Quad Core 7 Inch HD Don't know why I didn't get one of these years. good product at a decent price ASURION 2 Year Portable Electronic Accident Protection Plan with Tech Support $150-174. 99 Dual dash cam good product at a decent price Manufacturers defect and terrible customer support. Great cover and protection Five Stars Double Din Car Stereo GPS Navigation for Car 6. 2 Inch Touch Screen Cute for photos!.\""
     },
     "execution_count": 55,
     "metadata": {},
     "output_type": "execute_result"
    }
   ],
   "source": [
    "clean_text(' '.join(sample_titles))"
   ],
   "metadata": {
    "collapsed": false,
    "ExecuteTime": {
     "end_time": "2025-04-01T20:16:14.845952Z",
     "start_time": "2025-04-01T20:16:14.808957Z"
    }
   },
   "id": "f3853e10a3703ef3"
  },
  {
   "cell_type": "code",
   "execution_count": null,
   "outputs": [],
   "source": [],
   "metadata": {
    "collapsed": false
   },
   "id": "30455e19b2cdeb01"
  },
  {
   "cell_type": "code",
   "execution_count": 32,
   "outputs": [
    {
     "data": {
      "text/plain": "47"
     },
     "execution_count": 32,
     "metadata": {},
     "output_type": "execute_result"
    }
   ],
   "source": [
    "data_meta = []\n",
    "with open('/Users/sanamoin/Documents/sites/gadgets/recommendation_engine/data/raw/amazon_2023/meta_Electronics2.jsonl', 'r') as f:\n",
    "    for line in f:\n",
    "        data_meta.append(json.loads(line))\n",
    "len(data_meta)"
   ],
   "metadata": {
    "collapsed": false,
    "ExecuteTime": {
     "end_time": "2025-04-01T15:17:20.063434Z",
     "start_time": "2025-04-01T15:17:20.056884Z"
    }
   },
   "id": "63e3b8f72f56813d"
  },
  {
   "cell_type": "code",
   "execution_count": 33,
   "outputs": [
    {
     "data": {
      "text/plain": "               main_category  \\\n0            All Electronics   \n1            All Electronics   \n2                  Computers   \n3             AMAZON FASHION   \n4  Cell Phones & Accessories   \n\n                                               title  average_rating  \\\n0             FS-1051 FATSHARK TELEPORTER V3 HEADSET             3.5   \n1                      Ce-H22B12-S1 4Kx2K Hdmi 4Port             5.0   \n2  Digi-Tatoo Decal Skin Compatible With MacBook ...             4.5   \n3  NotoCity Compatible with Vivoactive 4 band 22m...             4.5   \n4             Motorola Droid X Essentials Combo Pack             3.8   \n\n   rating_number                                           features  \\\n0              6                                                 []   \n1              1             [UPC: 662774021904, Weight: 0.600 lbs]   \n2            246  [WARNING: Please IDENTIFY MODEL NUMBER on the ...   \n3            233  [☛NotoCity 22mm band is designed for Vivoactiv...   \n4             64  [New Droid X Essentials Combo Pack, Exclusive ...   \n\n                                         description  price  \\\n0  [Teleporter V3 The “Teleporter V3” kit sets a ...    NaN   \n1                               [HDMI In - HDMI Out]    NaN   \n2                                                 []  19.99   \n3                                                 []   9.99   \n4  [all Genuine High Quality Motorola Made Access...  14.99   \n\n                                              images  \\\n0  [{'thumb': 'https://m.media-amazon.com/images/...   \n1  [{'thumb': 'https://m.media-amazon.com/images/...   \n2  [{'thumb': 'https://m.media-amazon.com/images/...   \n3  [{'thumb': 'https://m.media-amazon.com/images/...   \n4  [{'thumb': 'https://m.media-amazon.com/images/...   \n\n                                              videos       store  \\\n0                                                 []   Fat Shark   \n1                                                 []        SIIG   \n2  [{'title': 'AL 2Sides Video', 'url': 'https://...  Digi-Tatoo   \n3                                                 []    NotoCity   \n4                                                 []     Verizon   \n\n                                          categories  \\\n0   [Electronics, Television & Video, Video Glasses]   \n1  [Electronics, Television & Video, Accessories,...   \n2  [Electronics, Computers & Accessories, Laptop ...   \n3  [Electronics, Wearable Technology, Clips, Arm ...   \n4  [Electronics, Computers & Accessories, Compute...   \n\n                                             details parent_asin  \\\n0  {'Date First Available': 'August 2, 2014', 'Ma...  B00MCW7G9M   \n1  {'Product Dimensions': '0.83 x 4.17 x 2.05 inc...  B00YT6XQSE   \n2  {'Brand': 'Digi-Tatoo', 'Color': 'Fresh Marble...  B07SM135LS   \n3  {'Date First Available': 'May 29, 2020', 'Manu...  B089CNGZCW   \n4  {'Product Dimensions': '11.6 x 6.9 x 3.1 inche...  B004E2Z88O   \n\n  bought_together  \n0            None  \n1            None  \n2            None  \n3            None  \n4            None  ",
      "text/html": "<div>\n<style scoped>\n    .dataframe tbody tr th:only-of-type {\n        vertical-align: middle;\n    }\n\n    .dataframe tbody tr th {\n        vertical-align: top;\n    }\n\n    .dataframe thead th {\n        text-align: right;\n    }\n</style>\n<table border=\"1\" class=\"dataframe\">\n  <thead>\n    <tr style=\"text-align: right;\">\n      <th></th>\n      <th>main_category</th>\n      <th>title</th>\n      <th>average_rating</th>\n      <th>rating_number</th>\n      <th>features</th>\n      <th>description</th>\n      <th>price</th>\n      <th>images</th>\n      <th>videos</th>\n      <th>store</th>\n      <th>categories</th>\n      <th>details</th>\n      <th>parent_asin</th>\n      <th>bought_together</th>\n    </tr>\n  </thead>\n  <tbody>\n    <tr>\n      <th>0</th>\n      <td>All Electronics</td>\n      <td>FS-1051 FATSHARK TELEPORTER V3 HEADSET</td>\n      <td>3.5</td>\n      <td>6</td>\n      <td>[]</td>\n      <td>[Teleporter V3 The “Teleporter V3” kit sets a ...</td>\n      <td>NaN</td>\n      <td>[{'thumb': 'https://m.media-amazon.com/images/...</td>\n      <td>[]</td>\n      <td>Fat Shark</td>\n      <td>[Electronics, Television &amp; Video, Video Glasses]</td>\n      <td>{'Date First Available': 'August 2, 2014', 'Ma...</td>\n      <td>B00MCW7G9M</td>\n      <td>None</td>\n    </tr>\n    <tr>\n      <th>1</th>\n      <td>All Electronics</td>\n      <td>Ce-H22B12-S1 4Kx2K Hdmi 4Port</td>\n      <td>5.0</td>\n      <td>1</td>\n      <td>[UPC: 662774021904, Weight: 0.600 lbs]</td>\n      <td>[HDMI In - HDMI Out]</td>\n      <td>NaN</td>\n      <td>[{'thumb': 'https://m.media-amazon.com/images/...</td>\n      <td>[]</td>\n      <td>SIIG</td>\n      <td>[Electronics, Television &amp; Video, Accessories,...</td>\n      <td>{'Product Dimensions': '0.83 x 4.17 x 2.05 inc...</td>\n      <td>B00YT6XQSE</td>\n      <td>None</td>\n    </tr>\n    <tr>\n      <th>2</th>\n      <td>Computers</td>\n      <td>Digi-Tatoo Decal Skin Compatible With MacBook ...</td>\n      <td>4.5</td>\n      <td>246</td>\n      <td>[WARNING: Please IDENTIFY MODEL NUMBER on the ...</td>\n      <td>[]</td>\n      <td>19.99</td>\n      <td>[{'thumb': 'https://m.media-amazon.com/images/...</td>\n      <td>[{'title': 'AL 2Sides Video', 'url': 'https://...</td>\n      <td>Digi-Tatoo</td>\n      <td>[Electronics, Computers &amp; Accessories, Laptop ...</td>\n      <td>{'Brand': 'Digi-Tatoo', 'Color': 'Fresh Marble...</td>\n      <td>B07SM135LS</td>\n      <td>None</td>\n    </tr>\n    <tr>\n      <th>3</th>\n      <td>AMAZON FASHION</td>\n      <td>NotoCity Compatible with Vivoactive 4 band 22m...</td>\n      <td>4.5</td>\n      <td>233</td>\n      <td>[☛NotoCity 22mm band is designed for Vivoactiv...</td>\n      <td>[]</td>\n      <td>9.99</td>\n      <td>[{'thumb': 'https://m.media-amazon.com/images/...</td>\n      <td>[]</td>\n      <td>NotoCity</td>\n      <td>[Electronics, Wearable Technology, Clips, Arm ...</td>\n      <td>{'Date First Available': 'May 29, 2020', 'Manu...</td>\n      <td>B089CNGZCW</td>\n      <td>None</td>\n    </tr>\n    <tr>\n      <th>4</th>\n      <td>Cell Phones &amp; Accessories</td>\n      <td>Motorola Droid X Essentials Combo Pack</td>\n      <td>3.8</td>\n      <td>64</td>\n      <td>[New Droid X Essentials Combo Pack, Exclusive ...</td>\n      <td>[all Genuine High Quality Motorola Made Access...</td>\n      <td>14.99</td>\n      <td>[{'thumb': 'https://m.media-amazon.com/images/...</td>\n      <td>[]</td>\n      <td>Verizon</td>\n      <td>[Electronics, Computers &amp; Accessories, Compute...</td>\n      <td>{'Product Dimensions': '11.6 x 6.9 x 3.1 inche...</td>\n      <td>B004E2Z88O</td>\n      <td>None</td>\n    </tr>\n  </tbody>\n</table>\n</div>"
     },
     "execution_count": 33,
     "metadata": {},
     "output_type": "execute_result"
    }
   ],
   "source": [
    "df_meta = pd.DataFrame(data_meta)\n",
    "df_meta.head()"
   ],
   "metadata": {
    "collapsed": false,
    "ExecuteTime": {
     "end_time": "2025-04-01T15:17:43.620253Z",
     "start_time": "2025-04-01T15:17:43.617390Z"
    }
   },
   "id": "9a1c3f766f917d46"
  },
  {
   "cell_type": "code",
   "execution_count": 34,
   "outputs": [
    {
     "data": {
      "text/plain": "count      19.000000\nmean      130.468421\nstd       339.796297\nmin         5.990000\n25%         9.420000\n50%        11.980000\n75%        22.490000\nmax      1249.000000\nName: price, dtype: float64"
     },
     "execution_count": 34,
     "metadata": {},
     "output_type": "execute_result"
    }
   ],
   "source": [
    "df_meta.price.describe()"
   ],
   "metadata": {
    "collapsed": false,
    "ExecuteTime": {
     "end_time": "2025-04-01T15:18:50.587746Z",
     "start_time": "2025-04-01T15:18:50.582650Z"
    }
   },
   "id": "53fcad1eb9116cdc"
  },
  {
   "cell_type": "code",
   "execution_count": 42,
   "outputs": [
    {
     "data": {
      "text/plain": "['Digi-Tatoo Decal Skin Compatible With MacBook Pro 13 inch (Model A2338/ A2289/ A2251) - Protective and Decorative Full Body Laptop Skin Decal Sticker, Anti-Scratch Vinly Skin Sticker Wrap [Fresh Marble]',\n 'LOFTEKHDfuryproTwo Input HDMI to RGB Component YPbPr/VGA 2x1 Switch Converter Support 5.1CH Surround Sound.',\n 'MOSISO Plastic Hard Shell Case & Keyboard Cover Compatible MacBook Air 11 Inch (Models: A1370 & A1465), Transparent Black',\n 'Headphone Adapter Compatible iPhone, 2 in 1 Headphone Adapter, Audio Jack Charge Adapter, Aux Cable Connector Convertor Splitter, Compatible iPhone 12/11/XR/X/XS/8/8 Plus/7 Plus Support All iOS System',\n 'ANNKE 4K 16CH Security DVR Recorder with Human & Vehicle Detection and (16) 8MP Outdoor Bullet Cameras with IP67 Weatherproof, 100ft Night Vision with EXIR, Email Alert, NO Hard Drive',\n 'Replaced Remote Control Compatible for Samsung HW-N650 HWQ850T HW-NW700 HWT650 HW-N850/ZA HWN400 HW-N950/ZA HWN850 HW-Q950T Sound Bar Speaker System',\n 'BRG Airpod Case, 360° Protective Fabric Skin for Airpods Case Cover with Keychain, Compatible with Apple Airpods 2 & 1 (Front LED Visible)',\n 'NotoCity Compatible with Vivoactive 4 band 22mm Quick Release Silicone Bands/Garmin Darth Vader/First Avenger/Polar Vantage Smartwatch Sport Breathable Strap Replacement for Gear S3 Classic Watchband',\n 'Motorola Droid X Essentials Combo Pack',\n 'Protech iPhone 4 microscope 60X Lens with illumination Led',\n 'HQRP AC Power Cord 6ft Long Compatible with Hitachi LE19S304 LE19S314 LE29H306 LE29H307 LE29H316 LE32H217 LED LCD HDTV Smart TV Mains Cable, Black',\n 'Dock Audio Extender Adapter Converter Cable for iPod iPhone 4 4S iPhone 5 5S iPad, Samsung & Other Smart Phones',\n 'Battery for Mio C220 C220s C230 C250',\n 'NEW NEOMUSICIA Replacement Cable Compatible with Sennheiser HD25 HD 25-1 HD25-1 II HD25-13 HD25-C Headphone, Remote Volume Control & Mic Compatible with apple iphone ipod ipad iOS only Blue',\n 'Fishfinder, Depth Finder Poly Sun Cover for 3\" - 4\" Models - Protects Your Screen from Sun / Weather Damage',\n 'LONMEN 14 Inch Laptop Shoulder Bag,Computer Sleeve Carrying Case for 15 inch MacBook Pro 2019 / MacBook Pro Retina/Microsoft Surface Book 2 / Dell XPS 15/14\" Laptop/Chromebook/Ultrabook',\n 'NANW Bands Compatible with Fitbit Versa/Versa 2/Versa Lite Small Large, Soft Silicone Replacement Band for Versa/Versa 2, Air Hole Wristband Strap for Women Men',\n 'eForCity Leather Case with Stand for 7-Inch Samsung Galaxy Tab 2, White/Black Zebra (PSAMGLXTLC26)',\n 'MAIRDI Telephone Headset for Multiple Devices, with RJ9 and 3.5mm Jacks for Landline Deskphone Cell Phone PC Laptop, Office Headset with Microphone for Cisco Phone Call Center Customer Service',\n '2 Extended Life 1400mAh Replacement Batteries (AHDBT-401) for GOPRO Hero4 Video Camera Black & Silver, Microfiber Cleaning Cloth']"
     },
     "execution_count": 42,
     "metadata": {},
     "output_type": "execute_result"
    }
   ],
   "source": [
    "sample_titles_meta = df_meta[\"title\"].dropna().sample(20).tolist()\n",
    "sample_titles_meta\n"
   ],
   "metadata": {
    "collapsed": false,
    "ExecuteTime": {
     "end_time": "2025-04-01T20:02:41.954166Z",
     "start_time": "2025-04-01T20:02:41.932212Z"
    }
   },
   "id": "cebd5fd7b06805ff"
  },
  {
   "cell_type": "code",
   "execution_count": 65,
   "outputs": [
    {
     "data": {
      "text/plain": "[['The 11\" iPad Pro has added a few new advancements for upgraded performance, entertainment, and usability. Replacing the A12X processor, the A12Z Bionic has performance rivaling that of laptops available today, in addition to an eight-core graphics processor that handles everything from games to 4K video editing. Moreover, it\\'s still paired with a Neural Engine chip for advanced machine learning.The iPad Pro\\'s display features the same Liquid Retina technology found on iPhones, and has a 2388 x 1668 resolution, ProMotion technology, wide color and True Tone support, as well as a 600 cd/m2 brightness rating. On the rear, Apple has added a 10MP ultra-wide camera, enabling different perspectives and multi-camera use. A newly added LiDAR scanner, which determines distance by determining light reflection, further readies possibilities for augmented reality and beyond.The iPad Pro now features five studio-quality microphones that capture clean audio and the quietest details. The combination of the pro cameras, audio enhancements, and its large display makes the iPad Pro a suitable mobile studio option for creative users. USB Type-C connector rather than its traditional Lightning connector.'],\n [],\n [\"High Capacity & Excellent Quality replacement rechargeable battery for your Mitac Mio GPS , Replaces the following Model #'s C210, C220, C220s, C230, C250 , C 210 220 220S 230 250\"],\n [],\n [],\n [],\n ['Key Features and Benefits:',\n  'CPU:',\n  'AMD Ryzen 7 5700G Processor (8 Cores, 16 Threads, 16MB L3 Cache, Base Frequency at 3.8GHz, up to 4.6GHz at Max Turbo Frequency)',\n  'Graphics:',\n  'NVIDIA GeForce RTX 3060 LHR Graphics (12GB GDDR6)',\n  'Memory:',\n  'Up to 64GB DDR4 SDRAM',\n  'Hard Drive:',\n  'Up to 2TB PCIe NVMe M.2 Solid State Drive + 8TB Hard Disk Drive',\n  'Operating System:',\n  'Microsoft Windows 11 Home',\n  'Top Ports:',\n  '1 x Headphone/ Mic Combo',\n  '1 x Mic Jack',\n  '2 x USB 3.2 Gen1 Type-A',\n  'Rear Ports:',\n  '2 x USB 2.0 Type-A',\n  '2 x USB 3.2 Gen1 Type-A',\n  '1 x USB 3.2 Gen2 Type-C',\n  '1 x HDMI 2.1',\n  '3 x DisplayPort',\n  '1 x Audio Out',\n  '1 x Mic Jack',\n  'Optical Drive:',\n  'None',\n  'Wireless Connectivity:',\n  'Wi-Fi 6 + Bluetooth',\n  'Wired Mouse & Keyboard:',\n  'Yes',\n  'Power Supply:',\n  '650W',\n  'Dimensions:',\n  '16.18\" x 8.07\" x 15.59\"',\n  'Weights:',\n  '32.85 lbs'],\n [],\n [],\n [],\n [],\n ['From the Manufacturer',\n  \"With a Canopy Express Protection Plan, your reimbursement happens in as little as 24 hours*, with no hassles, no deductibles and no hidden fees. Canopy Protection is more than a warranty. It's the highest level of customer care available. Canopy Plans are created for consumers by consumers, so they're smart, simple, and designed to cover virtually everything** that can go wrong with a product. Your Canopy Protection Plan is one product that will not fail.\",\n  'Canopy Covers More',\n  \"Canopy protects your product with 2 years of additional worry-free coverage AFTER the manufacturer's labor warranty expires, so you are never left unprotected or paying for protection you already have. A covered product is protected against:**\",\n  'Failures Due To Power Surges',\n  'Power flows, but not always evenly. Products are designed to tolerate minor surges, but sudden power spikes are the most frequent cause of surge failures.',\n  'Breakdowns From Dust Buildup',\n  'Dust gets in through ventilation holes, causing failures in almost any product with mechanical parts, such as internal fans and motors.',\n  'Mechanical Or Electrical Failures -',\n  'Even From Normal, Everyday Use',\n  'External and internal',\n  'components, whether mechanical or electrical, may fail during the first use of a product or much later due to normal wear and tear.',\n  'Failures Caused By Internal Humidity',\n  'Moisture that forms within a device can cause a wide variety of electrical failures. Moisture also speeds rust and corrosion that can interfere with electrical connections.',\n  'Failures Due To Heat',\n  'Most electrical products get warm. But heat build-up can eventually warp circuit boards and break electrical contacts between circuit board components.',\n  'Defects In Materials And Workmanship',\n  'Manufacturers rely on multiple sources for parts, enabling them to assemble thousands of devices per day. Defective parts sometimes find their way into the products we buy.',\n  \"Canopy's No Hassle Claims Process - Here's How It Works:\",\n  'Should a product fail, simply call us toll-free  at (866)-551-5924,  24 hours a day,  7 days a week,  365 days a year. \\xa0 Receive a pre-paid shipping label via email to return the failed, covered product to us. \\xa0 Once the package is scanned by UPS, we credit an Amazon.com Gift Card* to your Amazon.com account. \\xa0 Use the Amazon.com Gift Card to purchase the replacement product of your choice.',\n  'Get Outstanding Value in Every Canopy Plan',\n  'Provides dedicated support to Amazon.com customers, exclusively',\n  'Provides dedicated support to Amazon.com customers, exclusively',\n  'Delivers more coverage than the original manufacturer’s warranty**',\n  'Delivers more coverage than the original manufacturer’s warranty**',\n  'Extends the working life and value of a covered product',\n  'Extends the working life and value of a covered product',\n  'Protects a product given as a gift—Now that’s a thought that really counts',\n  'Protects a product given as a gift—Now that’s a thought that really counts',\n  'Canopy Next Generation Product Protection - The Inside Story',\n  'Canopy is called “Next Generation Product Protection” because it delivers a higher level of personal service designed to meet the needs of today’s tech-savvy, Amazon.com customers. These unique plans are the result of 27 years of product ownership and repair experience that forms the backbone of N.E.W. Customer Service Companies, LLC.',\n  'N.E.W. is comprised of thousands of real consumers committed to finding new and better ways to keep today’s exciting products working like new. At any given moment, N.E.W. covers millions of exciting products. That’s important, because when choosing a product protection plan that fits your needs, it’s reassuring to know you’re in good company.',\n  'Protection Without Paperwork',\n  \"Canopy Protection Plan documents will be sent after purchase to the email address associated with your Amazon.com account, so a permanent record will remain in your email folder. It's everything you need to get a product repaired or replaced in one streamlined step. We suggest printing one copy of the plan to be filed away for safe keeping. If Canopy documents don't arrive within 48 hours of purchase, just call (866)-551-5924 anytime, day or night.\",\n  '*Requires a valid email address and your product return scanned into UPS’s tracking system.   **Limitations and exclusions apply.\\xa0 See terms and conditions for complete program details.'],\n [],\n [],\n [\"With professional features, industry-leading functionality, and Plantronics-renowned reliability, Black wire 300 series USB headset is ideal for those to PC telephony as well as organizations looking for a solution that's easy to roll out, manage, and upgrade.\"],\n ['Make sure you never miss another once-in-a-lifetime moment by having a new replacement AHDBT-401 battery specifically designed for your GoPro Hero 4. Our rechargeable batteries are engineered to meet or exceed OEM specifications and feature the latest battery technology, including advanced circuitry, voltage regulation, and thermal circuit protection. Our batteries include a 5-year warranty. This bundle kit is a great starter package for a beginning photographer, instructional use or an expert in photography.'],\n ['BN59-01179A Lost Replacement Remote Control for SAMSUNG TVs:  UN50H6300AFXZA UN50H6350AF UN50H6350AFXZA UN55H6300AF UN55H6300AFXZA UN55H6350AF  UN55H6350AFXZA UN55HU6840FX UN55HU6840FXZA UN60H6300AF UN60H6300AFXZA UN60H6350AF  UN60H6350AFXZA UN65H6300AF UN65H6300AFXZA UN65H6350AF UN65H6350AFXZA UN75H6300AF UN75H6300AFXZA  UN105S9WAF UN105S9WAFXZA UN75H6300AFXZA UN110S9VFXZA TWH5500 TWH5500ZA  UN32H5500AF UN32H5500AFXZA UN32H6350AF UN32H6350AFXZA UN39H5204AF  UN39H5204AFXZA UN40H5500AF UN40H5500AFXZA UN40H6350AF UN40H6350AFXZA UN48H5500AF  UN48H5500AFXZA UN48H6300AF UN48H6300AFXZA UN75H6350AF UN75H6350AFXZA  UN48H6350AF UN48H6350AFXZA UN50H5500AF UN50H5500AFXZA UN50H6300AF No need any programming, only installing new alkaline battery can work. Powered by: 2pcs AAA batteries. Package include:1pc remote control.'],\n ['This is a high quality, new replacement remote.  It compatibles for Samsung HW-N650 HWQ850T HW-NW700 HWT650 HW-N850/ZA HWN400 HW-N950/ZA HWN850 HW-Q950T Sound Bar Speaker System, put your batteries in to work( Batteries and Manual are not included).  It sold with money-back guarantee, Hassle-Free return, 30 days quality warranty.  Any problem, please kindly email us.'],\n ['Teleporter V3 The “Teleporter V3” kit sets a new level of value in the FPV world with Fat Shark renowned performance and quality. The fun of FPV is experienced firsthand through the large screen FPV headset with integrated NexwaveRF receiver technology while simultaneously recording onboard HD footage with the included “PilotHD” camera. The “Teleporter V3” kit comes complete with everything you need to step into the cockpit of your FPV vehicle. We’ve included our powerful 250mW 5.8Ghz transmitter, 25 degree FOV headset (largest QVGA display available), the brand new “PilotHD” camera with live AV out and all the cables, antennas and connectors needed.'],\n []]"
     },
     "execution_count": 65,
     "metadata": {},
     "output_type": "execute_result"
    }
   ],
   "source": [
    "sample_description_meta = df_meta[\"description\"].dropna().sample(20).tolist()\n",
    "sample_description_meta\n"
   ],
   "metadata": {
    "collapsed": false,
    "ExecuteTime": {
     "end_time": "2025-04-01T20:25:54.230961Z",
     "start_time": "2025-04-01T20:25:54.216686Z"
    }
   },
   "id": "b17d877c8258c8ff"
  },
  {
   "cell_type": "code",
   "execution_count": 66,
   "outputs": [
    {
     "data": {
      "text/plain": "['The 11\" iPad Pro has added a few new advancements for upgraded performance, entertainment, and usability. Replacing the A12X processor, the A12Z Bionic has performance rivaling that of laptops available today, in addition to an eight-core graphics processor that handles everything from games to 4K video editing. Moreover, it\\'s still paired with a Neural Engine chip for advanced machine learning.The iPad Pro\\'s display features the same Liquid Retina technology found on iPhones, and has a 2388 x 1668 resolution, ProMotion technology, wide color and True Tone support, as well as a 600 cd/m2 brightness rating. On the rear, Apple has added a 10MP ultra-wide camera, enabling different perspectives and multi-camera use. A newly added LiDAR scanner, which determines distance by determining light reflection, further readies possibilities for augmented reality and beyond.The iPad Pro now features five studio-quality microphones that capture clean audio and the quietest details. The combination of the pro cameras, audio enhancements, and its large display makes the iPad Pro a suitable mobile studio option for creative users. USB Type-C connector rather than its traditional Lightning connector.',\n \"High Capacity & Excellent Quality replacement rechargeable battery for your Mitac Mio GPS , Replaces the following Model #'s C210, C220, C220s, C230, C250 , C 210 220 220S 230 250\",\n 'Key Features and Benefits:',\n 'From the Manufacturer',\n \"With professional features, industry-leading functionality, and Plantronics-renowned reliability, Black wire 300 series USB headset is ideal for those to PC telephony as well as organizations looking for a solution that's easy to roll out, manage, and upgrade.\",\n 'Make sure you never miss another once-in-a-lifetime moment by having a new replacement AHDBT-401 battery specifically designed for your GoPro Hero 4. Our rechargeable batteries are engineered to meet or exceed OEM specifications and feature the latest battery technology, including advanced circuitry, voltage regulation, and thermal circuit protection. Our batteries include a 5-year warranty. This bundle kit is a great starter package for a beginning photographer, instructional use or an expert in photography.',\n 'BN59-01179A Lost Replacement Remote Control for SAMSUNG TVs:  UN50H6300AFXZA UN50H6350AF UN50H6350AFXZA UN55H6300AF UN55H6300AFXZA UN55H6350AF  UN55H6350AFXZA UN55HU6840FX UN55HU6840FXZA UN60H6300AF UN60H6300AFXZA UN60H6350AF  UN60H6350AFXZA UN65H6300AF UN65H6300AFXZA UN65H6350AF UN65H6350AFXZA UN75H6300AF UN75H6300AFXZA  UN105S9WAF UN105S9WAFXZA UN75H6300AFXZA UN110S9VFXZA TWH5500 TWH5500ZA  UN32H5500AF UN32H5500AFXZA UN32H6350AF UN32H6350AFXZA UN39H5204AF  UN39H5204AFXZA UN40H5500AF UN40H5500AFXZA UN40H6350AF UN40H6350AFXZA UN48H5500AF  UN48H5500AFXZA UN48H6300AF UN48H6300AFXZA UN75H6350AF UN75H6350AFXZA  UN48H6350AF UN48H6350AFXZA UN50H5500AF UN50H5500AFXZA UN50H6300AF No need any programming, only installing new alkaline battery can work. Powered by: 2pcs AAA batteries. Package include:1pc remote control.',\n 'This is a high quality, new replacement remote.  It compatibles for Samsung HW-N650 HWQ850T HW-NW700 HWT650 HW-N850/ZA HWN400 HW-N950/ZA HWN850 HW-Q950T Sound Bar Speaker System, put your batteries in to work( Batteries and Manual are not included).  It sold with money-back guarantee, Hassle-Free return, 30 days quality warranty.  Any problem, please kindly email us.',\n 'Teleporter V3 The “Teleporter V3” kit sets a new level of value in the FPV world with Fat Shark renowned performance and quality. The fun of FPV is experienced firsthand through the large screen FPV headset with integrated NexwaveRF receiver technology while simultaneously recording onboard HD footage with the included “PilotHD” camera. The “Teleporter V3” kit comes complete with everything you need to step into the cockpit of your FPV vehicle. We’ve included our powerful 250mW 5.8Ghz transmitter, 25 degree FOV headset (largest QVGA display available), the brand new “PilotHD” camera with live AV out and all the cables, antennas and connectors needed.']"
     },
     "execution_count": 66,
     "metadata": {},
     "output_type": "execute_result"
    }
   ],
   "source": [
    "sample_description_meta = [v[0]for v in sample_description_meta if len(v)>0 ]\n",
    "sample_description_meta"
   ],
   "metadata": {
    "collapsed": false,
    "ExecuteTime": {
     "end_time": "2025-04-01T20:27:06.104170Z",
     "start_time": "2025-04-01T20:27:06.093915Z"
    }
   },
   "id": "a32db7190a323f90"
  },
  {
   "cell_type": "code",
   "execution_count": 67,
   "outputs": [
    {
     "data": {
      "text/plain": "\"The 11 iPad Pro has added a few new advancements for upgraded performance, entertainment, and usability. Replacing the A12X processor, the A12Z Bionic has performance rivaling that of laptops available today, in addition to an eight-core graphics processor that handles everything from games to 4K video editing. Moreover, it's still paired with a Neural Engine chip for advanced machine learning. The iPad Pro's display features the same Liquid Retina technology found on iPhones, and has a 2388 x 1668 resolution, ProMotion technology, wide color and True Tone support, as well as a 600 cd/m2 brightness rating. On the rear, Apple has added a 10MP ultra-wide camera, enabling different perspectives and multi-camera use. A newly added LiDAR scanner, which determines distance by determining light reflection, further readies possibilities for augmented reality and beyond. The iPad Pro now features five studio-quality microphones that capture clean audio and the quietest details. The combination of the pro cameras, audio enhancements, and its large display makes the iPad Pro a suitable mobile studio option for creative users. USB Type-C connector rather than its traditional Lightning connector. High Capacity & Excellent Quality replacement rechargeable battery for your Mitac Mio GPS, Replaces the following Model #'s C210, C220, C220s, C230, C250, C 210 220 220S 230 250 Key Features and Benefits: From the Manufacturer With professional features, industry-leading functionality, and Plantronics-renowned reliability, Black wire 300 series USB headset is ideal for those to PC telephony as well as organizations looking for a solution that's easy to roll out, manage, and upgrade. Make sure you never miss another once-in-a-lifetime moment by having a new replacement AHDBT-401 battery specifically designed for your GoPro Hero 4. Our rechargeable batteries are engineered to meet or exceed OEM specifications and feature the latest battery technology, including advanced circuitry, voltage regulation, and thermal circuit protection. Our batteries include a 5-year warranty. This bundle kit is a great starter package for a beginning photographer, instructional use or an expert in photography. BN59-01179A Lost Replacement Remote Control for SAMSUNG TVs: UN50H6300AFXZA UN50H6350AF UN50H6350AFXZA UN55H6300AF UN55H6300AFXZA UN55H6350AF UN55H6350AFXZA UN55HU6840FX UN55HU6840FXZA UN60H6300AF UN60H6300AFXZA UN60H6350AF UN60H6350AFXZA UN65H6300AF UN65H6300AFXZA UN65H6350AF UN65H6350AFXZA UN75H6300AF UN75H6300AFXZA UN105S9WAF UN105S9WAFXZA UN75H6300AFXZA UN110S9VFXZA TWH5500 TWH5500ZA UN32H5500AF UN32H5500AFXZA UN32H6350AF UN32H6350AFXZA UN39H5204AF UN39H5204AFXZA UN40H5500AF UN40H5500AFXZA UN40H6350AF UN40H6350AFXZA UN48H5500AF UN48H5500AFXZA UN48H6300AF UN48H6300AFXZA UN75H6350AF UN75H6350AFXZA UN48H6350AF UN48H6350AFXZA UN50H5500AF UN50H5500AFXZA UN50H6300AF No need any programming, only installing new alkaline battery can work. Powered by: 2pcs AAA batteries. Package include:1pc remote control. This is a high quality, new replacement remote. It compatibles for Samsung HW-N650 HWQ850T HW-NW700 HWT650 HW-N850/ZA HWN400 HW-N950/ZA HWN850 HW-Q950T Sound Bar Speaker System, put your batteries in to work( Batteries and Manual are not included). It sold with money-back guarantee, Hassle-Free return, 30 days quality warranty. Any problem, please kindly email us. Teleporter V3 The “Teleporter V3” kit sets a new level of value in the FPV world with Fat Shark renowned performance and quality. The fun of FPV is experienced firsthand through the large screen FPV headset with integrated NexwaveRF receiver technology while simultaneously recording onboard HD footage with the included “PilotHD” camera. The “Teleporter V3” kit comes complete with everything you need to step into the cockpit of your FPV vehicle. We’ve included our powerful 250mW 5. 8Ghz transmitter, 25 degree FOV headset (largest QVGA display available), the brand new “PilotHD” camera with live AV out and all the cables, antennas and connectors needed.\""
     },
     "execution_count": 67,
     "metadata": {},
     "output_type": "execute_result"
    }
   ],
   "source": [
    "clean_text(' '.join(sample_description_meta))"
   ],
   "metadata": {
    "collapsed": false,
    "ExecuteTime": {
     "end_time": "2025-04-01T20:27:11.701796Z",
     "start_time": "2025-04-01T20:27:11.699265Z"
    }
   },
   "id": "d9fa1e10d677f002"
  },
  {
   "cell_type": "code",
   "execution_count": null,
   "outputs": [],
   "source": [],
   "metadata": {
    "collapsed": false
   },
   "id": "2cd831d5aaf84093"
  }
 ],
 "metadata": {
  "kernelspec": {
   "display_name": "Python 3",
   "language": "python",
   "name": "python3"
  },
  "language_info": {
   "codemirror_mode": {
    "name": "ipython",
    "version": 2
   },
   "file_extension": ".py",
   "mimetype": "text/x-python",
   "name": "python",
   "nbconvert_exporter": "python",
   "pygments_lexer": "ipython2",
   "version": "2.7.6"
  }
 },
 "nbformat": 4,
 "nbformat_minor": 5
}
