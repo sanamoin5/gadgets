{
 "cells": [
  {
   "cell_type": "code",
   "execution_count": 5,
   "id": "initial_id",
   "metadata": {
    "collapsed": true,
    "ExecuteTime": {
     "end_time": "2025-04-02T23:10:44.212136Z",
     "start_time": "2025-04-02T23:10:44.207100Z"
    }
   },
   "outputs": [],
   "source": [
    "import torch\n",
    "\n",
    "from recommendation_engine.configs.config_sbert_mps import config as sbert_config\n",
    "from recommendation_engine.configs.config_review_meta_score import config as rm_config\n",
    "from recommendation_engine.models.dual_encoder_sbert import DualEncoderSBERT\n",
    "from recommendation_engine.models.review_metadata_score_model import ReviewMetadataScoreModel\n"
   ]
  },
  {
   "cell_type": "code",
   "execution_count": 25,
   "outputs": [],
   "source": [
    "def export_dual_encoder_branch(checkpoint_path: str, output_dir: str, output_filename: str, config):\n",
    "    \"\"\"\n",
    "    Exports one branch of DualEncoderSBERT (view1 or view2) to TorchScript format.\n",
    "    \"\"\"\n",
    "    model = DualEncoderSBERT.from_config(config)\n",
    "    model.load_state_dict(torch.load(checkpoint_path, map_location=\"cpu\"))\n",
    "    model.eval()\n",
    "\n",
    "    batch_size = 1\n",
    "    max_length = config[\"max_length\"]\n",
    "    dummy_input_ids = torch.randint(0, 100, (batch_size, max_length))\n",
    "    dummy_attention_mask = torch.ones((batch_size, max_length), dtype=torch.long)\n",
    "\n",
    "    ts_model = torch.jit.trace(model, (dummy_input_ids, dummy_attention_mask))\n",
    "    output_path = f\"{output_dir}/{output_filename}\"\n",
    "    torch.jit.save(ts_model, output_path)\n",
    "    print(f\"DualEncoderSBERT branch exported to TorchScript at: {output_path}\")\n"
   ],
   "metadata": {
    "collapsed": false,
    "ExecuteTime": {
     "end_time": "2025-04-02T23:25:01.183859Z",
     "start_time": "2025-04-02T23:25:01.177096Z"
    }
   },
   "id": "4dfb3a56701b1714"
  },
  {
   "cell_type": "code",
   "execution_count": 24,
   "outputs": [],
   "source": [
    "def export_meta_review_model(checkpoint_path: str, output_dir: str, output_filename: str, config):\n",
    "    \"\"\"\n",
    "    Exports ReviewMetadataScoreModel to TorchScript format.\n",
    "    \"\"\"\n",
    "    model = ReviewMetadataScoreModel.from_config(config)\n",
    "    model.load_state_dict(torch.load(checkpoint_path, map_location=\"cpu\"))\n",
    "    model.eval()\n",
    "\n",
    "    batch_size = 1\n",
    "    max_length = config[\"max_length\"]\n",
    "\n",
    "    dummy_review_input_ids = torch.randint(0, 100, (batch_size, max_length))\n",
    "    dummy_review_attention_mask = torch.ones((batch_size, max_length), dtype=torch.long)\n",
    "    dummy_meta_input_ids = torch.randint(0, config[\"meta_vocab_size\"], (batch_size, max_length))\n",
    "    dummy_meta_attention_mask = torch.ones((batch_size, max_length), dtype=torch.long)\n",
    "    dummy_price = torch.tensor([10.0], dtype=torch.float)\n",
    "\n",
    "    ts_model = torch.jit.trace(\n",
    "        model,\n",
    "        (dummy_review_input_ids, dummy_review_attention_mask,\n",
    "         dummy_meta_input_ids, dummy_meta_attention_mask,\n",
    "         dummy_price)\n",
    "    )\n",
    "    output_path = f\"{output_dir}/{output_filename}\"\n",
    "    torch.jit.save(ts_model, output_path)\n",
    "    print(f\"ReviewMetadataScoreModel exported to TorchScript at: {output_path}\")\n"
   ],
   "metadata": {
    "collapsed": false,
    "ExecuteTime": {
     "end_time": "2025-04-02T23:24:52.799577Z",
     "start_time": "2025-04-02T23:24:52.791293Z"
    }
   },
   "id": "de2d04e0b3599244"
  },
  {
   "cell_type": "code",
   "execution_count": null,
   "outputs": [],
   "source": [],
   "metadata": {
    "collapsed": false
   },
   "id": "736889f88c1ff08f"
  },
  {
   "cell_type": "code",
   "execution_count": 26,
   "outputs": [
    {
     "name": "stdout",
     "output_type": "stream",
     "text": [
      "DualEncoderSBERT branch exported to TorchScript at: /Users/sanamoin/Documents/sites/gadgets/recommendation_engine/outputs/ts//dual_encoder_sbert_view1_ts.pt\n",
      "DualEncoderSBERT branch exported to TorchScript at: /Users/sanamoin/Documents/sites/gadgets/recommendation_engine/outputs/ts//dual_encoder_sbert_view2_ts.pt\n"
     ]
    }
   ],
   "source": [
    "# view1\n",
    "export_dual_encoder_branch(\n",
    "        checkpoint_path=\"/Users/sanamoin/Documents/sites/gadgets/recommendation_engine/outputs/sbert_nvidia/run_20250331_224539/checkpoints/best_model_view1.pt\",\n",
    "        output_dir=\"/Users/sanamoin/Documents/sites/gadgets/recommendation_engine/outputs/ts/\",\n",
    "        output_filename=\"dual_encoder_sbert_view1_ts.pt\",\n",
    "        config=sbert_config\n",
    "    )\n",
    "\n",
    "# view2\n",
    "export_dual_encoder_branch(\n",
    "    checkpoint_path=\"/Users/sanamoin/Documents/sites/gadgets/recommendation_engine/outputs/sbert_nvidia/run_20250331_224539/checkpoints/best_model_view2.pt\",\n",
    "    output_dir=\"/Users/sanamoin/Documents/sites/gadgets/recommendation_engine/outputs/ts/\",\n",
    "    output_filename=\"dual_encoder_sbert_view2_ts.pt\",\n",
    "    config=sbert_config\n",
    ")"
   ],
   "metadata": {
    "collapsed": false,
    "ExecuteTime": {
     "end_time": "2025-04-02T23:25:07.296875Z",
     "start_time": "2025-04-02T23:25:05.280647Z"
    }
   },
   "id": "6ca3daa514ab80d4"
  },
  {
   "cell_type": "code",
   "execution_count": 23,
   "outputs": [
    {
     "name": "stdout",
     "output_type": "stream",
     "text": [
      "Review Meta  exported to TorchScript at: /Users/sanamoin/Documents/sites/gadgets/recommendation_engine/outputs/ts/\n"
     ]
    }
   ],
   "source": [
    "export_meta_review_model(\n",
    "    checkpoint_path=\"/Users/sanamoin/Documents/sites/gadgets/recommendation_engine/outputs/meta_review_regressor/run_20250202_233100/checkpoints/best_model_ep4.pth\",\n",
    "    output_dir=\"/Users/sanamoin/Documents/sites/gadgets/recommendation_engine/outputs/ts/\",\n",
    "    output_filename=\"review_metadata_score_model_ts.pt\",\n",
    "    config=rm_config\n",
    ")"
   ],
   "metadata": {
    "collapsed": false,
    "ExecuteTime": {
     "end_time": "2025-04-02T23:23:28.960587Z",
     "start_time": "2025-04-02T23:23:26.770888Z"
    }
   },
   "id": "e3ca672f42e9d7ee"
  },
  {
   "cell_type": "code",
   "execution_count": null,
   "outputs": [],
   "source": [],
   "metadata": {
    "collapsed": false
   },
   "id": "354e1a917966b4bc"
  }
 ],
 "metadata": {
  "kernelspec": {
   "display_name": "Python 3",
   "language": "python",
   "name": "python3"
  },
  "language_info": {
   "codemirror_mode": {
    "name": "ipython",
    "version": 2
   },
   "file_extension": ".py",
   "mimetype": "text/x-python",
   "name": "python",
   "nbconvert_exporter": "python",
   "pygments_lexer": "ipython2",
   "version": "2.7.6"
  }
 },
 "nbformat": 4,
 "nbformat_minor": 5
}
